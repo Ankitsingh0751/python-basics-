{
 "cells": [
  {
   "cell_type": "code",
   "execution_count": 278,
   "metadata": {},
   "outputs": [],
   "source": [
    "#Machine learning  \n",
    "#Linear regression using single variable"
   ]
  },
  {
   "cell_type": "code",
   "execution_count": 279,
   "metadata": {},
   "outputs": [
    {
     "data": {
      "text/html": [
       "<div>\n",
       "<style scoped>\n",
       "    .dataframe tbody tr th:only-of-type {\n",
       "        vertical-align: middle;\n",
       "    }\n",
       "\n",
       "    .dataframe tbody tr th {\n",
       "        vertical-align: top;\n",
       "    }\n",
       "\n",
       "    .dataframe thead th {\n",
       "        text-align: right;\n",
       "    }\n",
       "</style>\n",
       "<table border=\"1\" class=\"dataframe\">\n",
       "  <thead>\n",
       "    <tr style=\"text-align: right;\">\n",
       "      <th></th>\n",
       "      <th>area</th>\n",
       "      <th>price</th>\n",
       "    </tr>\n",
       "  </thead>\n",
       "  <tbody>\n",
       "    <tr>\n",
       "      <th>0</th>\n",
       "      <td>2600</td>\n",
       "      <td>550000</td>\n",
       "    </tr>\n",
       "    <tr>\n",
       "      <th>1</th>\n",
       "      <td>3000</td>\n",
       "      <td>565000</td>\n",
       "    </tr>\n",
       "    <tr>\n",
       "      <th>2</th>\n",
       "      <td>3200</td>\n",
       "      <td>610000</td>\n",
       "    </tr>\n",
       "    <tr>\n",
       "      <th>3</th>\n",
       "      <td>3600</td>\n",
       "      <td>680000</td>\n",
       "    </tr>\n",
       "    <tr>\n",
       "      <th>4</th>\n",
       "      <td>4000</td>\n",
       "      <td>725000</td>\n",
       "    </tr>\n",
       "  </tbody>\n",
       "</table>\n",
       "</div>"
      ],
      "text/plain": [
       "   area   price\n",
       "0  2600  550000\n",
       "1  3000  565000\n",
       "2  3200  610000\n",
       "3  3600  680000\n",
       "4  4000  725000"
      ]
     },
     "execution_count": 279,
     "metadata": {},
     "output_type": "execute_result"
    }
   ],
   "source": [
    "import pandas as pd\n",
    "import numpy as np\n",
    "import matplotlib.pyplot as plt\n",
    "from sklearn import linear_model\n",
    "df = pd.DataFrame({\n",
    "    'area': [2600,3000,3200,3600,4000],\n",
    "    'price': [550000,565000,610000,680000,725000]\n",
    "})\n",
    "df"
   ]
  },
  {
   "cell_type": "code",
   "execution_count": 280,
   "metadata": {},
   "outputs": [
    {
     "data": {
      "text/plain": [
       "<matplotlib.collections.PathCollection at 0x2563444e6c8>"
      ]
     },
     "execution_count": 280,
     "metadata": {},
     "output_type": "execute_result"
    },
    {
     "data": {
      "image/png": "[encoded data removed]",
      "text/plain": [
       "<Figure size 432x288 with 1 Axes>"
      ]
     },
     "metadata": {
      "needs_background": "light"
     },
     "output_type": "display_data"
    }
   ],
   "source": [
    "%matplotlib inline\n",
    "plt.xlabel('area(sqr ft)')\n",
    "plt.ylabel('price(US$)')\n",
    "plt.scatter(df.area,df.price,color='red',marker='+')"
   ]
  },
  {
   "cell_type": "code",
   "execution_count": 281,
   "metadata": {},
   "outputs": [
    {
     "data": {
      "text/plain": [
       "LinearRegression(copy_X=True, fit_intercept=True, n_jobs=None, normalize=False)"
      ]
     },
     "execution_count": 281,
     "metadata": {},
     "output_type": "execute_result"
    }
   ],
   "source": [
    "reg = linear_model.LinearRegression()\n",
    "reg.fit(df[['area']],df.price)"
   ]
  },
  {
   "cell_type": "code",
   "execution_count": 282,
   "metadata": {},
   "outputs": [
    {
     "data": {
      "text/plain": [
       "array([628715.75342466])"
      ]
     },
     "execution_count": 282,
     "metadata": {},
     "output_type": "execute_result"
    }
   ],
   "source": [
    "reg.predict([[3300]])"
   ]
  },
  {
   "cell_type": "code",
   "execution_count": 283,
   "metadata": {},
   "outputs": [
    {
     "data": {
      "text/plain": [
       "array([135.78767123])"
      ]
     },
     "execution_count": 283,
     "metadata": {},
     "output_type": "execute_result"
    }
   ],
   "source": [
    "reg.coef_  #slope(m)"
   ]
  },
  {
   "cell_type": "code",
   "execution_count": 284,
   "metadata": {},
   "outputs": [
    {
     "data": {
      "text/plain": [
       "180616.43835616432"
      ]
     },
     "execution_count": 284,
     "metadata": {},
     "output_type": "execute_result"
    }
   ],
   "source": [
    "reg.intercept_  #b's value"
   ]
  },
  {
   "cell_type": "code",
   "execution_count": 285,
   "metadata": {},
   "outputs": [
    {
     "data": {
      "text/plain": [
       "628715.7534151643"
      ]
     },
     "execution_count": 285,
     "metadata": {},
     "output_type": "execute_result"
    }
   ],
   "source": [
    "#y = m*x+b\n",
    "\n",
    "135.78767123*3300+180616.43835616432"
   ]
  },
  {
   "cell_type": "code",
   "execution_count": 286,
   "metadata": {},
   "outputs": [
    {
     "data": {
      "text/plain": [
       "array([859554.79452055])"
      ]
     },
     "execution_count": 286,
     "metadata": {},
     "output_type": "execute_result"
    }
   ],
   "source": [
    "reg.predict([[5000]])"
   ]
  },
  {
   "cell_type": "code",
   "execution_count": 287,
   "metadata": {},
   "outputs": [
    {
     "data": {
      "text/plain": [
       "[<matplotlib.lines.Line2D at 0x256369dd248>]"
      ]
     },
     "execution_count": 287,
     "metadata": {},
     "output_type": "execute_result"
    },
    {
     "data": {
      "image/png": "[encoded data removed]",
      "text/plain": [
       "<Figure size 432x288 with 1 Axes>"
      ]
     },
     "metadata": {
      "needs_background": "light"
     },
     "output_type": "display_data"
    }
   ],
   "source": [
    "%matplotlib inline\n",
    "plt.xlabel('area',fontsize=20)\n",
    "plt.ylabel('price',fontsize=20)\n",
    "plt.scatter(df.area,df.price,color='red',marker='+')\n",
    "plt.plot(df.area,reg.predict(df[['area']]),color='blue')"
   ]
  },
  {
   "cell_type": "code",
   "execution_count": 288,
   "metadata": {},
   "outputs": [
    {
     "data": {
      "text/html": [
       "<div>\n",
       "<style scoped>\n",
       "    .dataframe tbody tr th:only-of-type {\n",
       "        vertical-align: middle;\n",
       "    }\n",
       "\n",
       "    .dataframe tbody tr th {\n",
       "        vertical-align: top;\n",
       "    }\n",
       "\n",
       "    .dataframe thead th {\n",
       "        text-align: right;\n",
       "    }\n",
       "</style>\n",
       "<table border=\"1\" class=\"dataframe\">\n",
       "  <thead>\n",
       "    <tr style=\"text-align: right;\">\n",
       "      <th></th>\n",
       "      <th>area</th>\n",
       "    </tr>\n",
       "  </thead>\n",
       "  <tbody>\n",
       "    <tr>\n",
       "      <th>0</th>\n",
       "      <td>1000</td>\n",
       "    </tr>\n",
       "    <tr>\n",
       "      <th>1</th>\n",
       "      <td>1500</td>\n",
       "    </tr>\n",
       "    <tr>\n",
       "      <th>2</th>\n",
       "      <td>2300</td>\n",
       "    </tr>\n",
       "    <tr>\n",
       "      <th>3</th>\n",
       "      <td>3500</td>\n",
       "    </tr>\n",
       "    <tr>\n",
       "      <th>4</th>\n",
       "      <td>4120</td>\n",
       "    </tr>\n",
       "    <tr>\n",
       "      <th>5</th>\n",
       "      <td>4560</td>\n",
       "    </tr>\n",
       "    <tr>\n",
       "      <th>6</th>\n",
       "      <td>5490</td>\n",
       "    </tr>\n",
       "    <tr>\n",
       "      <th>7</th>\n",
       "      <td>3460</td>\n",
       "    </tr>\n",
       "    <tr>\n",
       "      <th>8</th>\n",
       "      <td>4750</td>\n",
       "    </tr>\n",
       "    <tr>\n",
       "      <th>9</th>\n",
       "      <td>2300</td>\n",
       "    </tr>\n",
       "    <tr>\n",
       "      <th>10</th>\n",
       "      <td>9000</td>\n",
       "    </tr>\n",
       "    <tr>\n",
       "      <th>11</th>\n",
       "      <td>8000</td>\n",
       "    </tr>\n",
       "  </tbody>\n",
       "</table>\n",
       "</div>"
      ],
      "text/plain": [
       "    area\n",
       "0   1000\n",
       "1   1500\n",
       "2   2300\n",
       "3   3500\n",
       "4   4120\n",
       "5   4560\n",
       "6   5490\n",
       "7   3460\n",
       "8   4750\n",
       "9   2300\n",
       "10  9000\n",
       "11  8000"
      ]
     },
     "execution_count": 288,
     "metadata": {},
     "output_type": "execute_result"
    }
   ],
   "source": [
    "d = pd.DataFrame({\n",
    "    'area': [1000,1500,2300,3500,4120,4560,5490,3460,4750,2300,9000,8000],\n",
    "    \n",
    "})\n",
    "d"
   ]
  },
  {
   "cell_type": "code",
   "execution_count": 289,
   "metadata": {},
   "outputs": [
    {
     "data": {
      "text/html": [
       "<div>\n",
       "<style scoped>\n",
       "    .dataframe tbody tr th:only-of-type {\n",
       "        vertical-align: middle;\n",
       "    }\n",
       "\n",
       "    .dataframe tbody tr th {\n",
       "        vertical-align: top;\n",
       "    }\n",
       "\n",
       "    .dataframe thead th {\n",
       "        text-align: right;\n",
       "    }\n",
       "</style>\n",
       "<table border=\"1\" class=\"dataframe\">\n",
       "  <thead>\n",
       "    <tr style=\"text-align: right;\">\n",
       "      <th></th>\n",
       "      <th>area</th>\n",
       "    </tr>\n",
       "  </thead>\n",
       "  <tbody>\n",
       "    <tr>\n",
       "      <th>0</th>\n",
       "      <td>1000</td>\n",
       "    </tr>\n",
       "    <tr>\n",
       "      <th>1</th>\n",
       "      <td>1500</td>\n",
       "    </tr>\n",
       "    <tr>\n",
       "      <th>2</th>\n",
       "      <td>2300</td>\n",
       "    </tr>\n",
       "  </tbody>\n",
       "</table>\n",
       "</div>"
      ],
      "text/plain": [
       "   area\n",
       "0  1000\n",
       "1  1500\n",
       "2  2300"
      ]
     },
     "execution_count": 289,
     "metadata": {},
     "output_type": "execute_result"
    }
   ],
   "source": [
    "d.head(3)"
   ]
  },
  {
   "cell_type": "code",
   "execution_count": 290,
   "metadata": {},
   "outputs": [
    {
     "data": {
      "text/plain": [
       "array([ 316404.10958904,  384297.94520548,  492928.08219178,\n",
       "        655873.28767123,  740061.64383562,  799808.21917808,\n",
       "        926090.75342466,  650441.78082192,  825607.87671233,\n",
       "        492928.08219178, 1402705.47945205, 1266917.80821918])"
      ]
     },
     "execution_count": 290,
     "metadata": {},
     "output_type": "execute_result"
    }
   ],
   "source": [
    "p = reg.predict(d)\n",
    "p"
   ]
  },
  {
   "cell_type": "code",
   "execution_count": 291,
   "metadata": {},
   "outputs": [
    {
     "data": {
      "text/html": [
       "<div>\n",
       "<style scoped>\n",
       "    .dataframe tbody tr th:only-of-type {\n",
       "        vertical-align: middle;\n",
       "    }\n",
       "\n",
       "    .dataframe tbody tr th {\n",
       "        vertical-align: top;\n",
       "    }\n",
       "\n",
       "    .dataframe thead th {\n",
       "        text-align: right;\n",
       "    }\n",
       "</style>\n",
       "<table border=\"1\" class=\"dataframe\">\n",
       "  <thead>\n",
       "    <tr style=\"text-align: right;\">\n",
       "      <th></th>\n",
       "      <th>area</th>\n",
       "      <th>prices</th>\n",
       "    </tr>\n",
       "  </thead>\n",
       "  <tbody>\n",
       "    <tr>\n",
       "      <th>0</th>\n",
       "      <td>1000</td>\n",
       "      <td>3.164041e+05</td>\n",
       "    </tr>\n",
       "    <tr>\n",
       "      <th>1</th>\n",
       "      <td>1500</td>\n",
       "      <td>3.842979e+05</td>\n",
       "    </tr>\n",
       "    <tr>\n",
       "      <th>2</th>\n",
       "      <td>2300</td>\n",
       "      <td>4.929281e+05</td>\n",
       "    </tr>\n",
       "    <tr>\n",
       "      <th>3</th>\n",
       "      <td>3500</td>\n",
       "      <td>6.558733e+05</td>\n",
       "    </tr>\n",
       "    <tr>\n",
       "      <th>4</th>\n",
       "      <td>4120</td>\n",
       "      <td>7.400616e+05</td>\n",
       "    </tr>\n",
       "    <tr>\n",
       "      <th>5</th>\n",
       "      <td>4560</td>\n",
       "      <td>7.998082e+05</td>\n",
       "    </tr>\n",
       "    <tr>\n",
       "      <th>6</th>\n",
       "      <td>5490</td>\n",
       "      <td>9.260908e+05</td>\n",
       "    </tr>\n",
       "    <tr>\n",
       "      <th>7</th>\n",
       "      <td>3460</td>\n",
       "      <td>6.504418e+05</td>\n",
       "    </tr>\n",
       "    <tr>\n",
       "      <th>8</th>\n",
       "      <td>4750</td>\n",
       "      <td>8.256079e+05</td>\n",
       "    </tr>\n",
       "    <tr>\n",
       "      <th>9</th>\n",
       "      <td>2300</td>\n",
       "      <td>4.929281e+05</td>\n",
       "    </tr>\n",
       "    <tr>\n",
       "      <th>10</th>\n",
       "      <td>9000</td>\n",
       "      <td>1.402705e+06</td>\n",
       "    </tr>\n",
       "    <tr>\n",
       "      <th>11</th>\n",
       "      <td>8000</td>\n",
       "      <td>1.266918e+06</td>\n",
       "    </tr>\n",
       "  </tbody>\n",
       "</table>\n",
       "</div>"
      ],
      "text/plain": [
       "    area        prices\n",
       "0   1000  3.164041e+05\n",
       "1   1500  3.842979e+05\n",
       "2   2300  4.929281e+05\n",
       "3   3500  6.558733e+05\n",
       "4   4120  7.400616e+05\n",
       "5   4560  7.998082e+05\n",
       "6   5490  9.260908e+05\n",
       "7   3460  6.504418e+05\n",
       "8   4750  8.256079e+05\n",
       "9   2300  4.929281e+05\n",
       "10  9000  1.402705e+06\n",
       "11  8000  1.266918e+06"
      ]
     },
     "execution_count": 291,
     "metadata": {},
     "output_type": "execute_result"
    }
   ],
   "source": [
    "d['prices'] = p\n",
    "d"
   ]
  },
  {
   "cell_type": "code",
   "execution_count": 292,
   "metadata": {},
   "outputs": [],
   "source": [
    "d.to_csv(\"prediction.csv\",index = False) #if we have to export the prediction to the csv file that we have."
   ]
  },
  {
   "cell_type": "code",
   "execution_count": null,
   "metadata": {},
   "outputs": [],
   "source": []
  },
  {
   "cell_type": "code",
   "execution_count": null,
   "metadata": {},
   "outputs": [],
   "source": []
  },
  {
   "cell_type": "code",
   "execution_count": 293,
   "metadata": {},
   "outputs": [],
   "source": [
    "#Linear regression using multiple variable"
   ]
  },
  {
   "cell_type": "code",
   "execution_count": 294,
   "metadata": {},
   "outputs": [
    {
     "data": {
      "text/html": [
       "<div>\n",
       "<style scoped>\n",
       "    .dataframe tbody tr th:only-of-type {\n",
       "        vertical-align: middle;\n",
       "    }\n",
       "\n",
       "    .dataframe tbody tr th {\n",
       "        vertical-align: top;\n",
       "    }\n",
       "\n",
       "    .dataframe thead th {\n",
       "        text-align: right;\n",
       "    }\n",
       "</style>\n",
       "<table border=\"1\" class=\"dataframe\">\n",
       "  <thead>\n",
       "    <tr style=\"text-align: right;\">\n",
       "      <th></th>\n",
       "      <th>area</th>\n",
       "      <th>bedrooms</th>\n",
       "      <th>age</th>\n",
       "      <th>price</th>\n",
       "    </tr>\n",
       "  </thead>\n",
       "  <tbody>\n",
       "    <tr>\n",
       "      <th>0</th>\n",
       "      <td>2600</td>\n",
       "      <td>3</td>\n",
       "      <td>20</td>\n",
       "      <td>550000</td>\n",
       "    </tr>\n",
       "    <tr>\n",
       "      <th>1</th>\n",
       "      <td>3000</td>\n",
       "      <td>4</td>\n",
       "      <td>15</td>\n",
       "      <td>565000</td>\n",
       "    </tr>\n",
       "    <tr>\n",
       "      <th>2</th>\n",
       "      <td>3200</td>\n",
       "      <td>0</td>\n",
       "      <td>18</td>\n",
       "      <td>610000</td>\n",
       "    </tr>\n",
       "    <tr>\n",
       "      <th>3</th>\n",
       "      <td>3600</td>\n",
       "      <td>3</td>\n",
       "      <td>30</td>\n",
       "      <td>595000</td>\n",
       "    </tr>\n",
       "    <tr>\n",
       "      <th>4</th>\n",
       "      <td>4000</td>\n",
       "      <td>5</td>\n",
       "      <td>8</td>\n",
       "      <td>760000</td>\n",
       "    </tr>\n",
       "  </tbody>\n",
       "</table>\n",
       "</div>"
      ],
      "text/plain": [
       "   area  bedrooms  age   price\n",
       "0  2600         3   20  550000\n",
       "1  3000         4   15  565000\n",
       "2  3200         0   18  610000\n",
       "3  3600         3   30  595000\n",
       "4  4000         5    8  760000"
      ]
     },
     "execution_count": 294,
     "metadata": {},
     "output_type": "execute_result"
    }
   ],
   "source": [
    "f = pd.DataFrame({\n",
    "    'area': [2600,3000,3200,3600,4000],\n",
    "    'bedrooms': [3,4,0 ,3,5],\n",
    "    'age': [20,15,18,30,8],\n",
    "    'price': [550000,565000,610000,595000,760000]\n",
    "})\n",
    "f"
   ]
  },
  {
   "cell_type": "code",
   "execution_count": 295,
   "metadata": {},
   "outputs": [],
   "source": [
    "#linear equation will be price = m1*area+m2*bedrooms+m3+age+b\n"
   ]
  },
  {
   "cell_type": "code",
   "execution_count": 296,
   "metadata": {},
   "outputs": [
    {
     "data": {
      "text/plain": [
       "3"
      ]
     },
     "execution_count": 296,
     "metadata": {},
     "output_type": "execute_result"
    }
   ],
   "source": [
    "import math\n",
    "median_bedrooms=math.floor(f.bedrooms.median())\n",
    "median_bedrooms"
   ]
  },
  {
   "cell_type": "code",
   "execution_count": 297,
   "metadata": {},
   "outputs": [
    {
     "data": {
      "text/html": [
       "<div>\n",
       "<style scoped>\n",
       "    .dataframe tbody tr th:only-of-type {\n",
       "        vertical-align: middle;\n",
       "    }\n",
       "\n",
       "    .dataframe tbody tr th {\n",
       "        vertical-align: top;\n",
       "    }\n",
       "\n",
       "    .dataframe thead th {\n",
       "        text-align: right;\n",
       "    }\n",
       "</style>\n",
       "<table border=\"1\" class=\"dataframe\">\n",
       "  <thead>\n",
       "    <tr style=\"text-align: right;\">\n",
       "      <th></th>\n",
       "      <th>area</th>\n",
       "      <th>bedrooms</th>\n",
       "      <th>age</th>\n",
       "      <th>price</th>\n",
       "    </tr>\n",
       "  </thead>\n",
       "  <tbody>\n",
       "    <tr>\n",
       "      <th>0</th>\n",
       "      <td>2600</td>\n",
       "      <td>3</td>\n",
       "      <td>20</td>\n",
       "      <td>550000</td>\n",
       "    </tr>\n",
       "    <tr>\n",
       "      <th>1</th>\n",
       "      <td>3000</td>\n",
       "      <td>4</td>\n",
       "      <td>15</td>\n",
       "      <td>565000</td>\n",
       "    </tr>\n",
       "    <tr>\n",
       "      <th>2</th>\n",
       "      <td>3200</td>\n",
       "      <td>0</td>\n",
       "      <td>18</td>\n",
       "      <td>610000</td>\n",
       "    </tr>\n",
       "    <tr>\n",
       "      <th>3</th>\n",
       "      <td>3600</td>\n",
       "      <td>3</td>\n",
       "      <td>30</td>\n",
       "      <td>595000</td>\n",
       "    </tr>\n",
       "    <tr>\n",
       "      <th>4</th>\n",
       "      <td>4000</td>\n",
       "      <td>5</td>\n",
       "      <td>8</td>\n",
       "      <td>760000</td>\n",
       "    </tr>\n",
       "  </tbody>\n",
       "</table>\n",
       "</div>"
      ],
      "text/plain": [
       "   area  bedrooms  age   price\n",
       "0  2600         3   20  550000\n",
       "1  3000         4   15  565000\n",
       "2  3200         0   18  610000\n",
       "3  3600         3   30  595000\n",
       "4  4000         5    8  760000"
      ]
     },
     "execution_count": 297,
     "metadata": {},
     "output_type": "execute_result"
    }
   ],
   "source": [
    "f.bedrooms=f.bedrooms.fillna(median_bedrooms)\n",
    "f\n",
    "#this will fill the median value in the missing value"
   ]
  },
  {
   "cell_type": "code",
   "execution_count": 298,
   "metadata": {},
   "outputs": [
    {
     "data": {
      "text/plain": [
       "LinearRegression(copy_X=True, fit_intercept=True, n_jobs=None, normalize=False)"
      ]
     },
     "execution_count": 298,
     "metadata": {},
     "output_type": "execute_result"
    }
   ],
   "source": [
    "reg = linear_model.LinearRegression()\n",
    "reg.fit(f[['area','bedrooms','age']],f.price)"
   ]
  },
  {
   "cell_type": "code",
   "execution_count": 299,
   "metadata": {},
   "outputs": [
    {
     "data": {
      "text/plain": [
       "array([  120.07395326, -1761.98163423, -4850.61775289])"
      ]
     },
     "execution_count": 299,
     "metadata": {},
     "output_type": "execute_result"
    }
   ],
   "source": [
    "reg.coef_"
   ]
  },
  {
   "cell_type": "code",
   "execution_count": 300,
   "metadata": {},
   "outputs": [
    {
     "data": {
      "text/plain": [
       "315724.62131516926"
      ]
     },
     "execution_count": 300,
     "metadata": {},
     "output_type": "execute_result"
    }
   ],
   "source": [
    "reg.intercept_"
   ]
  },
  {
   "cell_type": "code",
   "execution_count": 301,
   "metadata": {},
   "outputs": [
    {
     "data": {
      "text/plain": [
       "array([476635.82607446])"
      ]
     },
     "execution_count": 301,
     "metadata": {},
     "output_type": "execute_result"
    }
   ],
   "source": [
    "reg.predict([[3000,3,40]])"
   ]
  },
  {
   "cell_type": "code",
   "execution_count": 302,
   "metadata": {},
   "outputs": [
    {
     "data": {
      "text/plain": [
       "476635.8260768793"
      ]
     },
     "execution_count": 302,
     "metadata": {},
     "output_type": "execute_result"
    }
   ],
   "source": [
    "120.07395326*3000+-1761.98163423*3+-4850.61775289*40+315724.62131516926"
   ]
  },
  {
   "cell_type": "code",
   "execution_count": 303,
   "metadata": {},
   "outputs": [
    {
     "data": {
      "text/plain": [
       "array([584608.48916173])"
      ]
     },
     "execution_count": 303,
     "metadata": {},
     "output_type": "execute_result"
    }
   ],
   "source": [
    "reg.predict([[2500,4,5]])"
   ]
  },
  {
   "cell_type": "code",
   "execution_count": null,
   "metadata": {},
   "outputs": [],
   "source": []
  },
  {
   "cell_type": "code",
   "execution_count": 304,
   "metadata": {},
   "outputs": [],
   "source": [
    "#exercise \n",
    "#word to number\n",
    "#pip install word2number(use the module)\n",
    "#figure out salaries for two candidates 2 years,9test score,6 interview score\n",
    "#12 yrs experience, 10 test score,10 interview score"
   ]
  },
  {
   "cell_type": "code",
   "execution_count": null,
   "metadata": {},
   "outputs": [],
   "source": []
  },
  {
   "cell_type": "code",
   "execution_count": null,
   "metadata": {},
   "outputs": [],
   "source": []
  },
  {
   "cell_type": "code",
   "execution_count": 305,
   "metadata": {},
   "outputs": [],
   "source": [
    "#Gradient descent and cost function"
   ]
  },
  {
   "cell_type": "code",
   "execution_count": 306,
   "metadata": {},
   "outputs": [],
   "source": [
    "#mean square error (mse=1/n(1to n (actual point to predicted point)^2)) \n",
    "# cost function  (mse=1/n(1to n (yi - (mxi + b))^2)) "
   ]
  },
  {
   "cell_type": "code",
   "execution_count": 307,
   "metadata": {},
   "outputs": [],
   "source": [
    "#Gradient descent is an algo that finds best fit line for given training data set\n",
    "#calculating slope at points to see the best fit of the point, for that we need to work some calculus of one variable(f=x^2) and with two variable e.g (f = x^2+y^3)\n",
    "#so we will calculate the partial derivative for the cost function.\n",
    "#it becomes d/dm = 2/n(1 to n -xi(yi-(mxi+b)))\n",
    "# d/db = 2/n(1 to n -(yi-(mxi+b)))\n",
    "#after that we calculate the learning rate (  m = m-learning rate*d/dm)\n",
    "#(b = b - learning rate*d/db)\n"
   ]
  },
  {
   "cell_type": "code",
   "execution_count": 308,
   "metadata": {},
   "outputs": [],
   "source": [
    "import numpy as np\n",
    "import matplotlib as plt\n",
    "def gradient_descent(x,y):\n",
    "    m_curr = b_curr = 0\n",
    "    iterations = 1000\n",
    "    n = len(x)\n",
    "    learning_rate = 0.001\n",
    "    for i in range(iterations):\n",
    "        y_predicted = m_curr*x+b_curr\n",
    "        cost = (1/n) * sum([val**2 for val in (y-y_predicted)]) #to find the cost\n",
    "        \n",
    "        md = -(2/n)*sum(x*(y-y_predicted))\n",
    "        bd = -(2/n)*sum(y-y_predicted)\n",
    "        m_curr = m_curr - learning_rate * md\n",
    "        b_curr = b_curr - learning_rate *bd\n",
    "        print(\"m {}, b {} , iteration {}\".format(m_curr,b_curr,i))\n",
    "\n",
    "        \n",
    "\n",
    "#to check which is the optimum point you can manipulate the iterations and learning rate and try to come up witht he closing point as possible and when you find that your cost starts to shift slope you stop, same goes for the iterations, when we see we get the m and b 's optimum value we stop."
   ]
  },
  {
   "cell_type": "code",
   "execution_count": 309,
   "metadata": {},
   "outputs": [],
   "source": [
    "x = np.array([1,2,3,4,5])\n",
    "y= np.array([5,7,9,11,13])\n"
   ]
  },
  {
   "cell_type": "code",
   "execution_count": 310,
   "metadata": {},
   "outputs": [
    {
     "name": "stdout",
     "output_type": "stream",
     "text": [
      "m 0.062, b 0.018000000000000002 , iteration 0\n",
      "m 0.122528, b 0.035592000000000006 , iteration 1\n",
      "m 0.181618832, b 0.052785648000000004 , iteration 2\n",
      "m 0.239306503808, b 0.069590363712 , iteration 3\n",
      "m 0.29562421854195203, b 0.086015343961728 , iteration 4\n",
      "m 0.35060439367025875, b 0.10206956796255283 , iteration 5\n",
      "m 0.40427867960173774, b 0.11776180246460617 , iteration 6\n",
      "m 0.4566779778357119, b 0.13310060678206653 , iteration 7\n",
      "m 0.5078324586826338, b 0.14809433770148814 , iteration 8\n",
      "m 0.5577715785654069, b 0.16275115427398937 , iteration 9\n",
      "m 0.606524096911324, b 0.17707902249404894 , iteration 10\n",
      "m 0.6541180926443106, b 0.1910857198675929 , iteration 11\n",
      "m 0.7005809802869303, b 0.20477883987199186 , iteration 12\n",
      "m 0.7459395256813859, b 0.2181657963105263 , iteration 13\n",
      "m 0.7902198613385323, b 0.23125382756381693 , iteration 14\n",
      "m 0.8334475014237017, b 0.2440500007406581 , iteration 15\n",
      "m 0.8756473563879363, b 0.25656121573063456 , iteration 16\n",
      "m 0.916843747253018, b 0.2687942091608457 , iteration 17\n",
      "m 0.9570604195584865, b 0.2807555582590059 , iteration 18\n",
      "m 0.9963205569786457, b 0.29245168462513693 , iteration 19\n",
      "m 1.0346467946173648, b 0.30388885791401476 , iteration 20\n",
      "m 1.0720612319882987, b 0.31507319943048256 , iteration 21\n",
      "m 1.1085854456879733, b 0.3260106856396918 , iteration 22\n",
      "m 1.1442405017689998, b 0.3367071515942846 , iteration 23\n",
      "m 1.1790469678205162, b 0.347168294280482 , iteration 24\n",
      "m 1.213024924762782, b 0.35739967588499794 , iteration 25\n",
      "m 1.2461939783626907, b 0.36740672698465127 , iteration 26\n",
      "m 1.2785732704768036, b 0.3771947496605058 , iteration 27\n",
      "m 1.3101814900283508, b 0.38676892053832396 , iteration 28\n",
      "m 1.3410368837244973, b 0.3961342937570772 , iteration 29\n",
      "m 1.3711572665200158, b 0.4052958038672161 , iteration 30\n",
      "m 1.4005600318333722, b 0.4142582686603616 , iteration 31\n",
      "m 1.4292621615210759, b 0.4230263919320406 , iteration 32\n",
      "m 1.45728023561602, b 0.4316047661790501 , iteration 33\n",
      "m 1.4846304418353933, b 0.4399978752329959 , iteration 34\n",
      "m 1.5113285848636167, b 0.4482100968315175 , iteration 35\n",
      "m 1.5373900954156279, b 0.4562457051286728 , iteration 36\n",
      "m 1.562830039085712, b 0.4641088731459217 , iteration 37\n",
      "m 1.5876631249869508, b 0.47180367516511557 , iteration 38\n",
      "m 1.6119037141862471, b 0.47933408906486363 , iteration 39\n",
      "m 1.6355658279397605, b 0.48670399860161645 , iteration 40\n",
      "m 1.6586631557334761, b 0.49391719563677466 , iteration 41\n",
      "m 1.681209063133519, b 0.5009773823111002 , iteration 42\n",
      "m 1.703216599450715, b 0.5078881731676769 , iteration 43\n",
      "m 1.724698505223793, b 0.5146530972246373 , iteration 44\n",
      "m 1.7456672195255218, b 0.5212755999988452 , iteration 45\n",
      "m 1.7661348870959672, b 0.5277590454816944 , iteration 46\n",
      "m 1.7861133653069659, b 0.5341067180681552 , iteration 47\n",
      "m 1.8056142309618037, b 0.5403218244401772 , iteration 48\n",
      "m 1.824648786934003, b 0.546407495405526 , iteration 49\n",
      "m 1.8432280686490217, b 0.552366787693111 , iteration 50\n",
      "m 1.8613628504125845, b 0.5582026857058306 , iteration 51\n",
      "m 1.8790636515892727, b 0.5639181032319435 , iteration 52\n",
      "m 1.896340742634917, b 0.569515885115944 , iteration 53\n",
      "m 1.9132041509862532, b 0.5749988088899026 , iteration 54\n",
      "m 1.9296636668112161, b 0.5803695863662053 , iteration 55\n",
      "m 1.945728848623172, b 0.5856308651926055 , iteration 56\n",
      "m 1.9614090287623067, b 0.5907852303704813 , iteration 57\n",
      "m 1.9767133187473132, b 0.5958352057371664 , iteration 58\n",
      "m 1.9916506145004493, b 0.6007832554132082 , iteration 59\n",
      "m 2.0062296014489602, b 0.6056317852153791 , iteration 60\n",
      "m 2.020458759505791, b 0.6103831440362546 , iteration 61\n",
      "m 2.034346367932446, b 0.6150396251911473 , iteration 62\n",
      "m 2.0479005100867855, b 0.6196034677331703 , iteration 63\n",
      "m 2.0611290780584772, b 0.6240768577371832 , iteration 64\n",
      "m 2.0740397771947676, b 0.628461929553358 , iteration 65\n",
      "m 2.0866401305191626, b 0.6327607670310826 , iteration 66\n",
      "m 2.0989374830455545, b 0.6369754047139055 , iteration 67\n",
      "m 2.110939005990269, b 0.6411078290062043 , iteration 68\n",
      "m 2.122651700884446, b 0.6451599793122503 , iteration 69\n",
      "m 2.1340824035891144, b 0.6491337491483191 , iteration 70\n",
      "m 2.145237788215264, b 0.6530309872284878 , iteration 71\n",
      "m 2.156124370951157, b 0.6568534985247393 , iteration 72\n",
      "m 2.166748513799083, b 0.6606030453019829 , iteration 73\n",
      "m 2.1771164282236914, b 0.6642813481285844 , iteration 74\n",
      "m 2.187234178713999, b 0.6678900868629851 , iteration 75\n",
      "m 2.1971076862611127, b 0.6714309016169752 , iteration 76\n",
      "m 2.2067427317536663, b 0.6749053936961745 , iteration 77\n",
      "m 2.2161449592929086, b 0.6783151265182602 , iteration 78\n",
      "m 2.225319879429355, b 0.6816616265094663 , iteration 79\n",
      "m 2.2342728723228524, b 0.6849463839798712 , iteration 80\n",
      "m 2.2430091908278706, b 0.6881708539779743 , iteration 81\n",
      "m 2.2515339635057896, b 0.6913364571250511 , iteration 82\n",
      "m 2.259852197565912, b 0.6944445804297663 , iteration 83\n",
      "m 2.2679687817368834, b 0.6974965780835113 , iteration 84\n",
      "m 2.2758884890701707, b 0.700493772236923 , iteration 85\n",
      "m 2.2836159796772053, b 0.7034374537580281 , iteration 86\n",
      "m 2.2911558034017587, b 0.7063288829724489 , iteration 87\n",
      "m 2.2985124024290853, b 0.7091692903860934 , iteration 88\n",
      "m 2.305690113833329, b 0.7119598773907467 , iteration 89\n",
      "m 2.312693172064651, b 0.7147018169529653 , iteration 90\n",
      "m 2.3195257113775107, b 0.7173962542866714 , iteration 91\n",
      "m 2.3261917682014857, b 0.7200443075098331 , iteration 92\n",
      "m 2.332695283455994, b 0.7226470682856044 , iteration 93\n",
      "m 2.3390401048102483, b 0.7252056024482972 , iteration 94\n",
      "m 2.345229988889733, b 0.7277209506145391 , iteration 95\n",
      "m 2.3512686034304715, b 0.7301941287799717 , iteration 96\n",
      "m 2.3571595293823213, b 0.7326261289018289 , iteration 97\n",
      "m 2.362906262962499, b 0.7350179194677313 , iteration 98\n",
      "m 2.3685122176605176, b 0.7373704460510209 , iteration 99\n",
      "m 2.37398072619568, b 0.7396846318529557 , iteration 100\n",
      "m 2.3793150424282574, b 0.7419613782320758 , iteration 101\n",
      "m 2.384518343225443, b 0.7442015652210421 , iteration 102\n",
      "m 2.389593730283157, b 0.7464060520312473 , iteration 103\n",
      "m 2.39454423190474, b 0.7485756775454859 , iteration 104\n",
      "m 2.399372804737563, b 0.7507112607989666 , iteration 105\n",
      "m 2.4040823354685426, b 0.7528136014489433 , iteration 106\n",
      "m 2.408675642479541, b 0.7548834802332341 , iteration 107\n",
      "m 2.4131554774635915, b 0.7569216594178905 , iteration 108\n",
      "m 2.417524527002885, b 0.7589288832342731 , iteration 109\n",
      "m 2.421785414109416, b 0.7609058783057873 , iteration 110\n",
      "m 2.425940699729174, b 0.7628533540645192 , iteration 111\n",
      "m 2.429992884210745, b 0.7647720031580151 , iteration 112\n",
      "m 2.4339444087391606, b 0.7666625018464346 , iteration 113\n",
      "m 2.4377976567358206, b 0.7685255103903067 , iteration 114\n",
      "m 2.441554955225291, b 0.7703616734291112 , iteration 115\n",
      "m 2.44521857616976, b 0.7721716203509013 , iteration 116\n",
      "m 2.44879073777192, b 0.7739559656531809 , iteration 117\n",
      "m 2.4522736057470187, b 0.775715309295243 , iteration 118\n",
      "m 2.455669294564813, b 0.7774502370421704 , iteration 119\n",
      "m 2.458979868662134, b 0.7791613208006972 , iteration 120\n",
      "m 2.462207343626763, b 0.780849118947123 , iteration 121\n",
      "m 2.4653536873532915, b 0.7825141766474683 , iteration 122\n",
      "m 2.4684208211716343, b 0.7841570261700536 , iteration 123\n",
      "m 2.4714106209488382, b 0.7857781871906836 , iteration 124\n",
      "m 2.4743249181648195, b 0.7873781670906091 , iteration 125\n",
      "m 2.47716550096265, b 0.788957461247439 , iteration 126\n",
      "m 2.479934115173987, b 0.7905165533191683 , iteration 127\n",
      "m 2.4826324653202443, b 0.792055915521486 , iteration 128\n",
      "m 2.48526221559007, b 0.7935760088985215 , iteration 129\n",
      "m 2.487824990793697, b 0.7950772835871841 , iteration 130\n",
      "m 2.4903223772947127, b 0.7965601790752476 , iteration 131\n",
      "m 2.4927559239197774, b 0.7980251244533287 , iteration 132\n",
      "m 2.4951271428468225, b 0.7994725386609034 , iteration 133\n",
      "m 2.497437510472227, b 0.8009028307265007 , iteration 134\n",
      "m 2.499688468257479, b 0.8023164000022144 , iteration 135\n",
      "m 2.501881423555801, b 0.8037136363926651 , iteration 136\n",
      "m 2.5040177504192176, b 0.805094920578545 , iteration 137\n",
      "m 2.5060987903865235, b 0.8064606242348726 , iteration 138\n",
      "m 2.508125853252611, b 0.8078111102440837 , iteration 139\n",
      "m 2.510100217819589, b 0.8091467329040799 , iteration 140\n",
      "m 2.5120231326301337, b 0.8104678381313543 , iteration 141\n",
      "m 2.5138958166834824, b 0.8117747636593108 , iteration 142\n",
      "m 2.51571946013449, b 0.8130678392318913 , iteration 143\n",
      "m 2.5174952249761398, b 0.8143473867926205 , iteration 144\n",
      "m 2.519224245705909, b 0.8156137206691785 , iteration 145\n",
      "m 2.5209076299763638, b 0.8168671477536047 , iteration 146\n",
      "m 2.522546459230362, b 0.8181079676782393 , iteration 147\n",
      "m 2.5241417893212246, b 0.8193364729875007 , iteration 148\n",
      "m 2.5256946511182328, b 0.8205529493055983 , iteration 149\n",
      "m 2.527206051097798, b 0.8217576755002777 , iteration 150\n",
      "m 2.528676971920645, b 0.8229509238426903 , iteration 151\n",
      "m 2.5301083729953344, b 0.824132960163481 , iteration 152\n",
      "m 2.531501191028456, b 0.8253040440051821 , iteration 153\n",
      "m 2.532856340561799, b 0.826464428771001 , iteration 154\n",
      "m 2.5341747144968134, b 0.8276143618700882 , iteration 155\n",
      "m 2.535457184606663, b 0.8287540848593671 , iteration 156\n",
      "m 2.5367046020361603, b 0.8298838335820083 , iteration 157\n",
      "m 2.5379177977898726, b 0.8310038383026274 , iteration 158\n",
      "m 2.5390975832086795, b 0.8321143238392829 , iteration 159\n",
      "m 2.5402447504350527, b 0.8332155096923523 , iteration 160\n",
      "m 2.5413600728673273, b 0.8343076101703573 , iteration 161\n",
      "m 2.542444305603224, b 0.8353908345128126 , iteration 162\n",
      "m 2.5434981858728762, b 0.8364653870101676 , iteration 163\n",
      "m 2.544522433461612, b 0.83753146712091 , iteration 164\n",
      "m 2.5455177511227314, b 0.8385892695858985 , iteration 165\n",
      "m 2.546484824980516, b 0.8396389845399903 , iteration 166\n",
      "m 2.5474243249237047, b 0.8406807976210272 , iteration 167\n",
      "m 2.548336904989657, b 0.8417148900762429 , iteration 168\n",
      "m 2.549223203739427, b 0.8427414388661525 , iteration 169\n",
      "m 2.5500838446239626, b 0.8437606167659836 , iteration 170\n",
      "m 2.5509194363416396, b 0.8447725924647078 , iteration 171\n",
      "m 2.5517305731873354, b 0.8457775306617286 , iteration 172\n",
      "m 2.552517835393244, b 0.8467755921612811 , iteration 173\n",
      "m 2.5532817894616247, b 0.847766933964599 , iteration 174\n",
      "m 2.5540229884896815, b 0.8487517093599001 , iteration 175\n",
      "m 2.5547419724867493, b 0.8497300680102422 , iteration 176\n",
      "m 2.5554392686839793, b 0.8507021560393012 , iteration 177\n",
      "m 2.556115391836696, b 0.8516681161151187 , iteration 178\n",
      "m 2.556770844519598, b 0.8526280875318684 , iteration 179\n",
      "m 2.557406117414976, b 0.8535822062896871 , iteration 180\n",
      "m 2.558021689594108, b 0.8545306051726178 , iteration 181\n",
      "m 2.558618028792002, b 0.8554734138247079 , iteration 182\n",
      "m 2.5591955916756297, b 0.8564107588243064 , iteration 183\n",
      "m 2.55975482410582, b 0.857342763756604 , iteration 184\n",
      "m 2.560296161392952, b 0.8582695492844559 , iteration 185\n",
      "m 2.5608200285466003, b 0.8591912332175292 , iteration 186\n",
      "m 2.56132684051927, b 0.8601079305798146 , iteration 187\n",
      "m 2.561817002444367, b 0.8610197536755394 , iteration 188\n",
      "m 2.562290909868538, b 0.8619268121535221 , iteration 189\n",
      "m 2.5627489489785087, b 0.8628292130700038 , iteration 190\n",
      "m 2.5631914968225615, b 0.8637270609499927 , iteration 191\n",
      "m 2.563618921526765, b 0.8646204578471574 , iteration 192\n",
      "m 2.564031582506093, b 0.8655095034023025 , iteration 193\n",
      "m 2.5644298306705453, b 0.8663942949004613 , iteration 194\n",
      "m 2.5648140086263904, b 0.867274927326637 , iteration 195\n",
      "m 2.56518445087265, b 0.8681514934202255 , iteration 196\n",
      "m 2.5655414839929302, b 0.8690240837281491 , iteration 197\n",
      "m 2.565885426842717, b 0.8698927866567352 , iteration 198\n",
      "m 2.5662165907322367, b 0.8707576885223655 , iteration 199\n",
      "m 2.5665352796049934, b 0.8716188736009273 , iteration 200\n",
      "m 2.566841790212078, b 0.8724764241760955 , iteration 201\n",
      "m 2.567136412282356, b 0.8733304205864708 , iteration 202\n",
      "m 2.567419428688625, b 0.8741809412716037 , iteration 203\n",
      "m 2.5676911156098456, b 0.8750280628169288 , iteration 204\n",
      "m 2.5679517426895275, b 0.8758718599976358 , iteration 205\n",
      "m 2.5682015731903722, b 0.8767124058215034 , iteration 206\n",
      "m 2.568440864145255, b 0.8775497715707182 , iteration 207\n",
      "m 2.5686698665046355, b 0.8783840268427052 , iteration 208\n",
      "m 2.568888825280477, b 0.879215239589992 , iteration 209\n",
      "m 2.5690979796867666, b 0.8800434761591291 , iteration 210\n",
      "m 2.569297563276703, b 0.8808688013286903 , iteration 211\n",
      "m 2.569487804076643, b 0.8816912783463727 , iteration 212\n",
      "m 2.5696689247168787, b 0.8825109689652201 , iteration 213\n",
      "m 2.569841142559316, b 0.8833279334789884 , iteration 214\n",
      "m 2.5700046698221373, b 0.8841422307566745 , iteration 215\n",
      "m 2.57015971370151, b 0.8849539182762284 , iteration 216\n",
      "m 2.5703064764904195, b 0.8857630521574669 , iteration 217\n",
      "m 2.5704451556946855, b 0.8865696871942094 , iteration 218\n",
      "m 2.570575944146237, b 0.8873738768856528 , iteration 219\n",
      "m 2.570699030113706, b 0.8881756734670041 , iteration 220\n",
      "m 2.5708145974104024, b 0.8889751279393878 , iteration 221\n",
      "m 2.5709228254997374, b 0.8897722900990467 , iteration 222\n",
      "m 2.5710238895981488, b 0.8905672085658501 , iteration 223\n",
      "m 2.5711179607755943, b 0.8913599308111295 , iteration 224\n",
      "m 2.5712052060536643, b 0.8921505031848537 , iteration 225\n",
      "m 2.5712857885013745, b 0.892938970942162 , iteration 226\n",
      "m 2.5713598673286913, b 0.8937253782692695 , iteration 227\n",
      "m 2.5714275979778445, b 0.8945097683087587 , iteration 228\n",
      "m 2.5714891322124793, b 0.8952921831842742 , iteration 229\n",
      "m 2.5715446182046993, b 0.8960726640246307 , iteration 230\n",
      "m 2.5715942006200483, b 0.8968512509873533 , iteration 231\n",
      "m 2.571638020700483, b 0.8976279832816583 , iteration 232\n",
      "m 2.5716762163453826, b 0.898402899190892 , iteration 233\n",
      "m 2.5717089221906386, b 0.899176036094438 , iteration 234\n",
      "m 2.571736269685878, b 0.8999474304891053 , iteration 235\n",
      "m 2.571758387169854, b 0.9007171180100119 , iteration 236\n",
      "m 2.571775399944057, b 0.9014851334509727 , iteration 237\n",
      "m 2.5717874303445822, b 0.9022515107844065 , iteration 238\n",
      "m 2.571794597812295, b 0.9030162831807702 , iteration 239\n",
      "m 2.5717970189613397, b 0.9037794830275349 , iteration 240\n",
      "m 2.571794807646025, b 0.9045411419477117 , iteration 241\n",
      "m 2.571788075026126, b 0.9053012908179402 , iteration 242\n",
      "m 2.5717769296306434, b 0.9060599597861475 , iteration 243\n",
      "m 2.5717614774200523, b 0.9068171782887914 , iteration 244\n",
      "m 2.5717418218470782, b 0.9075729750676935 , iteration 245\n",
      "m 2.571718063916036, b 0.9083273781864757 , iteration 246\n",
      "m 2.5716903022407647, b 0.9090804150466065 , iteration 247\n",
      "m 2.571658633101188, b 0.9098321124030687 , iteration 248\n",
      "m 2.5716231504985436, b 0.9105824963796555 , iteration 249\n",
      "m 2.5715839462092975, b 0.9113315924839049 , iteration 250\n",
      "m 2.5715411098377894, b 0.9120794256216813 , iteration 251\n",
      "m 2.571494728867628, b 0.9128260201114112 , iteration 252\n",
      "m 2.5714448887118717, b 0.9135713996979826 , iteration 253\n",
      "m 2.5713916727620227, b 0.9143155875663155 , iteration 254\n",
      "m 2.5713351624358602, b 0.9150586063546107 , iteration 255\n",
      "m 2.5712754372241435, b 0.9158004781672863 , iteration 256\n",
      "m 2.5712125747362085, b 0.9165412245876068 , iteration 257\n",
      "m 2.5711466507444865, b 0.9172808666900143 , iteration 258\n",
      "m 2.5710777392279676, b 0.9180194250521674 , iteration 259\n",
      "m 2.5710059124146394, b 0.9187569197666953 , iteration 260\n",
      "m 2.570931240822917, b 0.9194933704526741 , iteration 261\n",
      "m 2.570853793302097, b 0.9202287962668313 , iteration 262\n",
      "m 2.57077363707185, b 0.920963215914485 , iteration 263\n",
      "m 2.5706908377607824, b 0.921696647660225 , iteration 264\n",
      "m 2.5706054594440837, b 0.9224291093383398 , iteration 265\n",
      "m 2.570517564680284, b 0.9231606183629986 , iteration 266\n",
      "m 2.5704272145471396, b 0.9238911917381909 , iteration 267\n",
      "m 2.5703344686766734, b 0.9246208460674317 , iteration 268\n",
      "m 2.570239385289382, b 0.9253495975632368 , iteration 269\n",
      "m 2.5701420212276362, b 0.926077462056374 , iteration 270\n",
      "m 2.57004243198829, b 0.9268044550048954 , iteration 271\n",
      "m 2.569940671754518, b 0.9275305915029559 , iteration 272\n",
      "m 2.569836793426901, b 0.9282558862894229 , iteration 273\n",
      "m 2.569730848653773, b 0.9289803537562826 , iteration 274\n",
      "m 2.5696228878608522, b 0.9297040079568474 , iteration 275\n",
      "m 2.5695129602801723, b 0.9304268626137686 , iteration 276\n",
      "m 2.569401113978326, b 0.93114893112686 , iteration 277\n",
      "m 2.5692873958840416, b 0.9318702265807364 , iteration 278\n",
      "m 2.569171851815108, b 0.9325907617522706 , iteration 279\n",
      "m 2.569054526504662, b 0.9333105491178755 , iteration 280\n",
      "m 2.568935463626852, b 0.9340296008606117 , iteration 281\n",
      "m 2.568814705821898, b 0.9347479288771293 , iteration 282\n",
      "m 2.5686922947205533, b 0.9354655447844437 , iteration 283\n",
      "m 2.5685682709679942, b 0.9361824599265515 , iteration 284\n",
      "m 2.568442674247139, b 0.9368986853808904 , iteration 285\n",
      "m 2.568315543301417, b 0.9376142319646458 , iteration 286\n",
      "m 2.5681869159569977, b 0.9383291102409079 , iteration 287\n",
      "m 2.5680568291444983, b 0.9390433305246841 , iteration 288\n",
      "m 2.5679253189201714, b 0.9397569028887678 , iteration 289\n",
      "m 2.567792420486595, b 0.9404698371694692 , iteration 290\n",
      "m 2.567658168212873, b 0.9411821429722107 , iteration 291\n",
      "m 2.567522595654357, b 0.9418938296769891 , iteration 292\n",
      "m 2.567385735571899, b 0.942604906443709 , iteration 293\n",
      "m 2.5672476199506553, b 0.9433153822173902 , iteration 294\n",
      "m 2.5671082800184366, b 0.9440252657332515 , iteration 295\n",
      "m 2.5669677462636313, b 0.9447345655216743 , iteration 296\n",
      "m 2.5668260484527012, b 0.9454432899130492 , iteration 297\n",
      "m 2.5666832156472634, b 0.9461514470425069 , iteration 298\n",
      "m 2.5665392762207686, b 0.9468590448545383 , iteration 299\n",
      "m 2.5663942578747845, b 0.9475660911075047 , iteration 300\n",
      "m 2.566248187654894, b 0.9482725933780409 , iteration 301\n",
      "m 2.5661010919662184, b 0.9489785590653554 , iteration 302\n",
      "m 2.5659529965885692, b 0.9496839953954275 , iteration 303\n",
      "m 2.565803926691248, b 0.9503889094251052 , iteration 304\n",
      "m 2.5656539068474897, b 0.9510933080461076 , iteration 305\n",
      "m 2.5655029610485682, b 0.9517971979889305 , iteration 306\n",
      "m 2.565351112717566, b 0.9525005858266612 , iteration 307\n",
      "m 2.5651983847228195, b 0.9532034779787025 , iteration 308\n",
      "m 2.5650447993910452, b 0.9539058807144082 , iteration 309\n",
      "m 2.564890378520156, b 0.954607800156633 , iteration 310\n",
      "m 2.5647351433917724, b 0.9553092422851989 , iteration 311\n",
      "m 2.5645791147834425, b 0.9560102129402779 , iteration 312\n",
      "m 2.564422312980565, b 0.9567107178256967 , iteration 313\n",
      "m 2.564264757788038, b 0.957410762512162 , iteration 314\n",
      "m 2.5641064685416284, b 0.9581103524404094 , iteration 315\n",
      "m 2.56394746411907, b 0.9588094929242789 , iteration 316\n",
      "m 2.5637877629509047, b 0.9595081891537158 , iteration 317\n",
      "m 2.5636273830310623, b 0.960206446197703 , iteration 318\n",
      "m 2.563466341927193, b 0.9609042690071212 , iteration 319\n",
      "m 2.563304656790752, b 0.9616016624175439 , iteration 320\n",
      "m 2.56314234436685, b 0.9622986311519642 , iteration 321\n",
      "m 2.5629794210038677, b 0.9629951798234592 , iteration 322\n",
      "m 2.562815902662842, b 0.9636913129377891 , iteration 323\n",
      "m 2.5626518049266327, b 0.9643870348959365 , iteration 324\n",
      "m 2.5624871430088714, b 0.9650823499965848 , iteration 325\n",
      "m 2.5623219317626966, b 0.9657772624385385 , iteration 326\n",
      "m 2.562156185689286, b 0.9664717763230852 , iteration 327\n",
      "m 2.561989918946183, b 0.9671658956563033 , iteration 328\n",
      "m 2.5618231453554294, b 0.9678596243513136 , iteration 329\n",
      "m 2.561655878411502, b 0.9685529662304784 , iteration 330\n",
      "m 2.5614881312890665, b 0.9692459250275484 , iteration 331\n",
      "m 2.561319916850542, b 0.9699385043897588 , iteration 332\n",
      "m 2.5611512476534912, b 0.970630707879876 , iteration 333\n",
      "m 2.5609821359578353, b 0.9713225389781953 , iteration 334\n",
      "m 2.560812593732894, b 0.9720140010844919 , iteration 335\n",
      "m 2.5606426326642633, b 0.9727050975199255 , iteration 336\n",
      "m 2.5604722641605298, b 0.9733958315289001 , iteration 337\n",
      "m 2.5603014993598245, b 0.974086206280879 , iteration 338\n",
      "m 2.560130349136223, b 0.9747762248721583 , iteration 339\n",
      "m 2.559958824105993, b 0.9754658903275967 , iteration 340\n",
      "m 2.5597869346336957, b 0.9761552056023055 , iteration 341\n",
      "m 2.5596146908381407, b 0.9768441735832987 , iteration 342\n",
      "m 2.5594421025982017, b 0.9775327970911032 , iteration 343\n",
      "m 2.5592691795584948, b 0.9782210788813318 , iteration 344\n",
      "m 2.55909593113492, b 0.9789090216462182 , iteration 345\n",
      "m 2.558922366520074, b 0.9795966280161162 , iteration 346\n",
      "m 2.558748494688536, b 0.9802839005609636 , iteration 347\n",
      "m 2.5585743244020223, b 0.9809708417917105 , iteration 348\n",
      "m 2.5583998642144277, b 0.9816574541617149 , iteration 349\n",
      "m 2.55822512247674, b 0.9823437400681049 , iteration 350\n",
      "m 2.558050107341843, b 0.9830297018531082 , iteration 351\n",
      "m 2.5578748267692037, b 0.9837153418053509 , iteration 352\n",
      "m 2.557699288529449, b 0.984400662161125 , iteration 353\n",
      "m 2.5575235002088346, b 0.985085665105626 , iteration 354\n",
      "m 2.5573474692136067, b 0.9857703527741617 , iteration 355\n",
      "m 2.557171202774262, b 0.9864547272533317 , iteration 356\n",
      "m 2.556994707949708, b 0.9871387905821795 , iteration 357\n",
      "m 2.5568179916313216, b 0.9878225447533169 , iteration 358\n",
      "m 2.5566410605469128, b 0.9885059917140223 , iteration 359\n",
      "m 2.5564639212645965, b 0.9891891333673128 , iteration 360\n",
      "m 2.5562865801965717, b 0.9898719715729907 , iteration 361\n",
      "m 2.556109043602809, b 0.9905545081486653 , iteration 362\n",
      "m 2.555931317594655, b 0.9912367448707511 , iteration 363\n",
      "m 2.555753408138348, b 0.9919186834754417 , iteration 364\n",
      "m 2.555575321058452, b 0.9926003256596607 , iteration 365\n",
      "m 2.555397062041208, b 0.9932816730819907 , iteration 366\n",
      "m 2.555218636637809, b 0.9939627273635795 , iteration 367\n",
      "m 2.555040050267596, b 0.9946434900890255 , iteration 368\n",
      "m 2.5548613082211746, b 0.9953239628072419 , iteration 369\n",
      "m 2.5546824156634655, b 0.9960041470323003 , iteration 370\n",
      "m 2.5545033776366757, b 0.9966840442442549 , iteration 371\n",
      "m 2.554324199063203, b 0.9973636558899464 , iteration 372\n",
      "m 2.554144884748473, b 0.9980429833837873 , iteration 373\n",
      "m 2.553965439383704, b 0.9987220281085288 , iteration 374\n",
      "m 2.553785867548611, b 0.9994007914160096 , iteration 375\n",
      "m 2.5536061737140456, b 1.000079274627886 , iteration 376\n",
      "m 2.5534263622445694, b 1.0007574790363458 , iteration 377\n",
      "m 2.5532464374009707, b 1.0014354059048056 , iteration 378\n",
      "m 2.5530664033427204, b 1.0021130564685903 , iteration 379\n",
      "m 2.552886264130369, b 1.0027904319355967 , iteration 380\n",
      "m 2.5527060237278874, b 1.0034675334869432 , iteration 381\n",
      "m 2.552525686004952, b 1.004144362277602 , iteration 382\n",
      "m 2.5523452547391776, b 1.0048209194370172 , iteration 383\n",
      "m 2.5521647336182935, b 1.005497206069708 , iteration 384\n",
      "m 2.5519841262422727, b 1.006173223255859 , iteration 385\n",
      "m 2.5518034361254074, b 1.0068489720518936 , iteration 386\n",
      "m 2.551622666698337, b 1.0075244534910375 , iteration 387\n",
      "m 2.5514418213100276, b 1.0081996685838654 , iteration 388\n",
      "m 2.551260903229704, b 1.0088746183188375 , iteration 389\n",
      "m 2.5510799156487374, b 1.0095493036628216 , iteration 390\n",
      "m 2.550898861682488, b 1.0102237255616036 , iteration 391\n",
      "m 2.5507177443721036, b 1.0108978849403853 , iteration 392\n",
      "m 2.550536566686275, b 1.011571782704272 , iteration 393\n",
      "m 2.5503553315229515, b 1.0122454197387458 , iteration 394\n",
      "m 2.550174041711014, b 1.0129187969101305 , iteration 395\n",
      "m 2.5499927000119107, b 1.0135919150660442 , iteration 396\n",
      "m 2.549811309121252, b 1.0142647750358407 , iteration 397\n",
      "m 2.5496298716703696, b 1.0149373776310415 , iteration 398\n",
      "m 2.5494483902278353, b 1.0156097236457573 , iteration 399\n",
      "m 2.549266867300948, b 1.0162818138570988 , iteration 400\n",
      "m 2.5490853053371847, b 1.0169536490255788 , iteration 401\n",
      "m 2.5489037067256133, b 1.0176252298955046 , iteration 402\n",
      "m 2.548722073798277, b 1.01829655719536 , iteration 403\n",
      "m 2.548540408831543, b 1.0189676316381795 , iteration 404\n",
      "m 2.5483587140474198, b 1.0196384539219139 , iteration 405\n",
      "m 2.548176991614845, b 1.0203090247297855 , iteration 406\n",
      "m 2.5479952436509397, b 1.0209793447306368 , iteration 407\n",
      "m 2.547813472222235, b 1.0216494145792698 , iteration 408\n",
      "m 2.54763167934587, b 1.0223192349167778 , iteration 409\n",
      "m 2.5474498669907604, b 1.022988806370869 , iteration 410\n",
      "m 2.5472680370787386, b 1.0236581295561826 , iteration 411\n",
      "m 2.5470861914856693, b 1.0243272050745977 , iteration 412\n",
      "m 2.546904332042537, b 1.0249960335155346 , iteration 413\n",
      "m 2.546722460536508, b 1.0256646154562483 , iteration 414\n",
      "m 2.5465405787119675, b 1.0263329514621167 , iteration 415\n",
      "m 2.5463586882715314, b 1.0270010420869207 , iteration 416\n",
      "m 2.5461767908770363, b 1.0276688878731177 , iteration 417\n",
      "m 2.545994888150503, b 1.0283364893521092 , iteration 418\n",
      "m 2.545812981675079, b 1.029003847044502 , iteration 419\n",
      "m 2.5456310729959606, b 1.0296709614603625 , iteration 420\n",
      "m 2.5454491636212873, b 1.0303378330994661 , iteration 421\n",
      "m 2.545267255023022, b 1.0310044624515395 , iteration 422\n",
      "m 2.5450853486378064, b 1.0316708499964984 , iteration 423\n",
      "m 2.5449034458677957, b 1.0323369962046784 , iteration 424\n",
      "m 2.544721548081476, b 1.0330029015370623 , iteration 425\n",
      "m 2.5445396566144614, b 1.0336685664454994 , iteration 426\n",
      "m 2.54435777277027, b 1.0343339913729217 , iteration 427\n",
      "m 2.544175897821087, b 1.0349991767535542 , iteration 428\n",
      "m 2.543994033008502, b 1.0356641230131207 , iteration 429\n",
      "m 2.543812179544236, b 1.0363288305690435 , iteration 430\n",
      "m 2.5436303386108485, b 1.03699329983064 , iteration 431\n",
      "m 2.543448511362426, b 1.0376575311993135 , iteration 432\n",
      "m 2.543266698925257, b 1.0383215250687403 , iteration 433\n",
      "m 2.5430849023984887, b 1.0389852818250513 , iteration 434\n",
      "m 2.5429031228547716, b 1.0396488018470103 , iteration 435\n",
      "m 2.5427213613408846, b 1.0403120855061876 , iteration 436\n",
      "m 2.542539618878348, b 1.04097513316713 , iteration 437\n",
      "m 2.542357896464021, b 1.0416379451875257 , iteration 438\n",
      "m 2.5421761950706876, b 1.0423005219183665 , iteration 439\n",
      "m 2.5419945156476222, b 1.0429628637041057 , iteration 440\n",
      "m 2.54181285912115, b 1.0436249708828118 , iteration 441\n",
      "m 2.5416312263951877, b 1.0442868437863193 , iteration 442\n",
      "m 2.5414496183517756, b 1.0449484827403754 , iteration 443\n",
      "m 2.541268035851594, b 1.045609888064784 , iteration 444\n",
      "m 2.5410864797344703, b 1.0462710600735448 , iteration 445\n",
      "m 2.5409049508198707, b 1.0469319990749908 , iteration 446\n",
      "m 2.5407234499073836, b 1.0475927053719216 , iteration 447\n",
      "m 2.5405419777771896, b 1.0482531792617336 , iteration 448\n",
      "m 2.540360535190521, b 1.048913421036547 , iteration 449\n",
      "m 2.5401791228901103, b 1.0495734309833307 , iteration 450\n",
      "m 2.539997741600628, b 1.0502332093840234 , iteration 451\n",
      "m 2.53981639202911, b 1.0508927565156516 , iteration 452\n",
      "m 2.5396350748653758, b 1.0515520726504457 , iteration 453\n",
      "m 2.5394537907824346, b 1.0522111580559526 , iteration 454\n",
      "m 2.5392725404368854, b 1.052870012995146 , iteration 455\n",
      "m 2.539091324469303, b 1.0535286377265345 , iteration 456\n",
      "m 2.5389101435046193, b 1.0541870325042657 , iteration 457\n",
      "m 2.538728998152492, b 1.0548451975782294 , iteration 458\n",
      "m 2.538547889007668, b 1.055503133194158 , iteration 459\n",
      "m 2.5383668166503344, b 1.0561608395937236 , iteration 460\n",
      "m 2.538185781646465, b 1.0568183170146341 , iteration 461\n",
      "m 2.538004784548155, b 1.057475565690726 , iteration 462\n",
      "m 2.537823825893951, b 1.0581325858520556 , iteration 463\n",
      "m 2.5376429062091717, b 1.0587893777249877 , iteration 464\n",
      "m 2.53746202600622, b 1.0594459415322828 , iteration 465\n",
      "m 2.5372811857848894, b 1.060102277493181 , iteration 466\n",
      "m 2.537100386032663, b 1.0607583858234853 , iteration 467\n",
      "m 2.536919627225003, b 1.0614142667356423 , iteration 468\n",
      "m 2.5367389098256394, b 1.062069920438821 , iteration 469\n",
      "m 2.5365582342868422, b 1.0627253471389897 , iteration 470\n",
      "m 2.536377601049698, b 1.0633805470389908 , iteration 471\n",
      "m 2.5361970105443707, b 1.0640355203386147 , iteration 472\n",
      "m 2.536016463190363, b 1.0646902672346712 , iteration 473\n",
      "m 2.535835959396767, b 1.0653447879210596 , iteration 474\n",
      "m 2.5356554995625116, b 1.0659990825888368 , iteration 475\n",
      "m 2.5354750840766034, b 1.066653151426284 , iteration 476\n",
      "m 2.5352947133183603, b 1.067306994618972 , iteration 477\n",
      "m 2.5351143876576425, b 1.0679606123498238 , iteration 478\n",
      "m 2.5349341074550753, b 1.0686140047991783 , iteration 479\n",
      "m 2.5347538730622685, b 1.0692671721448495 , iteration 480\n",
      "m 2.5345736848220297, b 1.0699201145621862 , iteration 481\n",
      "m 2.534393543068572, b 1.0705728322241297 , iteration 482\n",
      "m 2.5342134481277188, b 1.07122532530127 , iteration 483\n",
      "m 2.5340334003171012, b 1.0718775939619012 , iteration 484\n",
      "m 2.5338533999463535, b 1.0725296383720748 , iteration 485\n",
      "m 2.5336734473173013, b 1.0731814586956525 , iteration 486\n",
      "m 2.5334935427241465, b 1.0738330550943573 , iteration 487\n",
      "m 2.533313686453649, b 1.0744844277278238 , iteration 488\n",
      "m 2.533133878785302, b 1.0751355767536463 , iteration 489\n",
      "m 2.5329541199915035, b 1.0757865023274273 , iteration 490\n",
      "m 2.532774410337726, b 1.0764372046028234 , iteration 491\n",
      "m 2.532594750082679, b 1.0770876837315915 , iteration 492\n",
      "m 2.5324151394784704, b 1.0777379398636322 , iteration 493\n",
      "m 2.5322355787707624, b 1.078387973147034 , iteration 494\n",
      "m 2.5320560681989233, b 1.0790377837281153 , iteration 495\n",
      "m 2.5318766079961783, b 1.0796873717514655 , iteration 496\n",
      "m 2.5316971983897534, b 1.0803367373599855 , iteration 497\n",
      "m 2.531517839601019, b 1.080985880694927 , iteration 498\n",
      "m 2.531338531845627, b 1.0816348018959312 , iteration 499\n",
      "m 2.5311592753336476, b 1.0822835011010656 , iteration 500\n",
      "m 2.530980070269701, b 1.0829319784468616 , iteration 501\n",
      "m 2.5308009168530865, b 1.0835802340683496 , iteration 502\n",
      "m 2.5306218152779083, b 1.0842282680990944 , iteration 503\n",
      "m 2.5304427657332, b 1.0848760806712288 , iteration 504\n",
      "m 2.5302637684030422, b 1.085523671915487 , iteration 505\n",
      "m 2.5300848234666824, b 1.0861710419612378 , iteration 506\n",
      "m 2.529905931098648, b 1.0868181909365153 , iteration 507\n",
      "m 2.5297270914688585, b 1.0874651189680504 , iteration 508\n",
      "m 2.529548304742735, b 1.0881118261813012 , iteration 509\n",
      "m 2.529369571081307, b 1.0887583127004823 , iteration 510\n",
      "m 2.5291908906413156, b 1.0894045786485935 , iteration 511\n",
      "m 2.529012263575315, b 1.0900506241474484 , iteration 512\n",
      "m 2.5288336900317736, b 1.0906964493177016 , iteration 513\n",
      "m 2.5286551701551683, b 1.0913420542788757 , iteration 514\n",
      "m 2.5284767040860814, b 1.091987439149387 , iteration 515\n",
      "m 2.528298291961291, b 1.0926326040465717 , iteration 516\n",
      "m 2.5281199339138634, b 1.0932775490867108 , iteration 517\n",
      "m 2.5279416300732382, b 1.0939222743850543 , iteration 518\n",
      "m 2.527763380565317, b 1.0945667800558447 , iteration 519\n",
      "m 2.5275851855125446, b 1.095211066212341 , iteration 520\n",
      "m 2.5274070450339945, b 1.0958551329668411 , iteration 521\n",
      "m 2.5272289592454458, b 1.0964989804307035 , iteration 522\n",
      "m 2.5270509282594618, b 1.0971426087143694 , iteration 523\n",
      "m 2.5268729521854674, b 1.097786017927384 , iteration 524\n",
      "m 2.526695031129823, b 1.0984292081784164 , iteration 525\n",
      "m 2.526517165195896, b 1.0990721795752807 , iteration 526\n",
      "m 2.5263393544841346, b 1.0997149322249549 , iteration 527\n",
      "m 2.526161599092134, b 1.1003574662336002 , iteration 528\n",
      "m 2.5259838991147054, b 1.1009997817065802 , iteration 529\n",
      "m 2.5258062546439426, b 1.1016418787484787 , iteration 530\n",
      "m 2.525628665769285, b 1.1022837574631181 , iteration 531\n",
      "m 2.5254511325775817, b 1.1029254179535761 , iteration 532\n",
      "m 2.5252736551531534, b 1.1035668603222035 , iteration 533\n",
      "m 2.525096233577851, b 1.1042080846706401 , iteration 534\n",
      "m 2.524918867931114, b 1.1048490910998316 , iteration 535\n",
      "m 2.5247415582900308, b 1.1054898797100452 , iteration 536\n",
      "m 2.52456430472939, b 1.1061304506008849 , iteration 537\n",
      "m 2.524387107321738, b 1.1067708038713069 , iteration 538\n",
      "m 2.524209966137432, b 1.1074109396196339 , iteration 539\n",
      "m 2.524032881244691, b 1.10805085794357 , iteration 540\n",
      "m 2.5238558527096466, b 1.1086905589402147 , iteration 541\n",
      "m 2.523678880596393, b 1.1093300427060764 , iteration 542\n",
      "m 2.523501964967036, b 1.109969309337086 , iteration 543\n",
      "m 2.5233251058817388, b 1.1106083589286095 , iteration 544\n",
      "m 2.5231483033987687, b 1.1112471915754618 , iteration 545\n",
      "m 2.522971557574543, b 1.1118858073719182 , iteration 546\n",
      "m 2.5227948684636714, b 1.1125242064117271 , iteration 547\n",
      "m 2.5226182361190004, b 1.1131623887881217 , iteration 548\n",
      "m 2.5224416605916535, b 1.1138003545938315 , iteration 549\n",
      "m 2.522265141931074, b 1.114438103921094 , iteration 550\n",
      "m 2.522088680185064, b 1.1150756368616654 , iteration 551\n",
      "m 2.5219122753998224, b 1.1157129535068318 , iteration 552\n",
      "m 2.5217359276199853, b 1.1163500539474192 , iteration 553\n",
      "m 2.5215596368886612, b 1.1169869382738045 , iteration 554\n",
      "m 2.521383403247468, b 1.1176236065759249 , iteration 555\n",
      "m 2.521207226736568, b 1.1182600589432883 , iteration 556\n",
      "m 2.521031107394704, b 1.1188962954649824 , iteration 557\n",
      "m 2.5208550452592307, b 1.1195323162296842 , iteration 558\n",
      "m 2.5206790403661494, b 1.1201681213256693 , iteration 559\n",
      "m 2.52050309275014, b 1.120803710840821 , iteration 560\n",
      "m 2.520327202444592, b 1.1214390848626385 , iteration 561\n",
      "m 2.5201513694816353, b 1.1220742434782458 , iteration 562\n",
      "m 2.5199755938921697, b 1.1227091867743995 , iteration 563\n",
      "m 2.5197998757058957, b 1.1233439148374977 , iteration 564\n",
      "m 2.519624214951341, b 1.1239784277535874 , iteration 565\n",
      "m 2.51944861165589, b 1.1246127256083722 , iteration 566\n",
      "m 2.5192730658458102, b 1.12524680848722 , iteration 567\n",
      "m 2.519097577546279, b 1.1258806764751708 , iteration 568\n",
      "m 2.51892214678141, b 1.1265143296569426 , iteration 569\n",
      "m 2.5187467735742772, b 1.1271477681169404 , iteration 570\n",
      "m 2.5185714579469414, b 1.127780991939261 , iteration 571\n",
      "m 2.518396199920473, b 1.1284140012077009 , iteration 572\n",
      "m 2.5182209995149765, b 1.1290467960057626 , iteration 573\n",
      "m 2.5180458567496125, b 1.1296793764166613 , iteration 574\n",
      "m 2.517870771642621, b 1.1303117425233302 , iteration 575\n",
      "m 2.5176957442113435, b 1.1309438944084278 , iteration 576\n",
      "m 2.5175207744722434, b 1.131575832154343 , iteration 577\n",
      "m 2.517345862440928, b 1.1322075558432008 , iteration 578\n",
      "m 2.5171710081321685, b 1.1328390655568688 , iteration 579\n",
      "m 2.5169962115599196, b 1.133470361376962 , iteration 580\n",
      "m 2.5168214727373397, b 1.1341014433848486 , iteration 581\n",
      "m 2.516646791676809, b 1.134732311661655 , iteration 582\n",
      "m 2.5164721683899494, b 1.135362966288271 , iteration 583\n",
      "m 2.516297602887641, b 1.1359934073453546 , iteration 584\n",
      "m 2.5161230951800406, b 1.136623634913338 , iteration 585\n",
      "m 2.5159486452765996, b 1.1372536490724312 , iteration 586\n",
      "m 2.5157742531860796, b 1.1378834499026267 , iteration 587\n",
      "m 2.5155999189165703, b 1.138513037483705 , iteration 588\n",
      "m 2.5154256424755035, b 1.139142411895238 , iteration 589\n",
      "m 2.515251423869671, b 1.1397715732165945 , iteration 590\n",
      "m 2.5150772631052387, b 1.1404005215269433 , iteration 591\n",
      "m 2.5149031601877616, b 1.141029256905258 , iteration 592\n",
      "m 2.5147291151221993, b 1.1416577794303209 , iteration 593\n",
      "m 2.514555127912929, b 1.142286089180727 , iteration 594\n",
      "m 2.51438119856376, b 1.142914186234888 , iteration 595\n",
      "m 2.5142073270779477, b 1.1435420706710355 , iteration 596\n",
      "m 2.5140335134582066, b 1.1441697425672257 , iteration 597\n",
      "m 2.5138597577067228, b 1.144797202001342 , iteration 598\n",
      "m 2.513686059825167, b 1.145424449051099 , iteration 599\n",
      "m 2.5135124198147065, b 1.1460514837940459 , iteration 600\n",
      "m 2.513338837676019, b 1.1466783063075696 , iteration 601\n",
      "m 2.513165313409301, b 1.1473049166688984 , iteration 602\n",
      "m 2.512991847014283, b 1.147931314955105 , iteration 603\n",
      "m 2.512818438490238, b 1.148557501243109 , iteration 604\n",
      "m 2.512645087835994, b 1.1491834756096815 , iteration 605\n",
      "m 2.5124717950499442, b 1.1498092381314462 , iteration 606\n",
      "m 2.512298560130057, b 1.1504347888848836 , iteration 607\n",
      "m 2.5121253830738866, b 1.1510601279463335 , iteration 608\n",
      "m 2.511952263878583, b 1.1516852553919976 , iteration 609\n",
      "m 2.511779202540902, b 1.1523101712979422 , iteration 610\n",
      "m 2.5116061990572147, b 1.152934875740101 , iteration 611\n",
      "m 2.5114332534235153, b 1.1535593687942776 , iteration 612\n",
      "m 2.511260365635432, b 1.154183650536148 , iteration 613\n",
      "m 2.511087535688236, b 1.154807721041263 , iteration 614\n",
      "m 2.510914763576847, b 1.1554315803850512 , iteration 615\n",
      "m 2.510742049295846, b 1.15605522864282 , iteration 616\n",
      "m 2.5105693928394808, b 1.1566786658897594 , iteration 617\n",
      "m 2.510396794201674, b 1.157301892200943 , iteration 618\n",
      "m 2.5102242533760313, b 1.1579249076513312 , iteration 619\n",
      "m 2.5100517703558505, b 1.1585477123157724 , iteration 620\n",
      "m 2.5098793451341272, b 1.1591703062690057 , iteration 621\n",
      "m 2.5097069777035625, b 1.159792689585663 , iteration 622\n",
      "m 2.50953466805657, b 1.1604148623402704 , iteration 623\n",
      "m 2.509362416185284, b 1.1610368246072504 , iteration 624\n",
      "m 2.509190222081564, b 1.1616585764609242 , iteration 625\n",
      "m 2.509018085737004, b 1.162280117975513 , iteration 626\n",
      "m 2.5088460071429366, b 1.16290144922514 , iteration 627\n",
      "m 2.5086739862904412, b 1.163522570283832 , iteration 628\n",
      "m 2.5085020231703488, b 1.1641434812255218 , iteration 629\n",
      "m 2.508330117773248, b 1.1647641821240486 , iteration 630\n",
      "m 2.5081582700894924, b 1.165384673053161 , iteration 631\n",
      "m 2.5079864801092047, b 1.1660049540865176 , iteration 632\n",
      "m 2.507814747822283, b 1.1666250252976893 , iteration 633\n",
      "m 2.5076430732184067, b 1.1672448867601601 , iteration 634\n",
      "m 2.507471456287041, b 1.1678645385473294 , iteration 635\n",
      "m 2.507299897017442, b 1.1684839807325125 , iteration 636\n",
      "m 2.507128395398663, b 1.1691032133889427 , iteration 637\n",
      "m 2.506956951419559, b 1.1697222365897728 , iteration 638\n",
      "m 2.50678556506879, b 1.170341050408076 , iteration 639\n",
      "m 2.506614236334828, b 1.170959654916847 , iteration 640\n",
      "m 2.5064429652059608, b 1.1715780501890043 , iteration 641\n",
      "m 2.5062717516702957, b 1.1721962362973906 , iteration 642\n",
      "m 2.5061005957157647, b 1.172814213314774 , iteration 643\n",
      "m 2.505929497330129, b 1.1734319813138498 , iteration 644\n",
      "m 2.5057584565009834, b 1.1740495403672413 , iteration 645\n",
      "m 2.5055874732157584, b 1.1746668905475008 , iteration 646\n",
      "m 2.5054165474617265, b 1.1752840319271114 , iteration 647\n",
      "m 2.505245679226006, b 1.1759009645784868 , iteration 648\n",
      "m 2.505074868495563, b 1.1765176885739739 , iteration 649\n",
      "m 2.504904115257217, b 1.1771342039858526 , iteration 650\n",
      "m 2.504733419497643, b 1.1777505108863375 , iteration 651\n",
      "m 2.504562781203377, b 1.178366609347579 , iteration 652\n",
      "m 2.5043922003608174, b 1.1789824994416636 , iteration 653\n",
      "m 2.5042216769562295, b 1.1795981812406153 , iteration 654\n",
      "m 2.504051210975749, b 1.1802136548163966 , iteration 655\n",
      "m 2.503880802405384, b 1.1808289202409092 , iteration 656\n",
      "m 2.50371045123102, b 1.181443977585995 , iteration 657\n",
      "m 2.5035401574384215, b 1.182058826923437 , iteration 658\n",
      "m 2.5033699210132356, b 1.1826734683249596 , iteration 659\n",
      "m 2.503199741940995, b 1.1832879018622302 , iteration 660\n",
      "m 2.5030296202071196, b 1.1839021276068598 , iteration 661\n",
      "m 2.5028595557969218, b 1.1845161456304034 , iteration 662\n",
      "m 2.502689548695607, b 1.185129956004361 , iteration 663\n",
      "m 2.5025195988882776, b 1.1857435588001788 , iteration 664\n",
      "m 2.5023497063599343, b 1.1863569540892487 , iteration 665\n",
      "m 2.50217987109548, b 1.1869701419429106 , iteration 666\n",
      "m 2.502010093079722, b 1.187583122432452 , iteration 667\n",
      "m 2.5018403722973734, b 1.1881958956291088 , iteration 668\n",
      "m 2.5016707087330565, b 1.1888084616040664 , iteration 669\n",
      "m 2.501501102371305, b 1.18942082042846 , iteration 670\n",
      "m 2.5013315531965654, b 1.1900329721733753 , iteration 671\n",
      "m 2.5011620611932006, b 1.1906449169098492 , iteration 672\n",
      "m 2.500992626345491, b 1.1912566547088703 , iteration 673\n",
      "m 2.500823248637637, b 1.1918681856413795 , iteration 674\n",
      "m 2.5006539280537607, b 1.192479509778271 , iteration 675\n",
      "m 2.5004846645779084, b 1.1930906271903918 , iteration 676\n",
      "m 2.500315458194052, b 1.1937015379485436 , iteration 677\n",
      "m 2.500146308886092, b 1.1943122421234822 , iteration 678\n",
      "m 2.499977216637857, b 1.1949227397859188 , iteration 679\n",
      "m 2.4998081814331083, b 1.1955330310065198 , iteration 680\n",
      "m 2.499639203255541, b 1.1961431158559082 , iteration 681\n",
      "m 2.4994702820887835, b 1.196752994404663 , iteration 682\n",
      "m 2.4993014179164024, b 1.197362666723321 , iteration 683\n",
      "m 2.4991326107219014, b 1.197972132882376 , iteration 684\n",
      "m 2.4989638604887254, b 1.19858139295228 , iteration 685\n",
      "m 2.4987951672002597, b 1.1991904470034431 , iteration 686\n",
      "m 2.498626530839833, b 1.1997992951062346 , iteration 687\n",
      "m 2.4984579513907197, b 1.200407937330983 , iteration 688\n",
      "m 2.498289428836138, b 1.2010163737479769 , iteration 689\n",
      "m 2.498120963159255, b 1.201624604427464 , iteration 690\n",
      "m 2.4979525543431866, b 1.2022326294396537 , iteration 691\n",
      "m 2.4977842023709984, b 1.2028404488547153 , iteration 692\n",
      "m 2.497615907225708, b 1.20344806274278 , iteration 693\n",
      "m 2.4974476688902856, b 1.2040554711739402 , iteration 694\n",
      "m 2.497279487347656, b 1.2046626742182507 , iteration 695\n",
      "m 2.4971113625806978, b 1.2052696719457283 , iteration 696\n",
      "m 2.496943294572248, b 1.2058764644263527 , iteration 697\n",
      "m 2.4967752833051002, b 1.2064830517300664 , iteration 698\n",
      "m 2.4966073287620074, b 1.2070894339267757 , iteration 699\n",
      "m 2.4964394309256828, b 1.2076956110863502 , iteration 700\n",
      "m 2.4962715897787997, b 1.2083015832786232 , iteration 701\n",
      "m 2.4961038053039943, b 1.2089073505733932 , iteration 702\n",
      "m 2.495936077483866, b 1.2095129130404223 , iteration 703\n",
      "m 2.495768406300978, b 1.2101182707494382 , iteration 704\n",
      "m 2.49560079173786, b 1.2107234237701334 , iteration 705\n",
      "m 2.4954332337770064, b 1.211328372172166 , iteration 706\n",
      "m 2.4952657324008793, b 1.2119331160251596 , iteration 707\n",
      "m 2.495098287591909, b 1.212537655398704 , iteration 708\n",
      "m 2.494930899332495, b 1.213141990362355 , iteration 709\n",
      "m 2.494763567605006, b 1.2137461209856353 , iteration 710\n",
      "m 2.494596292391782, b 1.214350047338034 , iteration 711\n",
      "m 2.4944290736751347, b 1.2149537694890071 , iteration 712\n",
      "m 2.4942619114373477, b 1.2155572875079783 , iteration 713\n",
      "m 2.494094805660678, b 1.2161606014643382 , iteration 714\n",
      "m 2.4939277563273574, b 1.2167637114274454 , iteration 715\n",
      "m 2.493760763419591, b 1.2173666174666264 , iteration 716\n",
      "m 2.49359382691956, b 1.2179693196511756 , iteration 717\n",
      "m 2.493426946809423, b 1.218571818050356 , iteration 718\n",
      "m 2.4932601230713134, b 1.2191741127333988 , iteration 719\n",
      "m 2.493093355687344, b 1.2197762037695041 , iteration 720\n",
      "m 2.4929266446396054, b 1.220378091227841 , iteration 721\n",
      "m 2.492759989910167, b 1.2209797751775477 , iteration 722\n",
      "m 2.492593391481078, b 1.2215812556877317 , iteration 723\n",
      "m 2.4924268493343678, b 1.2221825328274698 , iteration 724\n",
      "m 2.492260363452047, b 1.2227836066658087 , iteration 725\n",
      "m 2.492093933816107, b 1.2233844772717648 , iteration 726\n",
      "m 2.4919275604085223, b 1.2239851447143246 , iteration 727\n",
      "m 2.491761243211249, b 1.2245856090624447 , iteration 728\n",
      "m 2.4915949822062267, b 1.2251858703850524 , iteration 729\n",
      "m 2.491428777375379, b 1.225785928751045 , iteration 730\n",
      "m 2.4912626287006145, b 1.2263857842292907 , iteration 731\n",
      "m 2.491096536163825, b 1.2269854368886284 , iteration 732\n",
      "m 2.4909304997468893, b 1.2275848867978683 , iteration 733\n",
      "m 2.4907645194316705, b 1.2281841340257913 , iteration 734\n",
      "m 2.490598595200019, b 1.2287831786411496 , iteration 735\n",
      "m 2.4904327270337716, b 1.2293820207126671 , iteration 736\n",
      "m 2.4902669149147525, b 1.229980660309039 , iteration 737\n",
      "m 2.490101158824774, b 1.2305790974989326 , iteration 738\n",
      "m 2.4899354587456353, b 1.231177332350986 , iteration 739\n",
      "m 2.4897698146591254, b 1.2317753649338103 , iteration 740\n",
      "m 2.489604226547022, b 1.232373195315988 , iteration 741\n",
      "m 2.4894386943910916, b 1.232970823566074 , iteration 742\n",
      "m 2.489273218173091, b 1.2335682497525953 , iteration 743\n",
      "m 2.4891077978747673, b 1.2341654739440515 , iteration 744\n",
      "m 2.4889424334778583, b 1.2347624962089148 , iteration 745\n",
      "m 2.4887771249640918, b 1.2353593166156298 , iteration 746\n",
      "m 2.4886118723151878, b 1.235955935232614 , iteration 747\n",
      "m 2.488446675512858, b 1.2365523521282575 , iteration 748\n",
      "m 2.4882815345388054, b 1.237148567370924 , iteration 749\n",
      "m 2.488116449374726, b 1.2377445810289494 , iteration 750\n",
      "m 2.4879514200023083, b 1.2383403931706432 , iteration 751\n",
      "m 2.4877864464032338, b 1.238936003864288 , iteration 752\n",
      "m 2.4876215285591767, b 1.23953141317814 , iteration 753\n",
      "m 2.487456666451806, b 1.2401266211804287 , iteration 754\n",
      "m 2.4872918600627836, b 1.240721627939357 , iteration 755\n",
      "m 2.487127109373766, b 1.2413164335231015 , iteration 756\n",
      "m 2.486962414366405, b 1.2419110379998126 , iteration 757\n",
      "m 2.486797775022345, b 1.2425054414376147 , iteration 758\n",
      "m 2.486633191323228, b 1.2430996439046054 , iteration 759\n",
      "m 2.486468663250689, b 1.2436936454688567 , iteration 760\n",
      "m 2.4863041907863606, b 1.2442874461984148 , iteration 761\n",
      "m 2.4861397739118702, b 1.2448810461612998 , iteration 762\n",
      "m 2.485975412608841, b 1.245474445425506 , iteration 763\n",
      "m 2.4858111068588937, b 1.246067644059002 , iteration 764\n",
      "m 2.485646856643644, b 1.2466606421297306 , iteration 765\n",
      "m 2.4854826619447055, b 1.2472534397056092 , iteration 766\n",
      "m 2.4853185227436883, b 1.2478460368545297 , iteration 767\n",
      "m 2.4851544390222, b 1.2484384336443586 , iteration 768\n",
      "m 2.4849904107618457, b 1.2490306301429366 , iteration 769\n",
      "m 2.4848264379442275, b 1.2496226264180796 , iteration 770\n",
      "m 2.484662520550946, b 1.2502144225375782 , iteration 771\n",
      "m 2.4844986585636, b 1.2508060185691974 , iteration 772\n",
      "m 2.484334851963786, b 1.2513974145806774 , iteration 773\n",
      "m 2.484171100733098, b 1.2519886106397333 , iteration 774\n",
      "m 2.4840074048531315, b 1.2525796068140553 , iteration 775\n",
      "m 2.4838437643054783, b 1.2531704031713085 , iteration 776\n",
      "m 2.48368017907173, b 1.253760999779133 , iteration 777\n",
      "m 2.483516649133477, b 1.2543513967051443 , iteration 778\n",
      "m 2.4833531744723096, b 1.254941594016933 , iteration 779\n",
      "m 2.483189755069817, b 1.2555315917820653 , iteration 780\n",
      "m 2.4830263909075887, b 1.2561213900680823 , iteration 781\n",
      "m 2.482863081967213, b 1.2567109889425006 , iteration 782\n",
      "m 2.4826998282302792, b 1.2573003884728122 , iteration 783\n",
      "m 2.482536629678376, b 1.257889588726485 , iteration 784\n",
      "m 2.482373486293093, b 1.2584785897709616 , iteration 785\n",
      "m 2.482210398056019, b 1.2590673916736612 , iteration 786\n",
      "m 2.4820473649487447, b 1.2596559945019778 , iteration 787\n",
      "m 2.4818843869528604, b 1.2602443983232814 , iteration 788\n",
      "m 2.481721464049958, b 1.2608326032049177 , iteration 789\n",
      "m 2.481558596221629, b 1.2614206092142082 , iteration 790\n",
      "m 2.481395783449468, b 1.26200841641845 , iteration 791\n",
      "m 2.481233025715069, b 1.2625960248849162 , iteration 792\n",
      "m 2.4810703230000284, b 1.263183434680856 , iteration 793\n",
      "m 2.4809076752859425, b 1.263770645873494 , iteration 794\n",
      "m 2.4807450825544106, b 1.2643576585300313 , iteration 795\n",
      "m 2.4805825447870333, b 1.2649444727176449 , iteration 796\n",
      "m 2.480420061965413, b 1.2655310885034874 , iteration 797\n",
      "m 2.480257634071153, b 1.2661175059546879 , iteration 798\n",
      "m 2.4800952610858595, b 1.2667037251383515 , iteration 799\n",
      "m 2.4799329429911405, b 1.2672897461215595 , iteration 800\n",
      "m 2.479770679768606, b 1.2678755689713697 , iteration 801\n",
      "m 2.4796084713998687, b 1.2684611937548154 , iteration 802\n",
      "m 2.4794463178665427, b 1.2690466205389066 , iteration 803\n",
      "m 2.4792842191502453, b 1.2696318493906296 , iteration 804\n",
      "m 2.4791221752325963, b 1.270216880376947 , iteration 805\n",
      "m 2.4789601860952173, b 1.2708017135647975 , iteration 806\n",
      "m 2.478798251719734, b 1.2713863490210966 , iteration 807\n",
      "m 2.478636372087773, b 1.271970786812736 , iteration 808\n",
      "m 2.4784745471809653, b 1.2725550270065837 , iteration 809\n",
      "m 2.4783127769809443, b 1.2731390696694849 , iteration 810\n",
      "m 2.4781510614693465, b 1.2737229148682603 , iteration 811\n",
      "m 2.4779894006278114, b 1.2743065626697077 , iteration 812\n",
      "m 2.477827794437981, b 1.2748900131406014 , iteration 813\n",
      "m 2.477666242881502, b 1.2754732663476922 , iteration 814\n",
      "m 2.477504745940023, b 1.2760563223577077 , iteration 815\n",
      "m 2.477343303595196, b 1.276639181237352 , iteration 816\n",
      "m 2.4771819158286776, b 1.2772218430533062 , iteration 817\n",
      "m 2.477020582622127, b 1.2778043078722274 , iteration 818\n",
      "m 2.4768593039572067, b 1.2783865757607502 , iteration 819\n",
      "m 2.4766980798155838, b 1.2789686467854855 , iteration 820\n",
      "m 2.476536910178928, b 1.279550521013021 , iteration 821\n",
      "m 2.4763757950289134, b 1.2801321985099212 , iteration 822\n",
      "m 2.476214734347218, b 1.2807136793427278 , iteration 823\n",
      "m 2.476053728115523, b 1.2812949635779591 , iteration 824\n",
      "m 2.4758927763155136, b 1.2818760512821101 , iteration 825\n",
      "m 2.4757318789288796, b 1.2824569425216528 , iteration 826\n",
      "m 2.4755710359373144, b 1.283037637363036 , iteration 827\n",
      "m 2.4754102473225155, b 1.2836181358726861 , iteration 828\n",
      "m 2.475249513066184, b 1.2841984381170057 , iteration 829\n",
      "m 2.475088833150026, b 1.2847785441623747 , iteration 830\n",
      "m 2.474928207555751, b 1.2853584540751497 , iteration 831\n",
      "m 2.4747676362650735, b 1.2859381679216648 , iteration 832\n",
      "m 2.4746071192597117, b 1.286517685768231 , iteration 833\n",
      "m 2.4744466565213887, b 1.2870970076811363 , iteration 834\n",
      "m 2.4742862480318313, b 1.2876761337266458 , iteration 835\n",
      "m 2.4741258937727713, b 1.2882550639710015 , iteration 836\n",
      "m 2.473965593725944, b 1.288833798480423 , iteration 837\n",
      "m 2.473805347873091, b 1.2894123373211066 , iteration 838\n",
      "m 2.473645156195956, b 1.2899906805592258 , iteration 839\n",
      "m 2.4734850186762896, b 1.2905688282609316 , iteration 840\n",
      "m 2.4733249352958455, b 1.291146780492352 , iteration 841\n",
      "m 2.473164906036383, b 1.2917245373195922 , iteration 842\n",
      "m 2.473004930879665, b 1.2923020988087348 , iteration 843\n",
      "m 2.4728450098074597, b 1.2928794650258393 , iteration 844\n",
      "m 2.4726851428015406, b 1.2934566360369428 , iteration 845\n",
      "m 2.472525329843685, b 1.2940336119080598 , iteration 846\n",
      "m 2.4723655709156755, b 1.2946103927051815 , iteration 847\n",
      "m 2.4722058659992996, b 1.295186978494277 , iteration 848\n",
      "m 2.4720462150763494, b 1.2957633693412927 , iteration 849\n",
      "m 2.471886618128622, b 1.2963395653121519 , iteration 850\n",
      "m 2.4717270751379194, b 1.2969155664727559 , iteration 851\n",
      "m 2.471567586086049, b 1.2974913728889828 , iteration 852\n",
      "m 2.471408150954822, b 1.2980669846266886 , iteration 853\n",
      "m 2.4712487697260554, b 1.2986424017517062 , iteration 854\n",
      "m 2.471089442381572, b 1.2992176243298466 , iteration 855\n",
      "m 2.470930168903198, b 1.2997926524268975 , iteration 856\n",
      "m 2.4707709492727665, b 1.3003674861086245 , iteration 857\n",
      "m 2.4706117834721137, b 1.3009421254407707 , iteration 858\n",
      "m 2.470452671483083, b 1.3015165704890566 , iteration 859\n",
      "m 2.4702936132875206, b 1.30209082131918 , iteration 860\n",
      "m 2.47013460886728, b 1.3026648779968164 , iteration 861\n",
      "m 2.469975658204219, b 1.3032387405876191 , iteration 862\n",
      "m 2.4698167612802004, b 1.3038124091572185 , iteration 863\n",
      "m 2.469657918077093, b 1.3043858837712228 , iteration 864\n",
      "m 2.4694991285767696, b 1.3049591644952179 , iteration 865\n",
      "m 2.4693403927611093, b 1.305532251394767 , iteration 866\n",
      "m 2.469181710611996, b 1.3061051445354108 , iteration 867\n",
      "m 2.46902308211132, b 1.306677843982668 , iteration 868\n",
      "m 2.468864507240975, b 1.307250349802035 , iteration 869\n",
      "m 2.4687059859828615, b 1.307822662058985 , iteration 870\n",
      "m 2.4685475183188847, b 1.3083947808189698 , iteration 871\n",
      "m 2.4683891042309556, b 1.3089667061474186 , iteration 872\n",
      "m 2.4682307437009903, b 1.3095384381097381 , iteration 873\n",
      "m 2.46807243671091, b 1.3101099767713127 , iteration 874\n",
      "m 2.467914183242642, b 1.3106813221975047 , iteration 875\n",
      "m 2.467755983278119, b 1.3112524744536538 , iteration 876\n",
      "m 2.4675978367992784, b 1.3118234336050778 , iteration 877\n",
      "m 2.4674397437880637, b 1.312394199717072 , iteration 878\n",
      "m 2.467281704226424, b 1.3129647728549094 , iteration 879\n",
      "m 2.4671237180963135, b 1.313535153083841 , iteration 880\n",
      "m 2.4669657853796916, b 1.3141053404690954 , iteration 881\n",
      "m 2.466807906058524, b 1.314675335075879 , iteration 882\n",
      "m 2.466650080114781, b 1.3152451369693763 , iteration 883\n",
      "m 2.4664923075304395, b 1.315814746214749 , iteration 884\n",
      "m 2.466334588287481, b 1.3163841628771369 , iteration 885\n",
      "m 2.466176922367894, b 1.3169533870216577 , iteration 886\n",
      "m 2.4660193097536705, b 1.317522418713407 , iteration 887\n",
      "m 2.4658617504268094, b 1.3180912580174582 , iteration 888\n",
      "m 2.4657042443693147, b 1.3186599049988623 , iteration 889\n",
      "m 2.4655467915631966, b 1.3192283597226486 , iteration 890\n",
      "m 2.4653893919904704, b 1.3197966222538242 , iteration 891\n",
      "m 2.465232045633157, b 1.3203646926573738 , iteration 892\n",
      "m 2.4650747524732832, b 1.32093257099826 , iteration 893\n",
      "m 2.4649175124928813, b 1.3215002573414238 , iteration 894\n",
      "m 2.464760325673989, b 1.3220677517517838 , iteration 895\n",
      "m 2.4646031919986506, b 1.3226350542942362 , iteration 896\n",
      "m 2.464446111448915, b 1.3232021650336558 , iteration 897\n",
      "m 2.464289084006837, b 1.323769084034895 , iteration 898\n",
      "m 2.4641321096544773, b 1.324335811362784 , iteration 899\n",
      "m 2.4639751883739023, b 1.3249023470821317 , iteration 900\n",
      "m 2.4638183201471837, b 1.325468691257724 , iteration 901\n",
      "m 2.4636615049563995, b 1.3260348439543255 , iteration 902\n",
      "m 2.4635047427836327, b 1.3266008052366784 , iteration 903\n",
      "m 2.4633480336109725, b 1.3271665751695032 , iteration 904\n",
      "m 2.463191377420514, b 1.3277321538174984 , iteration 905\n",
      "m 2.463034774194358, b 1.3282975412453404 , iteration 906\n",
      "m 2.46287822391461, b 1.3288627375176836 , iteration 907\n",
      "m 2.4627217265633825, b 1.3294277426991605 , iteration 908\n",
      "m 2.4625652821227932, b 1.329992556854382 , iteration 909\n",
      "m 2.4624088905749657, b 1.3305571800479365 , iteration 910\n",
      "m 2.462252551902029, b 1.331121612344391 , iteration 911\n",
      "m 2.462096266086118, b 1.33168585380829 , iteration 912\n",
      "m 2.4619400331093737, b 1.3322499045041567 , iteration 913\n",
      "m 2.4617838529539426, b 1.3328137644964921 , iteration 914\n",
      "m 2.4616277256019767, b 1.3333774338497755 , iteration 915\n",
      "m 2.4614716510356347, b 1.333940912628464 , iteration 916\n",
      "m 2.46131562923708, b 1.3345042008969934 , iteration 917\n",
      "m 2.4611596601884824, b 1.335067298719777 , iteration 918\n",
      "m 2.461003743872017, b 1.3356302061612064 , iteration 919\n",
      "m 2.4608478802698657, b 1.336192923285652 , iteration 920\n",
      "m 2.4606920693642147, b 1.3367554501574614 , iteration 921\n",
      "m 2.460536311137257, b 1.3373177868409611 , iteration 922\n",
      "m 2.4603806055711916, b 1.3378799334004556 , iteration 923\n",
      "m 2.4602249526482227, b 1.3384418899002275 , iteration 924\n",
      "m 2.4600693523505606, b 1.3390036564045378 , iteration 925\n",
      "m 2.459913804660421, b 1.3395652329776253 , iteration 926\n",
      "m 2.4597583095600264, b 1.3401266196837076 , iteration 927\n",
      "m 2.4596028670316037, b 1.34068781658698 , iteration 928\n",
      "m 2.4594474770573864, b 1.3412488237516165 , iteration 929\n",
      "m 2.459292139619614, b 1.3418096412417688 , iteration 930\n",
      "m 2.459136854700532, b 1.3423702691215675 , iteration 931\n",
      "m 2.458981622282391, b 1.342930707455121 , iteration 932\n",
      "m 2.4588264423474477, b 1.3434909563065165 , iteration 933\n",
      "m 2.458671314877965, b 1.3440510157398187 , iteration 934\n",
      "m 2.458516239856211, b 1.3446108858190713 , iteration 935\n",
      "m 2.4583612172644598, b 1.3451705666082958 , iteration 936\n",
      "m 2.4582062470849917, b 1.3457300581714924 , iteration 937\n",
      "m 2.4580513293000927, b 1.3462893605726394 , iteration 938\n",
      "m 2.457896463892055, b 1.3468484738756936 , iteration 939\n",
      "m 2.4577416508431753, b 1.34740739814459 , iteration 940\n",
      "m 2.457586890135758, b 1.3479661334432418 , iteration 941\n",
      "m 2.457432181752112, b 1.3485246798355408 , iteration 942\n",
      "m 2.4572775256745523, b 1.349083037385357 , iteration 943\n",
      "m 2.4571229218854, b 1.349641206156539 , iteration 944\n",
      "m 2.456968370366982, b 1.3501991862129135 , iteration 945\n",
      "m 2.4568138711016307, b 1.3507569776182857 , iteration 946\n",
      "m 2.456659424071685, b 1.3513145804364393 , iteration 947\n",
      "m 2.4565050292594894, b 1.3518719947311362 , iteration 948\n",
      "m 2.4563506866473936, b 1.352429220566117 , iteration 949\n",
      "m 2.4561963962177544, b 1.3529862580051004 , iteration 950\n",
      "m 2.456042157952933, b 1.3535431071117836 , iteration 951\n",
      "m 2.4558879718352977, b 1.3540997679498425 , iteration 952\n",
      "m 2.455733837847222, b 1.354656240582931 , iteration 953\n",
      "m 2.455579755971086, b 1.3552125250746818 , iteration 954\n",
      "m 2.455425726189274, b 1.355768621488706 , iteration 955\n",
      "m 2.455271748484178, b 1.3563245298885929 , iteration 956\n",
      "m 2.4551178228381945, b 1.3568802503379107 , iteration 957\n",
      "m 2.4549639492337265, b 1.3574357829002057 , iteration 958\n",
      "m 2.4548101276531833, b 1.3579911276390029 , iteration 959\n",
      "m 2.4546563580789793, b 1.3585462846178058 , iteration 960\n",
      "m 2.454502640493535, b 1.3591012539000964 , iteration 961\n",
      "m 2.4543489748792764, b 1.359656035549335 , iteration 962\n",
      "m 2.4541953612186362, b 1.3602106296289607 , iteration 963\n",
      "m 2.4540417994940524, b 1.3607650362023909 , iteration 964\n",
      "m 2.453888289687969, b 1.3613192553330218 , iteration 965\n"
     ]
    },
    {
     "name": "stdout",
     "output_type": "stream",
     "text": [
      "m 2.4537348317828354, b 1.3618732870842278 , iteration 966\n",
      "m 2.4535814257611075, b 1.3624271315193623 , iteration 967\n",
      "m 2.453428071605247, b 1.3629807887017569 , iteration 968\n",
      "m 2.453274769297721, b 1.363534258694722 , iteration 969\n",
      "m 2.453121518821003, b 1.364087541561546 , iteration 970\n",
      "m 2.4529683201575714, b 1.364640637365497 , iteration 971\n",
      "m 2.452815173289912, b 1.3651935461698206 , iteration 972\n",
      "m 2.452662078200515, b 1.3657462680377415 , iteration 973\n",
      "m 2.4525090348718774, b 1.366298803032463 , iteration 974\n",
      "m 2.4523560432865015, b 1.3668511512171668 , iteration 975\n",
      "m 2.4522031034268954, b 1.3674033126550136 , iteration 976\n",
      "m 2.4520502152755737, b 1.367955287409142 , iteration 977\n",
      "m 2.451897378815056, b 1.3685070755426703 , iteration 978\n",
      "m 2.451744594027869, b 1.3690586771186946 , iteration 979\n",
      "m 2.4515918608965435, b 1.36961009220029 , iteration 980\n",
      "m 2.451439179403618, b 1.3701613208505101 , iteration 981\n",
      "m 2.4512865495316354, b 1.3707123631323874 , iteration 982\n",
      "m 2.451133971263145, b 1.371263219108933 , iteration 983\n",
      "m 2.450981444580702, b 1.3718138888431362 , iteration 984\n",
      "m 2.4508289694668677, b 1.3723643723979657 , iteration 985\n",
      "m 2.4506765459042086, b 1.3729146698363686 , iteration 986\n",
      "m 2.450524173875298, b 1.3734647812212706 , iteration 987\n",
      "m 2.450371853362714, b 1.3740147066155763 , iteration 988\n",
      "m 2.450219584349041, b 1.3745644460821689 , iteration 989\n",
      "m 2.450067366816869, b 1.3751139996839103 , iteration 990\n",
      "m 2.4499152007487943, b 1.3756633674836414 , iteration 991\n",
      "m 2.449763086127419, b 1.3762125495441813 , iteration 992\n",
      "m 2.4496110229353505, b 1.3767615459283284 , iteration 993\n",
      "m 2.4494590111552026, b 1.3773103566988596 , iteration 994\n",
      "m 2.449307050769595, b 1.3778589819185307 , iteration 995\n",
      "m 2.449155141761153, b 1.3784074216500761 , iteration 996\n",
      "m 2.449003284112507, b 1.3789556759562092 , iteration 997\n",
      "m 2.448851477806295, b 1.3795037448996217 , iteration 998\n",
      "m 2.448699722825159, b 1.3800516285429847 , iteration 999\n"
     ]
    }
   ],
   "source": [
    "gradient_descent(x,y)"
   ]
  },
  {
   "cell_type": "code",
   "execution_count": null,
   "metadata": {},
   "outputs": [],
   "source": []
  },
  {
   "cell_type": "code",
   "execution_count": 311,
   "metadata": {},
   "outputs": [],
   "source": [
    "#exercise\n",
    "#to find the gradient use the lib (math.isclose(a,b,*,rel_tol = 1e-09,abs_tol=0.0))"
   ]
  },
  {
   "cell_type": "code",
   "execution_count": null,
   "metadata": {},
   "outputs": [],
   "source": []
  },
  {
   "cell_type": "code",
   "execution_count": 312,
   "metadata": {},
   "outputs": [],
   "source": [
    "#save module using joblib and pickle\n"
   ]
  },
  {
   "cell_type": "code",
   "execution_count": 313,
   "metadata": {},
   "outputs": [],
   "source": [
    "#save and load trained model using\n",
    "#pickle\n",
    "#sklearn joblib"
   ]
  },
  {
   "cell_type": "code",
   "execution_count": 314,
   "metadata": {},
   "outputs": [
    {
     "data": {
      "text/html": [
       "<div>\n",
       "<style scoped>\n",
       "    .dataframe tbody tr th:only-of-type {\n",
       "        vertical-align: middle;\n",
       "    }\n",
       "\n",
       "    .dataframe tbody tr th {\n",
       "        vertical-align: top;\n",
       "    }\n",
       "\n",
       "    .dataframe thead th {\n",
       "        text-align: right;\n",
       "    }\n",
       "</style>\n",
       "<table border=\"1\" class=\"dataframe\">\n",
       "  <thead>\n",
       "    <tr style=\"text-align: right;\">\n",
       "      <th></th>\n",
       "      <th>area</th>\n",
       "      <th>price</th>\n",
       "    </tr>\n",
       "  </thead>\n",
       "  <tbody>\n",
       "    <tr>\n",
       "      <th>0</th>\n",
       "      <td>2600</td>\n",
       "      <td>550000</td>\n",
       "    </tr>\n",
       "    <tr>\n",
       "      <th>1</th>\n",
       "      <td>3000</td>\n",
       "      <td>565000</td>\n",
       "    </tr>\n",
       "    <tr>\n",
       "      <th>2</th>\n",
       "      <td>3200</td>\n",
       "      <td>610000</td>\n",
       "    </tr>\n",
       "    <tr>\n",
       "      <th>3</th>\n",
       "      <td>3600</td>\n",
       "      <td>680000</td>\n",
       "    </tr>\n",
       "    <tr>\n",
       "      <th>4</th>\n",
       "      <td>4000</td>\n",
       "      <td>725000</td>\n",
       "    </tr>\n",
       "  </tbody>\n",
       "</table>\n",
       "</div>"
      ],
      "text/plain": [
       "   area   price\n",
       "0  2600  550000\n",
       "1  3000  565000\n",
       "2  3200  610000\n",
       "3  3600  680000\n",
       "4  4000  725000"
      ]
     },
     "execution_count": 314,
     "metadata": {},
     "output_type": "execute_result"
    }
   ],
   "source": [
    "#using pickle\n",
    "df"
   ]
  },
  {
   "cell_type": "code",
   "execution_count": 315,
   "metadata": {},
   "outputs": [
    {
     "data": {
      "text/plain": [
       "LinearRegression(copy_X=True, fit_intercept=True, n_jobs=None, normalize=False)"
      ]
     },
     "execution_count": 315,
     "metadata": {},
     "output_type": "execute_result"
    }
   ],
   "source": [
    "reg = linear_model.LinearRegression()\n",
    "reg.fit(df[['area']],df.price)"
   ]
  },
  {
   "cell_type": "code",
   "execution_count": 316,
   "metadata": {},
   "outputs": [
    {
     "data": {
      "text/plain": [
       "array([135.78767123])"
      ]
     },
     "execution_count": 316,
     "metadata": {},
     "output_type": "execute_result"
    }
   ],
   "source": [
    "reg.coef_  #slope(m)"
   ]
  },
  {
   "cell_type": "code",
   "execution_count": 317,
   "metadata": {},
   "outputs": [
    {
     "data": {
      "text/plain": [
       "180616.43835616432"
      ]
     },
     "execution_count": 317,
     "metadata": {},
     "output_type": "execute_result"
    }
   ],
   "source": [
    "reg.intercept_  #b's value"
   ]
  },
  {
   "cell_type": "code",
   "execution_count": 318,
   "metadata": {},
   "outputs": [
    {
     "data": {
      "text/plain": [
       "array([859554.79452055])"
      ]
     },
     "execution_count": 318,
     "metadata": {},
     "output_type": "execute_result"
    }
   ],
   "source": [
    "reg.predict([[5000]])"
   ]
  },
  {
   "cell_type": "code",
   "execution_count": 319,
   "metadata": {},
   "outputs": [],
   "source": [
    "import pickle "
   ]
  },
  {
   "cell_type": "code",
   "execution_count": 320,
   "metadata": {},
   "outputs": [],
   "source": [
    "\n",
    "with open('reg_pickle','wb') as f:\n",
    "    pickle.dump(reg,f)"
   ]
  },
  {
   "cell_type": "code",
   "execution_count": 321,
   "metadata": {},
   "outputs": [],
   "source": [
    "with open('reg_pickle','rb') as f:\n",
    "    mp = pickle.load(f)\n"
   ]
  },
  {
   "cell_type": "code",
   "execution_count": 322,
   "metadata": {},
   "outputs": [
    {
     "data": {
      "text/plain": [
       "array([859554.79452055])"
      ]
     },
     "execution_count": 322,
     "metadata": {},
     "output_type": "execute_result"
    }
   ],
   "source": [
    "mp.predict([[5000]])"
   ]
  },
  {
   "cell_type": "code",
   "execution_count": null,
   "metadata": {},
   "outputs": [],
   "source": []
  },
  {
   "cell_type": "code",
   "execution_count": 323,
   "metadata": {},
   "outputs": [],
   "source": [
    "#using sklearn joblib\n",
    "#Note\n",
    "#In the specific case of the scikit, it may be more interesting to use joblib’s replacement of pickle (joblib.dump & joblib.load), which is more efficient on objects that carry large numpy arrays internally as is often the case for fitted scikit-learn estimators, but can only pickle to the disk and not to a string:\n"
   ]
  },
  {
   "cell_type": "code",
   "execution_count": 324,
   "metadata": {},
   "outputs": [],
   "source": [
    "from sklearn.externals import joblib\n"
   ]
  },
  {
   "cell_type": "code",
   "execution_count": 325,
   "metadata": {},
   "outputs": [
    {
     "data": {
      "text/plain": [
       "['reg_joblib']"
      ]
     },
     "execution_count": 325,
     "metadata": {},
     "output_type": "execute_result"
    }
   ],
   "source": [
    "joblib.dump(reg,'reg_joblib') #model is saved"
   ]
  },
  {
   "cell_type": "code",
   "execution_count": 326,
   "metadata": {},
   "outputs": [],
   "source": [
    "mj=joblib.load('reg_joblib',)"
   ]
  },
  {
   "cell_type": "code",
   "execution_count": 327,
   "metadata": {},
   "outputs": [
    {
     "data": {
      "text/plain": [
       "array([859554.79452055])"
      ]
     },
     "execution_count": 327,
     "metadata": {},
     "output_type": "execute_result"
    }
   ],
   "source": [
    "mj.predict([[5000]])"
   ]
  },
  {
   "cell_type": "code",
   "execution_count": 328,
   "metadata": {},
   "outputs": [
    {
     "data": {
      "text/plain": [
       "array([135.78767123])"
      ]
     },
     "execution_count": 328,
     "metadata": {},
     "output_type": "execute_result"
    }
   ],
   "source": [
    "mj.coef_"
   ]
  },
  {
   "cell_type": "code",
   "execution_count": 329,
   "metadata": {},
   "outputs": [
    {
     "data": {
      "text/plain": [
       "180616.43835616432"
      ]
     },
     "execution_count": 329,
     "metadata": {},
     "output_type": "execute_result"
    }
   ],
   "source": [
    "mj.intercept_"
   ]
  },
  {
   "cell_type": "code",
   "execution_count": null,
   "metadata": {},
   "outputs": [],
   "source": []
  },
  {
   "cell_type": "code",
   "execution_count": null,
   "metadata": {},
   "outputs": [],
   "source": []
  },
  {
   "cell_type": "code",
   "execution_count": 330,
   "metadata": {},
   "outputs": [],
   "source": [
    "#Dummy Variable & one hot encoding\n"
   ]
  },
  {
   "cell_type": "code",
   "execution_count": 331,
   "metadata": {},
   "outputs": [],
   "source": [
    "#Build a predictor function to predict price of home, 1) with 3400sqr ft area in west windsor   2) 2800 sqr ft home in robbinsville\n"
   ]
  },
  {
   "cell_type": "code",
   "execution_count": 332,
   "metadata": {},
   "outputs": [],
   "source": [
    "#one way is handle the string in the model is to convert it to the number and assign it tring a number and make a group of them. but it will take it as a order which means e.g 1<2<3 etc\n",
    "#these variables are called categorical variables , 1)nominal 2)ordinal\n",
    " "
   ]
  },
  {
   "cell_type": "code",
   "execution_count": 333,
   "metadata": {},
   "outputs": [
    {
     "data": {
      "text/html": [
       "<div>\n",
       "<style scoped>\n",
       "    .dataframe tbody tr th:only-of-type {\n",
       "        vertical-align: middle;\n",
       "    }\n",
       "\n",
       "    .dataframe tbody tr th {\n",
       "        vertical-align: top;\n",
       "    }\n",
       "\n",
       "    .dataframe thead th {\n",
       "        text-align: right;\n",
       "    }\n",
       "</style>\n",
       "<table border=\"1\" class=\"dataframe\">\n",
       "  <thead>\n",
       "    <tr style=\"text-align: right;\">\n",
       "      <th></th>\n",
       "      <th>town</th>\n",
       "      <th>area</th>\n",
       "      <th>price</th>\n",
       "    </tr>\n",
       "  </thead>\n",
       "  <tbody>\n",
       "    <tr>\n",
       "      <th>0</th>\n",
       "      <td>monroe township</td>\n",
       "      <td>2600</td>\n",
       "      <td>550000</td>\n",
       "    </tr>\n",
       "    <tr>\n",
       "      <th>1</th>\n",
       "      <td>monroe township</td>\n",
       "      <td>3000</td>\n",
       "      <td>565000</td>\n",
       "    </tr>\n",
       "    <tr>\n",
       "      <th>2</th>\n",
       "      <td>monroe township</td>\n",
       "      <td>3200</td>\n",
       "      <td>610000</td>\n",
       "    </tr>\n",
       "    <tr>\n",
       "      <th>3</th>\n",
       "      <td>monroe township</td>\n",
       "      <td>3600</td>\n",
       "      <td>680000</td>\n",
       "    </tr>\n",
       "    <tr>\n",
       "      <th>4</th>\n",
       "      <td>west windsor</td>\n",
       "      <td>4000</td>\n",
       "      <td>725000</td>\n",
       "    </tr>\n",
       "    <tr>\n",
       "      <th>5</th>\n",
       "      <td>west windsor</td>\n",
       "      <td>2600</td>\n",
       "      <td>585000</td>\n",
       "    </tr>\n",
       "    <tr>\n",
       "      <th>6</th>\n",
       "      <td>west windsor</td>\n",
       "      <td>2800</td>\n",
       "      <td>615000</td>\n",
       "    </tr>\n",
       "    <tr>\n",
       "      <th>7</th>\n",
       "      <td>west windsor</td>\n",
       "      <td>3300</td>\n",
       "      <td>650000</td>\n",
       "    </tr>\n",
       "    <tr>\n",
       "      <th>8</th>\n",
       "      <td>robbinsville</td>\n",
       "      <td>3600</td>\n",
       "      <td>710000</td>\n",
       "    </tr>\n",
       "    <tr>\n",
       "      <th>9</th>\n",
       "      <td>robbinsville</td>\n",
       "      <td>2600</td>\n",
       "      <td>575000</td>\n",
       "    </tr>\n",
       "    <tr>\n",
       "      <th>10</th>\n",
       "      <td>robbinsville</td>\n",
       "      <td>2900</td>\n",
       "      <td>600000</td>\n",
       "    </tr>\n",
       "    <tr>\n",
       "      <th>11</th>\n",
       "      <td>robbinsville</td>\n",
       "      <td>3100</td>\n",
       "      <td>620000</td>\n",
       "    </tr>\n",
       "    <tr>\n",
       "      <th>12</th>\n",
       "      <td>robbinsville</td>\n",
       "      <td>3600</td>\n",
       "      <td>695000</td>\n",
       "    </tr>\n",
       "  </tbody>\n",
       "</table>\n",
       "</div>"
      ],
      "text/plain": [
       "               town  area   price\n",
       "0   monroe township  2600  550000\n",
       "1   monroe township  3000  565000\n",
       "2   monroe township  3200  610000\n",
       "3   monroe township  3600  680000\n",
       "4      west windsor  4000  725000\n",
       "5      west windsor  2600  585000\n",
       "6      west windsor  2800  615000\n",
       "7      west windsor  3300  650000\n",
       "8      robbinsville  3600  710000\n",
       "9      robbinsville  2600  575000\n",
       "10     robbinsville  2900  600000\n",
       "11     robbinsville  3100  620000\n",
       "12     robbinsville  3600  695000"
      ]
     },
     "execution_count": 333,
     "metadata": {},
     "output_type": "execute_result"
    }
   ],
   "source": [
    "import pandas as pd\n",
    "pf = pd.read_csv(\"D:\\excel_files\\homeprices.csv\")\n",
    "pf\n"
   ]
  },
  {
   "cell_type": "code",
   "execution_count": 334,
   "metadata": {},
   "outputs": [
    {
     "data": {
      "text/html": [
       "<div>\n",
       "<style scoped>\n",
       "    .dataframe tbody tr th:only-of-type {\n",
       "        vertical-align: middle;\n",
       "    }\n",
       "\n",
       "    .dataframe tbody tr th {\n",
       "        vertical-align: top;\n",
       "    }\n",
       "\n",
       "    .dataframe thead th {\n",
       "        text-align: right;\n",
       "    }\n",
       "</style>\n",
       "<table border=\"1\" class=\"dataframe\">\n",
       "  <thead>\n",
       "    <tr style=\"text-align: right;\">\n",
       "      <th></th>\n",
       "      <th>monroe township</th>\n",
       "      <th>robbinsville</th>\n",
       "      <th>west windsor</th>\n",
       "    </tr>\n",
       "  </thead>\n",
       "  <tbody>\n",
       "    <tr>\n",
       "      <th>0</th>\n",
       "      <td>1</td>\n",
       "      <td>0</td>\n",
       "      <td>0</td>\n",
       "    </tr>\n",
       "    <tr>\n",
       "      <th>1</th>\n",
       "      <td>1</td>\n",
       "      <td>0</td>\n",
       "      <td>0</td>\n",
       "    </tr>\n",
       "    <tr>\n",
       "      <th>2</th>\n",
       "      <td>1</td>\n",
       "      <td>0</td>\n",
       "      <td>0</td>\n",
       "    </tr>\n",
       "    <tr>\n",
       "      <th>3</th>\n",
       "      <td>1</td>\n",
       "      <td>0</td>\n",
       "      <td>0</td>\n",
       "    </tr>\n",
       "    <tr>\n",
       "      <th>4</th>\n",
       "      <td>0</td>\n",
       "      <td>0</td>\n",
       "      <td>1</td>\n",
       "    </tr>\n",
       "    <tr>\n",
       "      <th>5</th>\n",
       "      <td>0</td>\n",
       "      <td>0</td>\n",
       "      <td>1</td>\n",
       "    </tr>\n",
       "    <tr>\n",
       "      <th>6</th>\n",
       "      <td>0</td>\n",
       "      <td>0</td>\n",
       "      <td>1</td>\n",
       "    </tr>\n",
       "    <tr>\n",
       "      <th>7</th>\n",
       "      <td>0</td>\n",
       "      <td>0</td>\n",
       "      <td>1</td>\n",
       "    </tr>\n",
       "    <tr>\n",
       "      <th>8</th>\n",
       "      <td>0</td>\n",
       "      <td>1</td>\n",
       "      <td>0</td>\n",
       "    </tr>\n",
       "    <tr>\n",
       "      <th>9</th>\n",
       "      <td>0</td>\n",
       "      <td>1</td>\n",
       "      <td>0</td>\n",
       "    </tr>\n",
       "    <tr>\n",
       "      <th>10</th>\n",
       "      <td>0</td>\n",
       "      <td>1</td>\n",
       "      <td>0</td>\n",
       "    </tr>\n",
       "    <tr>\n",
       "      <th>11</th>\n",
       "      <td>0</td>\n",
       "      <td>1</td>\n",
       "      <td>0</td>\n",
       "    </tr>\n",
       "    <tr>\n",
       "      <th>12</th>\n",
       "      <td>0</td>\n",
       "      <td>1</td>\n",
       "      <td>0</td>\n",
       "    </tr>\n",
       "  </tbody>\n",
       "</table>\n",
       "</div>"
      ],
      "text/plain": [
       "    monroe township  robbinsville  west windsor\n",
       "0                 1             0             0\n",
       "1                 1             0             0\n",
       "2                 1             0             0\n",
       "3                 1             0             0\n",
       "4                 0             0             1\n",
       "5                 0             0             1\n",
       "6                 0             0             1\n",
       "7                 0             0             1\n",
       "8                 0             1             0\n",
       "9                 0             1             0\n",
       "10                0             1             0\n",
       "11                0             1             0\n",
       "12                0             1             0"
      ]
     },
     "execution_count": 334,
     "metadata": {},
     "output_type": "execute_result"
    }
   ],
   "source": [
    "dummies = pd.get_dummies(pf.town)\n",
    "dummies"
   ]
  },
  {
   "cell_type": "code",
   "execution_count": 335,
   "metadata": {},
   "outputs": [
    {
     "data": {
      "text/html": [
       "<div>\n",
       "<style scoped>\n",
       "    .dataframe tbody tr th:only-of-type {\n",
       "        vertical-align: middle;\n",
       "    }\n",
       "\n",
       "    .dataframe tbody tr th {\n",
       "        vertical-align: top;\n",
       "    }\n",
       "\n",
       "    .dataframe thead th {\n",
       "        text-align: right;\n",
       "    }\n",
       "</style>\n",
       "<table border=\"1\" class=\"dataframe\">\n",
       "  <thead>\n",
       "    <tr style=\"text-align: right;\">\n",
       "      <th></th>\n",
       "      <th>town</th>\n",
       "      <th>area</th>\n",
       "      <th>price</th>\n",
       "      <th>monroe township</th>\n",
       "      <th>robbinsville</th>\n",
       "      <th>west windsor</th>\n",
       "    </tr>\n",
       "  </thead>\n",
       "  <tbody>\n",
       "    <tr>\n",
       "      <th>0</th>\n",
       "      <td>monroe township</td>\n",
       "      <td>2600</td>\n",
       "      <td>550000</td>\n",
       "      <td>1</td>\n",
       "      <td>0</td>\n",
       "      <td>0</td>\n",
       "    </tr>\n",
       "    <tr>\n",
       "      <th>1</th>\n",
       "      <td>monroe township</td>\n",
       "      <td>3000</td>\n",
       "      <td>565000</td>\n",
       "      <td>1</td>\n",
       "      <td>0</td>\n",
       "      <td>0</td>\n",
       "    </tr>\n",
       "    <tr>\n",
       "      <th>2</th>\n",
       "      <td>monroe township</td>\n",
       "      <td>3200</td>\n",
       "      <td>610000</td>\n",
       "      <td>1</td>\n",
       "      <td>0</td>\n",
       "      <td>0</td>\n",
       "    </tr>\n",
       "    <tr>\n",
       "      <th>3</th>\n",
       "      <td>monroe township</td>\n",
       "      <td>3600</td>\n",
       "      <td>680000</td>\n",
       "      <td>1</td>\n",
       "      <td>0</td>\n",
       "      <td>0</td>\n",
       "    </tr>\n",
       "    <tr>\n",
       "      <th>4</th>\n",
       "      <td>west windsor</td>\n",
       "      <td>4000</td>\n",
       "      <td>725000</td>\n",
       "      <td>0</td>\n",
       "      <td>0</td>\n",
       "      <td>1</td>\n",
       "    </tr>\n",
       "    <tr>\n",
       "      <th>5</th>\n",
       "      <td>west windsor</td>\n",
       "      <td>2600</td>\n",
       "      <td>585000</td>\n",
       "      <td>0</td>\n",
       "      <td>0</td>\n",
       "      <td>1</td>\n",
       "    </tr>\n",
       "    <tr>\n",
       "      <th>6</th>\n",
       "      <td>west windsor</td>\n",
       "      <td>2800</td>\n",
       "      <td>615000</td>\n",
       "      <td>0</td>\n",
       "      <td>0</td>\n",
       "      <td>1</td>\n",
       "    </tr>\n",
       "    <tr>\n",
       "      <th>7</th>\n",
       "      <td>west windsor</td>\n",
       "      <td>3300</td>\n",
       "      <td>650000</td>\n",
       "      <td>0</td>\n",
       "      <td>0</td>\n",
       "      <td>1</td>\n",
       "    </tr>\n",
       "    <tr>\n",
       "      <th>8</th>\n",
       "      <td>robbinsville</td>\n",
       "      <td>3600</td>\n",
       "      <td>710000</td>\n",
       "      <td>0</td>\n",
       "      <td>1</td>\n",
       "      <td>0</td>\n",
       "    </tr>\n",
       "    <tr>\n",
       "      <th>9</th>\n",
       "      <td>robbinsville</td>\n",
       "      <td>2600</td>\n",
       "      <td>575000</td>\n",
       "      <td>0</td>\n",
       "      <td>1</td>\n",
       "      <td>0</td>\n",
       "    </tr>\n",
       "    <tr>\n",
       "      <th>10</th>\n",
       "      <td>robbinsville</td>\n",
       "      <td>2900</td>\n",
       "      <td>600000</td>\n",
       "      <td>0</td>\n",
       "      <td>1</td>\n",
       "      <td>0</td>\n",
       "    </tr>\n",
       "    <tr>\n",
       "      <th>11</th>\n",
       "      <td>robbinsville</td>\n",
       "      <td>3100</td>\n",
       "      <td>620000</td>\n",
       "      <td>0</td>\n",
       "      <td>1</td>\n",
       "      <td>0</td>\n",
       "    </tr>\n",
       "    <tr>\n",
       "      <th>12</th>\n",
       "      <td>robbinsville</td>\n",
       "      <td>3600</td>\n",
       "      <td>695000</td>\n",
       "      <td>0</td>\n",
       "      <td>1</td>\n",
       "      <td>0</td>\n",
       "    </tr>\n",
       "  </tbody>\n",
       "</table>\n",
       "</div>"
      ],
      "text/plain": [
       "               town  area   price  monroe township  robbinsville  west windsor\n",
       "0   monroe township  2600  550000                1             0             0\n",
       "1   monroe township  3000  565000                1             0             0\n",
       "2   monroe township  3200  610000                1             0             0\n",
       "3   monroe township  3600  680000                1             0             0\n",
       "4      west windsor  4000  725000                0             0             1\n",
       "5      west windsor  2600  585000                0             0             1\n",
       "6      west windsor  2800  615000                0             0             1\n",
       "7      west windsor  3300  650000                0             0             1\n",
       "8      robbinsville  3600  710000                0             1             0\n",
       "9      robbinsville  2600  575000                0             1             0\n",
       "10     robbinsville  2900  600000                0             1             0\n",
       "11     robbinsville  3100  620000                0             1             0\n",
       "12     robbinsville  3600  695000                0             1             0"
      ]
     },
     "execution_count": 335,
     "metadata": {},
     "output_type": "execute_result"
    }
   ],
   "source": [
    "merged = pd.concat([pf,dummies],axis='columns')  \n",
    "merged"
   ]
  },
  {
   "cell_type": "code",
   "execution_count": 336,
   "metadata": {},
   "outputs": [
    {
     "data": {
      "text/html": [
       "<div>\n",
       "<style scoped>\n",
       "    .dataframe tbody tr th:only-of-type {\n",
       "        vertical-align: middle;\n",
       "    }\n",
       "\n",
       "    .dataframe tbody tr th {\n",
       "        vertical-align: top;\n",
       "    }\n",
       "\n",
       "    .dataframe thead th {\n",
       "        text-align: right;\n",
       "    }\n",
       "</style>\n",
       "<table border=\"1\" class=\"dataframe\">\n",
       "  <thead>\n",
       "    <tr style=\"text-align: right;\">\n",
       "      <th></th>\n",
       "      <th>area</th>\n",
       "      <th>price</th>\n",
       "      <th>monroe township</th>\n",
       "      <th>robbinsville</th>\n",
       "    </tr>\n",
       "  </thead>\n",
       "  <tbody>\n",
       "    <tr>\n",
       "      <th>0</th>\n",
       "      <td>2600</td>\n",
       "      <td>550000</td>\n",
       "      <td>1</td>\n",
       "      <td>0</td>\n",
       "    </tr>\n",
       "    <tr>\n",
       "      <th>1</th>\n",
       "      <td>3000</td>\n",
       "      <td>565000</td>\n",
       "      <td>1</td>\n",
       "      <td>0</td>\n",
       "    </tr>\n",
       "    <tr>\n",
       "      <th>2</th>\n",
       "      <td>3200</td>\n",
       "      <td>610000</td>\n",
       "      <td>1</td>\n",
       "      <td>0</td>\n",
       "    </tr>\n",
       "    <tr>\n",
       "      <th>3</th>\n",
       "      <td>3600</td>\n",
       "      <td>680000</td>\n",
       "      <td>1</td>\n",
       "      <td>0</td>\n",
       "    </tr>\n",
       "    <tr>\n",
       "      <th>4</th>\n",
       "      <td>4000</td>\n",
       "      <td>725000</td>\n",
       "      <td>0</td>\n",
       "      <td>0</td>\n",
       "    </tr>\n",
       "    <tr>\n",
       "      <th>5</th>\n",
       "      <td>2600</td>\n",
       "      <td>585000</td>\n",
       "      <td>0</td>\n",
       "      <td>0</td>\n",
       "    </tr>\n",
       "    <tr>\n",
       "      <th>6</th>\n",
       "      <td>2800</td>\n",
       "      <td>615000</td>\n",
       "      <td>0</td>\n",
       "      <td>0</td>\n",
       "    </tr>\n",
       "    <tr>\n",
       "      <th>7</th>\n",
       "      <td>3300</td>\n",
       "      <td>650000</td>\n",
       "      <td>0</td>\n",
       "      <td>0</td>\n",
       "    </tr>\n",
       "    <tr>\n",
       "      <th>8</th>\n",
       "      <td>3600</td>\n",
       "      <td>710000</td>\n",
       "      <td>0</td>\n",
       "      <td>1</td>\n",
       "    </tr>\n",
       "    <tr>\n",
       "      <th>9</th>\n",
       "      <td>2600</td>\n",
       "      <td>575000</td>\n",
       "      <td>0</td>\n",
       "      <td>1</td>\n",
       "    </tr>\n",
       "    <tr>\n",
       "      <th>10</th>\n",
       "      <td>2900</td>\n",
       "      <td>600000</td>\n",
       "      <td>0</td>\n",
       "      <td>1</td>\n",
       "    </tr>\n",
       "    <tr>\n",
       "      <th>11</th>\n",
       "      <td>3100</td>\n",
       "      <td>620000</td>\n",
       "      <td>0</td>\n",
       "      <td>1</td>\n",
       "    </tr>\n",
       "    <tr>\n",
       "      <th>12</th>\n",
       "      <td>3600</td>\n",
       "      <td>695000</td>\n",
       "      <td>0</td>\n",
       "      <td>1</td>\n",
       "    </tr>\n",
       "  </tbody>\n",
       "</table>\n",
       "</div>"
      ],
      "text/plain": [
       "    area   price  monroe township  robbinsville\n",
       "0   2600  550000                1             0\n",
       "1   3000  565000                1             0\n",
       "2   3200  610000                1             0\n",
       "3   3600  680000                1             0\n",
       "4   4000  725000                0             0\n",
       "5   2600  585000                0             0\n",
       "6   2800  615000                0             0\n",
       "7   3300  650000                0             0\n",
       "8   3600  710000                0             1\n",
       "9   2600  575000                0             1\n",
       "10  2900  600000                0             1\n",
       "11  3100  620000                0             1\n",
       "12  3600  695000                0             1"
      ]
     },
     "execution_count": 336,
     "metadata": {},
     "output_type": "execute_result"
    }
   ],
   "source": [
    "final = merged.drop(['town','west windsor'],axis = 'columns')\n",
    "final"
   ]
  },
  {
   "cell_type": "code",
   "execution_count": 337,
   "metadata": {},
   "outputs": [],
   "source": [
    "from sklearn.linear_model import LinearRegression\n",
    "pf = LinearRegression()"
   ]
  },
  {
   "cell_type": "code",
   "execution_count": 338,
   "metadata": {},
   "outputs": [
    {
     "data": {
      "text/html": [
       "<div>\n",
       "<style scoped>\n",
       "    .dataframe tbody tr th:only-of-type {\n",
       "        vertical-align: middle;\n",
       "    }\n",
       "\n",
       "    .dataframe tbody tr th {\n",
       "        vertical-align: top;\n",
       "    }\n",
       "\n",
       "    .dataframe thead th {\n",
       "        text-align: right;\n",
       "    }\n",
       "</style>\n",
       "<table border=\"1\" class=\"dataframe\">\n",
       "  <thead>\n",
       "    <tr style=\"text-align: right;\">\n",
       "      <th></th>\n",
       "      <th>area</th>\n",
       "      <th>monroe township</th>\n",
       "      <th>robbinsville</th>\n",
       "    </tr>\n",
       "  </thead>\n",
       "  <tbody>\n",
       "    <tr>\n",
       "      <th>0</th>\n",
       "      <td>2600</td>\n",
       "      <td>1</td>\n",
       "      <td>0</td>\n",
       "    </tr>\n",
       "    <tr>\n",
       "      <th>1</th>\n",
       "      <td>3000</td>\n",
       "      <td>1</td>\n",
       "      <td>0</td>\n",
       "    </tr>\n",
       "    <tr>\n",
       "      <th>2</th>\n",
       "      <td>3200</td>\n",
       "      <td>1</td>\n",
       "      <td>0</td>\n",
       "    </tr>\n",
       "    <tr>\n",
       "      <th>3</th>\n",
       "      <td>3600</td>\n",
       "      <td>1</td>\n",
       "      <td>0</td>\n",
       "    </tr>\n",
       "    <tr>\n",
       "      <th>4</th>\n",
       "      <td>4000</td>\n",
       "      <td>0</td>\n",
       "      <td>0</td>\n",
       "    </tr>\n",
       "    <tr>\n",
       "      <th>5</th>\n",
       "      <td>2600</td>\n",
       "      <td>0</td>\n",
       "      <td>0</td>\n",
       "    </tr>\n",
       "    <tr>\n",
       "      <th>6</th>\n",
       "      <td>2800</td>\n",
       "      <td>0</td>\n",
       "      <td>0</td>\n",
       "    </tr>\n",
       "    <tr>\n",
       "      <th>7</th>\n",
       "      <td>3300</td>\n",
       "      <td>0</td>\n",
       "      <td>0</td>\n",
       "    </tr>\n",
       "    <tr>\n",
       "      <th>8</th>\n",
       "      <td>3600</td>\n",
       "      <td>0</td>\n",
       "      <td>1</td>\n",
       "    </tr>\n",
       "    <tr>\n",
       "      <th>9</th>\n",
       "      <td>2600</td>\n",
       "      <td>0</td>\n",
       "      <td>1</td>\n",
       "    </tr>\n",
       "    <tr>\n",
       "      <th>10</th>\n",
       "      <td>2900</td>\n",
       "      <td>0</td>\n",
       "      <td>1</td>\n",
       "    </tr>\n",
       "    <tr>\n",
       "      <th>11</th>\n",
       "      <td>3100</td>\n",
       "      <td>0</td>\n",
       "      <td>1</td>\n",
       "    </tr>\n",
       "    <tr>\n",
       "      <th>12</th>\n",
       "      <td>3600</td>\n",
       "      <td>0</td>\n",
       "      <td>1</td>\n",
       "    </tr>\n",
       "  </tbody>\n",
       "</table>\n",
       "</div>"
      ],
      "text/plain": [
       "    area  monroe township  robbinsville\n",
       "0   2600                1             0\n",
       "1   3000                1             0\n",
       "2   3200                1             0\n",
       "3   3600                1             0\n",
       "4   4000                0             0\n",
       "5   2600                0             0\n",
       "6   2800                0             0\n",
       "7   3300                0             0\n",
       "8   3600                0             1\n",
       "9   2600                0             1\n",
       "10  2900                0             1\n",
       "11  3100                0             1\n",
       "12  3600                0             1"
      ]
     },
     "execution_count": 338,
     "metadata": {},
     "output_type": "execute_result"
    }
   ],
   "source": [
    "x = final.drop('price',axis = 'columns')\n",
    "x"
   ]
  },
  {
   "cell_type": "code",
   "execution_count": 339,
   "metadata": {},
   "outputs": [
    {
     "data": {
      "text/plain": [
       "0     550000\n",
       "1     565000\n",
       "2     610000\n",
       "3     680000\n",
       "4     725000\n",
       "5     585000\n",
       "6     615000\n",
       "7     650000\n",
       "8     710000\n",
       "9     575000\n",
       "10    600000\n",
       "11    620000\n",
       "12    695000\n",
       "Name: price, dtype: int64"
      ]
     },
     "execution_count": 339,
     "metadata": {},
     "output_type": "execute_result"
    }
   ],
   "source": [
    "y = final.price\n",
    "y"
   ]
  },
  {
   "cell_type": "code",
   "execution_count": 340,
   "metadata": {},
   "outputs": [
    {
     "data": {
      "text/plain": [
       "LinearRegression(copy_X=True, fit_intercept=True, n_jobs=None, normalize=False)"
      ]
     },
     "execution_count": 340,
     "metadata": {},
     "output_type": "execute_result"
    }
   ],
   "source": [
    "pf.fit(x,y)"
   ]
  },
  {
   "cell_type": "code",
   "execution_count": 341,
   "metadata": {},
   "outputs": [
    {
     "data": {
      "text/plain": [
       "array([598302.50050823])"
      ]
     },
     "execution_count": 341,
     "metadata": {},
     "output_type": "execute_result"
    }
   ],
   "source": [
    "pf.predict([[2800,0,1]])"
   ]
  },
  {
   "cell_type": "code",
   "execution_count": 342,
   "metadata": {},
   "outputs": [
    {
     "data": {
      "text/plain": [
       "array([669810.93718236])"
      ]
     },
     "execution_count": 342,
     "metadata": {},
     "output_type": "execute_result"
    }
   ],
   "source": [
    "pf.predict([[3400,0,0]])"
   ]
  },
  {
   "cell_type": "code",
   "execution_count": 343,
   "metadata": {},
   "outputs": [
    {
     "data": {
      "text/plain": [
       "0.9424868186564617"
      ]
     },
     "execution_count": 343,
     "metadata": {},
     "output_type": "execute_result"
    }
   ],
   "source": [
    "pf.score(x,y) #how accurate your model is "
   ]
  },
  {
   "cell_type": "code",
   "execution_count": 344,
   "metadata": {},
   "outputs": [
    {
     "data": {
      "text/plain": [
       "LinearRegression(copy_X=True, fit_intercept=True, n_jobs=None, normalize=False)"
      ]
     },
     "execution_count": 344,
     "metadata": {},
     "output_type": "execute_result"
    }
   ],
   "source": [
    "pf"
   ]
  },
  {
   "cell_type": "code",
   "execution_count": 345,
   "metadata": {},
   "outputs": [
    {
     "data": {
      "text/plain": [
       "LinearRegression(copy_X=True, fit_intercept=True, n_jobs=None, normalize=False)"
      ]
     },
     "execution_count": 345,
     "metadata": {},
     "output_type": "execute_result"
    }
   ],
   "source": [
    "pf"
   ]
  },
  {
   "cell_type": "code",
   "execution_count": 346,
   "metadata": {},
   "outputs": [
    {
     "data": {
      "text/html": [
       "<div>\n",
       "<style scoped>\n",
       "    .dataframe tbody tr th:only-of-type {\n",
       "        vertical-align: middle;\n",
       "    }\n",
       "\n",
       "    .dataframe tbody tr th {\n",
       "        vertical-align: top;\n",
       "    }\n",
       "\n",
       "    .dataframe thead th {\n",
       "        text-align: right;\n",
       "    }\n",
       "</style>\n",
       "<table border=\"1\" class=\"dataframe\">\n",
       "  <thead>\n",
       "    <tr style=\"text-align: right;\">\n",
       "      <th></th>\n",
       "      <th>town</th>\n",
       "      <th>area</th>\n",
       "      <th>price</th>\n",
       "    </tr>\n",
       "  </thead>\n",
       "  <tbody>\n",
       "    <tr>\n",
       "      <th>0</th>\n",
       "      <td>monroe township</td>\n",
       "      <td>2600</td>\n",
       "      <td>550000</td>\n",
       "    </tr>\n",
       "    <tr>\n",
       "      <th>1</th>\n",
       "      <td>monroe township</td>\n",
       "      <td>3000</td>\n",
       "      <td>565000</td>\n",
       "    </tr>\n",
       "    <tr>\n",
       "      <th>2</th>\n",
       "      <td>monroe township</td>\n",
       "      <td>3200</td>\n",
       "      <td>610000</td>\n",
       "    </tr>\n",
       "    <tr>\n",
       "      <th>3</th>\n",
       "      <td>monroe township</td>\n",
       "      <td>3600</td>\n",
       "      <td>680000</td>\n",
       "    </tr>\n",
       "    <tr>\n",
       "      <th>4</th>\n",
       "      <td>west windsor</td>\n",
       "      <td>4000</td>\n",
       "      <td>725000</td>\n",
       "    </tr>\n",
       "    <tr>\n",
       "      <th>5</th>\n",
       "      <td>west windsor</td>\n",
       "      <td>2600</td>\n",
       "      <td>585000</td>\n",
       "    </tr>\n",
       "    <tr>\n",
       "      <th>6</th>\n",
       "      <td>west windsor</td>\n",
       "      <td>2800</td>\n",
       "      <td>615000</td>\n",
       "    </tr>\n",
       "    <tr>\n",
       "      <th>7</th>\n",
       "      <td>west windsor</td>\n",
       "      <td>3300</td>\n",
       "      <td>650000</td>\n",
       "    </tr>\n",
       "    <tr>\n",
       "      <th>8</th>\n",
       "      <td>robbinsville</td>\n",
       "      <td>3600</td>\n",
       "      <td>710000</td>\n",
       "    </tr>\n",
       "    <tr>\n",
       "      <th>9</th>\n",
       "      <td>robbinsville</td>\n",
       "      <td>2600</td>\n",
       "      <td>575000</td>\n",
       "    </tr>\n",
       "    <tr>\n",
       "      <th>10</th>\n",
       "      <td>robbinsville</td>\n",
       "      <td>2900</td>\n",
       "      <td>600000</td>\n",
       "    </tr>\n",
       "    <tr>\n",
       "      <th>11</th>\n",
       "      <td>robbinsville</td>\n",
       "      <td>3100</td>\n",
       "      <td>620000</td>\n",
       "    </tr>\n",
       "    <tr>\n",
       "      <th>12</th>\n",
       "      <td>robbinsville</td>\n",
       "      <td>3600</td>\n",
       "      <td>695000</td>\n",
       "    </tr>\n",
       "  </tbody>\n",
       "</table>\n",
       "</div>"
      ],
      "text/plain": [
       "               town  area   price\n",
       "0   monroe township  2600  550000\n",
       "1   monroe township  3000  565000\n",
       "2   monroe township  3200  610000\n",
       "3   monroe township  3600  680000\n",
       "4      west windsor  4000  725000\n",
       "5      west windsor  2600  585000\n",
       "6      west windsor  2800  615000\n",
       "7      west windsor  3300  650000\n",
       "8      robbinsville  3600  710000\n",
       "9      robbinsville  2600  575000\n",
       "10     robbinsville  2900  600000\n",
       "11     robbinsville  3100  620000\n",
       "12     robbinsville  3600  695000"
      ]
     },
     "execution_count": 346,
     "metadata": {},
     "output_type": "execute_result"
    }
   ],
   "source": [
    "pf = pd.read_csv(\"D:\\excel_files\\homeprices.csv\")\n",
    "pf"
   ]
  },
  {
   "cell_type": "code",
   "execution_count": 347,
   "metadata": {},
   "outputs": [],
   "source": [
    "from sklearn.preprocessing import LabelEncoder\n",
    "le = LabelEncoder()"
   ]
  },
  {
   "cell_type": "code",
   "execution_count": 348,
   "metadata": {},
   "outputs": [
    {
     "data": {
      "text/html": [
       "<div>\n",
       "<style scoped>\n",
       "    .dataframe tbody tr th:only-of-type {\n",
       "        vertical-align: middle;\n",
       "    }\n",
       "\n",
       "    .dataframe tbody tr th {\n",
       "        vertical-align: top;\n",
       "    }\n",
       "\n",
       "    .dataframe thead th {\n",
       "        text-align: right;\n",
       "    }\n",
       "</style>\n",
       "<table border=\"1\" class=\"dataframe\">\n",
       "  <thead>\n",
       "    <tr style=\"text-align: right;\">\n",
       "      <th></th>\n",
       "      <th>town</th>\n",
       "      <th>area</th>\n",
       "      <th>price</th>\n",
       "    </tr>\n",
       "  </thead>\n",
       "  <tbody>\n",
       "    <tr>\n",
       "      <th>0</th>\n",
       "      <td>0</td>\n",
       "      <td>2600</td>\n",
       "      <td>550000</td>\n",
       "    </tr>\n",
       "    <tr>\n",
       "      <th>1</th>\n",
       "      <td>0</td>\n",
       "      <td>3000</td>\n",
       "      <td>565000</td>\n",
       "    </tr>\n",
       "    <tr>\n",
       "      <th>2</th>\n",
       "      <td>0</td>\n",
       "      <td>3200</td>\n",
       "      <td>610000</td>\n",
       "    </tr>\n",
       "    <tr>\n",
       "      <th>3</th>\n",
       "      <td>0</td>\n",
       "      <td>3600</td>\n",
       "      <td>680000</td>\n",
       "    </tr>\n",
       "    <tr>\n",
       "      <th>4</th>\n",
       "      <td>2</td>\n",
       "      <td>4000</td>\n",
       "      <td>725000</td>\n",
       "    </tr>\n",
       "    <tr>\n",
       "      <th>5</th>\n",
       "      <td>2</td>\n",
       "      <td>2600</td>\n",
       "      <td>585000</td>\n",
       "    </tr>\n",
       "    <tr>\n",
       "      <th>6</th>\n",
       "      <td>2</td>\n",
       "      <td>2800</td>\n",
       "      <td>615000</td>\n",
       "    </tr>\n",
       "    <tr>\n",
       "      <th>7</th>\n",
       "      <td>2</td>\n",
       "      <td>3300</td>\n",
       "      <td>650000</td>\n",
       "    </tr>\n",
       "    <tr>\n",
       "      <th>8</th>\n",
       "      <td>1</td>\n",
       "      <td>3600</td>\n",
       "      <td>710000</td>\n",
       "    </tr>\n",
       "    <tr>\n",
       "      <th>9</th>\n",
       "      <td>1</td>\n",
       "      <td>2600</td>\n",
       "      <td>575000</td>\n",
       "    </tr>\n",
       "    <tr>\n",
       "      <th>10</th>\n",
       "      <td>1</td>\n",
       "      <td>2900</td>\n",
       "      <td>600000</td>\n",
       "    </tr>\n",
       "    <tr>\n",
       "      <th>11</th>\n",
       "      <td>1</td>\n",
       "      <td>3100</td>\n",
       "      <td>620000</td>\n",
       "    </tr>\n",
       "    <tr>\n",
       "      <th>12</th>\n",
       "      <td>1</td>\n",
       "      <td>3600</td>\n",
       "      <td>695000</td>\n",
       "    </tr>\n",
       "  </tbody>\n",
       "</table>\n",
       "</div>"
      ],
      "text/plain": [
       "    town  area   price\n",
       "0      0  2600  550000\n",
       "1      0  3000  565000\n",
       "2      0  3200  610000\n",
       "3      0  3600  680000\n",
       "4      2  4000  725000\n",
       "5      2  2600  585000\n",
       "6      2  2800  615000\n",
       "7      2  3300  650000\n",
       "8      1  3600  710000\n",
       "9      1  2600  575000\n",
       "10     1  2900  600000\n",
       "11     1  3100  620000\n",
       "12     1  3600  695000"
      ]
     },
     "execution_count": 348,
     "metadata": {},
     "output_type": "execute_result"
    }
   ],
   "source": [
    "dfle = pf\n",
    "dfle.town = le.fit_transform(dfle.town)\n",
    "dfle"
   ]
  },
  {
   "cell_type": "code",
   "execution_count": 349,
   "metadata": {},
   "outputs": [
    {
     "data": {
      "text/plain": [
       "array([[   0, 2600],\n",
       "       [   0, 3000],\n",
       "       [   0, 3200],\n",
       "       [   0, 3600],\n",
       "       [   2, 4000],\n",
       "       [   2, 2600],\n",
       "       [   2, 2800],\n",
       "       [   2, 3300],\n",
       "       [   1, 3600],\n",
       "       [   1, 2600],\n",
       "       [   1, 2900],\n",
       "       [   1, 3100],\n",
       "       [   1, 3600]], dtype=int64)"
      ]
     },
     "execution_count": 349,
     "metadata": {},
     "output_type": "execute_result"
    }
   ],
   "source": [
    "x = pf[['town','area']].values\n",
    "x"
   ]
  },
  {
   "cell_type": "code",
   "execution_count": 350,
   "metadata": {},
   "outputs": [
    {
     "data": {
      "text/plain": [
       "0     550000\n",
       "1     565000\n",
       "2     610000\n",
       "3     680000\n",
       "4     725000\n",
       "5     585000\n",
       "6     615000\n",
       "7     650000\n",
       "8     710000\n",
       "9     575000\n",
       "10    600000\n",
       "11    620000\n",
       "12    695000\n",
       "Name: price, dtype: int64"
      ]
     },
     "execution_count": 350,
     "metadata": {},
     "output_type": "execute_result"
    }
   ],
   "source": [
    "y = dfle.price\n",
    "y"
   ]
  },
  {
   "cell_type": "code",
   "execution_count": 351,
   "metadata": {},
   "outputs": [
    {
     "ename": "TypeError",
     "evalue": "__init__() got an unexpected keyword argument 'categorical_features'",
     "output_type": "error",
     "traceback": [
      "\u001b[1;31m---------------------------------------------------------------------------\u001b[0m",
      "\u001b[1;31mTypeError\u001b[0m                                 Traceback (most recent call last)",
      "\u001b[1;32m<ipython-input-351-31554ad91e4c>\u001b[0m in \u001b[0;36m<module>\u001b[1;34m\u001b[0m\n\u001b[0;32m      1\u001b[0m \u001b[1;32mfrom\u001b[0m \u001b[0msklearn\u001b[0m\u001b[1;33m.\u001b[0m\u001b[0mpreprocessing\u001b[0m \u001b[1;32mimport\u001b[0m \u001b[0mOneHotEncoder\u001b[0m\u001b[1;33m\u001b[0m\u001b[1;33m\u001b[0m\u001b[0m\n\u001b[1;32m----> 2\u001b[1;33m \u001b[0mohe\u001b[0m \u001b[1;33m=\u001b[0m \u001b[0mOneHotEncoder\u001b[0m\u001b[1;33m(\u001b[0m\u001b[0mcategorical_features\u001b[0m \u001b[1;33m=\u001b[0m \u001b[1;33m[\u001b[0m\u001b[1;36m0\u001b[0m\u001b[1;33m]\u001b[0m\u001b[1;33m)\u001b[0m\u001b[1;33m\u001b[0m\u001b[1;33m\u001b[0m\u001b[0m\n\u001b[0m",
      "\u001b[1;31mTypeError\u001b[0m: __init__() got an unexpected keyword argument 'categorical_features'"
     ]
    }
   ],
   "source": [
    "from sklearn.preprocessing import OneHotEncoder\n",
    "ohe = OneHotEncoder(categorical_features = [0])"
   ]
  },
  {
   "cell_type": "code",
   "execution_count": 352,
   "metadata": {},
   "outputs": [
    {
     "data": {
      "text/plain": [
       "array([[1., 0., 0., 1., 0., 0., 0., 0., 0., 0., 0., 0.],\n",
       "       [1., 0., 0., 0., 0., 0., 1., 0., 0., 0., 0., 0.],\n",
       "       [1., 0., 0., 0., 0., 0., 0., 0., 1., 0., 0., 0.],\n",
       "       [1., 0., 0., 0., 0., 0., 0., 0., 0., 0., 1., 0.],\n",
       "       [0., 0., 1., 0., 0., 0., 0., 0., 0., 0., 0., 1.],\n",
       "       [0., 0., 1., 1., 0., 0., 0., 0., 0., 0., 0., 0.],\n",
       "       [0., 0., 1., 0., 1., 0., 0., 0., 0., 0., 0., 0.],\n",
       "       [0., 0., 1., 0., 0., 0., 0., 0., 0., 1., 0., 0.],\n",
       "       [0., 1., 0., 0., 0., 0., 0., 0., 0., 0., 1., 0.],\n",
       "       [0., 1., 0., 1., 0., 0., 0., 0., 0., 0., 0., 0.],\n",
       "       [0., 1., 0., 0., 0., 1., 0., 0., 0., 0., 0., 0.],\n",
       "       [0., 1., 0., 0., 0., 0., 0., 1., 0., 0., 0., 0.],\n",
       "       [0., 1., 0., 0., 0., 0., 0., 0., 0., 0., 1., 0.]])"
      ]
     },
     "execution_count": 352,
     "metadata": {},
     "output_type": "execute_result"
    }
   ],
   "source": [
    "x = ohe.fit_transform(x).toarray()\n",
    "x"
   ]
  },
  {
   "cell_type": "code",
   "execution_count": 353,
   "metadata": {},
   "outputs": [
    {
     "data": {
      "text/plain": [
       "array([[0., 0., 1., 0., 0., 0., 0., 0., 0., 0., 0.],\n",
       "       [0., 0., 0., 0., 0., 1., 0., 0., 0., 0., 0.],\n",
       "       [0., 0., 0., 0., 0., 0., 0., 1., 0., 0., 0.],\n",
       "       [0., 0., 0., 0., 0., 0., 0., 0., 0., 1., 0.],\n",
       "       [0., 1., 0., 0., 0., 0., 0., 0., 0., 0., 1.],\n",
       "       [0., 1., 1., 0., 0., 0., 0., 0., 0., 0., 0.],\n",
       "       [0., 1., 0., 1., 0., 0., 0., 0., 0., 0., 0.],\n",
       "       [0., 1., 0., 0., 0., 0., 0., 0., 1., 0., 0.],\n",
       "       [1., 0., 0., 0., 0., 0., 0., 0., 0., 1., 0.],\n",
       "       [1., 0., 1., 0., 0., 0., 0., 0., 0., 0., 0.],\n",
       "       [1., 0., 0., 0., 1., 0., 0., 0., 0., 0., 0.],\n",
       "       [1., 0., 0., 0., 0., 0., 1., 0., 0., 0., 0.],\n",
       "       [1., 0., 0., 0., 0., 0., 0., 0., 0., 1., 0.]])"
      ]
     },
     "execution_count": 353,
     "metadata": {},
     "output_type": "execute_result"
    }
   ],
   "source": [
    "x = x[:,1:] #if you want to drop one column\n",
    "x"
   ]
  },
  {
   "cell_type": "code",
   "execution_count": 354,
   "metadata": {},
   "outputs": [
    {
     "ename": "AttributeError",
     "evalue": "'DataFrame' object has no attribute 'fit'",
     "output_type": "error",
     "traceback": [
      "\u001b[1;31m---------------------------------------------------------------------------\u001b[0m",
      "\u001b[1;31mAttributeError\u001b[0m                            Traceback (most recent call last)",
      "\u001b[1;32m<ipython-input-354-c296c871152b>\u001b[0m in \u001b[0;36m<module>\u001b[1;34m\u001b[0m\n\u001b[1;32m----> 1\u001b[1;33m \u001b[0mpf\u001b[0m\u001b[1;33m.\u001b[0m\u001b[0mfit\u001b[0m\u001b[1;33m(\u001b[0m\u001b[0mx\u001b[0m\u001b[1;33m,\u001b[0m\u001b[0my\u001b[0m\u001b[1;33m)\u001b[0m\u001b[1;33m\u001b[0m\u001b[1;33m\u001b[0m\u001b[0m\n\u001b[0m",
      "\u001b[1;32m~\\anaconda3\\lib\\site-packages\\pandas\\core\\generic.py\u001b[0m in \u001b[0;36m__getattr__\u001b[1;34m(self, name)\u001b[0m\n\u001b[0;32m   5272\u001b[0m             \u001b[1;32mif\u001b[0m \u001b[0mself\u001b[0m\u001b[1;33m.\u001b[0m\u001b[0m_info_axis\u001b[0m\u001b[1;33m.\u001b[0m\u001b[0m_can_hold_identifiers_and_holds_name\u001b[0m\u001b[1;33m(\u001b[0m\u001b[0mname\u001b[0m\u001b[1;33m)\u001b[0m\u001b[1;33m:\u001b[0m\u001b[1;33m\u001b[0m\u001b[1;33m\u001b[0m\u001b[0m\n\u001b[0;32m   5273\u001b[0m                 \u001b[1;32mreturn\u001b[0m \u001b[0mself\u001b[0m\u001b[1;33m[\u001b[0m\u001b[0mname\u001b[0m\u001b[1;33m]\u001b[0m\u001b[1;33m\u001b[0m\u001b[1;33m\u001b[0m\u001b[0m\n\u001b[1;32m-> 5274\u001b[1;33m             \u001b[1;32mreturn\u001b[0m \u001b[0mobject\u001b[0m\u001b[1;33m.\u001b[0m\u001b[0m__getattribute__\u001b[0m\u001b[1;33m(\u001b[0m\u001b[0mself\u001b[0m\u001b[1;33m,\u001b[0m \u001b[0mname\u001b[0m\u001b[1;33m)\u001b[0m\u001b[1;33m\u001b[0m\u001b[1;33m\u001b[0m\u001b[0m\n\u001b[0m\u001b[0;32m   5275\u001b[0m \u001b[1;33m\u001b[0m\u001b[0m\n\u001b[0;32m   5276\u001b[0m     \u001b[1;32mdef\u001b[0m \u001b[0m__setattr__\u001b[0m\u001b[1;33m(\u001b[0m\u001b[0mself\u001b[0m\u001b[1;33m,\u001b[0m \u001b[0mname\u001b[0m\u001b[1;33m:\u001b[0m \u001b[0mstr\u001b[0m\u001b[1;33m,\u001b[0m \u001b[0mvalue\u001b[0m\u001b[1;33m)\u001b[0m \u001b[1;33m->\u001b[0m \u001b[1;32mNone\u001b[0m\u001b[1;33m:\u001b[0m\u001b[1;33m\u001b[0m\u001b[1;33m\u001b[0m\u001b[0m\n",
      "\u001b[1;31mAttributeError\u001b[0m: 'DataFrame' object has no attribute 'fit'"
     ]
    }
   ],
   "source": [
    "pf.fit(x,y)"
   ]
  },
  {
   "cell_type": "code",
   "execution_count": 355,
   "metadata": {},
   "outputs": [
    {
     "ename": "AttributeError",
     "evalue": "'DataFrame' object has no attribute 'predict'",
     "output_type": "error",
     "traceback": [
      "\u001b[1;31m---------------------------------------------------------------------------\u001b[0m",
      "\u001b[1;31mAttributeError\u001b[0m                            Traceback (most recent call last)",
      "\u001b[1;32m<ipython-input-355-61a1bc091d0f>\u001b[0m in \u001b[0;36m<module>\u001b[1;34m\u001b[0m\n\u001b[1;32m----> 1\u001b[1;33m \u001b[0mpf\u001b[0m\u001b[1;33m.\u001b[0m\u001b[0mpredict\u001b[0m\u001b[1;33m(\u001b[0m\u001b[1;33m[\u001b[0m\u001b[1;33m[\u001b[0m\u001b[1;36m1\u001b[0m\u001b[1;33m,\u001b[0m\u001b[1;36m0\u001b[0m\u001b[1;33m,\u001b[0m\u001b[1;36m2800\u001b[0m\u001b[1;33m]\u001b[0m\u001b[1;33m]\u001b[0m\u001b[1;33m)\u001b[0m\u001b[1;33m\u001b[0m\u001b[1;33m\u001b[0m\u001b[0m\n\u001b[0m",
      "\u001b[1;32m~\\anaconda3\\lib\\site-packages\\pandas\\core\\generic.py\u001b[0m in \u001b[0;36m__getattr__\u001b[1;34m(self, name)\u001b[0m\n\u001b[0;32m   5272\u001b[0m             \u001b[1;32mif\u001b[0m \u001b[0mself\u001b[0m\u001b[1;33m.\u001b[0m\u001b[0m_info_axis\u001b[0m\u001b[1;33m.\u001b[0m\u001b[0m_can_hold_identifiers_and_holds_name\u001b[0m\u001b[1;33m(\u001b[0m\u001b[0mname\u001b[0m\u001b[1;33m)\u001b[0m\u001b[1;33m:\u001b[0m\u001b[1;33m\u001b[0m\u001b[1;33m\u001b[0m\u001b[0m\n\u001b[0;32m   5273\u001b[0m                 \u001b[1;32mreturn\u001b[0m \u001b[0mself\u001b[0m\u001b[1;33m[\u001b[0m\u001b[0mname\u001b[0m\u001b[1;33m]\u001b[0m\u001b[1;33m\u001b[0m\u001b[1;33m\u001b[0m\u001b[0m\n\u001b[1;32m-> 5274\u001b[1;33m             \u001b[1;32mreturn\u001b[0m \u001b[0mobject\u001b[0m\u001b[1;33m.\u001b[0m\u001b[0m__getattribute__\u001b[0m\u001b[1;33m(\u001b[0m\u001b[0mself\u001b[0m\u001b[1;33m,\u001b[0m \u001b[0mname\u001b[0m\u001b[1;33m)\u001b[0m\u001b[1;33m\u001b[0m\u001b[1;33m\u001b[0m\u001b[0m\n\u001b[0m\u001b[0;32m   5275\u001b[0m \u001b[1;33m\u001b[0m\u001b[0m\n\u001b[0;32m   5276\u001b[0m     \u001b[1;32mdef\u001b[0m \u001b[0m__setattr__\u001b[0m\u001b[1;33m(\u001b[0m\u001b[0mself\u001b[0m\u001b[1;33m,\u001b[0m \u001b[0mname\u001b[0m\u001b[1;33m:\u001b[0m \u001b[0mstr\u001b[0m\u001b[1;33m,\u001b[0m \u001b[0mvalue\u001b[0m\u001b[1;33m)\u001b[0m \u001b[1;33m->\u001b[0m \u001b[1;32mNone\u001b[0m\u001b[1;33m:\u001b[0m\u001b[1;33m\u001b[0m\u001b[1;33m\u001b[0m\u001b[0m\n",
      "\u001b[1;31mAttributeError\u001b[0m: 'DataFrame' object has no attribute 'predict'"
     ]
    }
   ],
   "source": [
    "pf.predict([[1,0,2800]])"
   ]
  },
  {
   "cell_type": "code",
   "execution_count": 356,
   "metadata": {},
   "outputs": [
    {
     "ename": "AttributeError",
     "evalue": "'DataFrame' object has no attribute 'predict'",
     "output_type": "error",
     "traceback": [
      "\u001b[1;31m---------------------------------------------------------------------------\u001b[0m",
      "\u001b[1;31mAttributeError\u001b[0m                            Traceback (most recent call last)",
      "\u001b[1;32m<ipython-input-356-3750169f5c91>\u001b[0m in \u001b[0;36m<module>\u001b[1;34m\u001b[0m\n\u001b[1;32m----> 1\u001b[1;33m \u001b[0mpf\u001b[0m\u001b[1;33m.\u001b[0m\u001b[0mpredict\u001b[0m\u001b[1;33m(\u001b[0m\u001b[1;33m[\u001b[0m\u001b[1;33m[\u001b[0m\u001b[1;36m0\u001b[0m\u001b[1;33m,\u001b[0m\u001b[1;36m1\u001b[0m\u001b[1;33m,\u001b[0m\u001b[1;36m3400\u001b[0m\u001b[1;33m]\u001b[0m\u001b[1;33m]\u001b[0m\u001b[1;33m)\u001b[0m\u001b[1;33m\u001b[0m\u001b[1;33m\u001b[0m\u001b[0m\n\u001b[0m",
      "\u001b[1;32m~\\anaconda3\\lib\\site-packages\\pandas\\core\\generic.py\u001b[0m in \u001b[0;36m__getattr__\u001b[1;34m(self, name)\u001b[0m\n\u001b[0;32m   5272\u001b[0m             \u001b[1;32mif\u001b[0m \u001b[0mself\u001b[0m\u001b[1;33m.\u001b[0m\u001b[0m_info_axis\u001b[0m\u001b[1;33m.\u001b[0m\u001b[0m_can_hold_identifiers_and_holds_name\u001b[0m\u001b[1;33m(\u001b[0m\u001b[0mname\u001b[0m\u001b[1;33m)\u001b[0m\u001b[1;33m:\u001b[0m\u001b[1;33m\u001b[0m\u001b[1;33m\u001b[0m\u001b[0m\n\u001b[0;32m   5273\u001b[0m                 \u001b[1;32mreturn\u001b[0m \u001b[0mself\u001b[0m\u001b[1;33m[\u001b[0m\u001b[0mname\u001b[0m\u001b[1;33m]\u001b[0m\u001b[1;33m\u001b[0m\u001b[1;33m\u001b[0m\u001b[0m\n\u001b[1;32m-> 5274\u001b[1;33m             \u001b[1;32mreturn\u001b[0m \u001b[0mobject\u001b[0m\u001b[1;33m.\u001b[0m\u001b[0m__getattribute__\u001b[0m\u001b[1;33m(\u001b[0m\u001b[0mself\u001b[0m\u001b[1;33m,\u001b[0m \u001b[0mname\u001b[0m\u001b[1;33m)\u001b[0m\u001b[1;33m\u001b[0m\u001b[1;33m\u001b[0m\u001b[0m\n\u001b[0m\u001b[0;32m   5275\u001b[0m \u001b[1;33m\u001b[0m\u001b[0m\n\u001b[0;32m   5276\u001b[0m     \u001b[1;32mdef\u001b[0m \u001b[0m__setattr__\u001b[0m\u001b[1;33m(\u001b[0m\u001b[0mself\u001b[0m\u001b[1;33m,\u001b[0m \u001b[0mname\u001b[0m\u001b[1;33m:\u001b[0m \u001b[0mstr\u001b[0m\u001b[1;33m,\u001b[0m \u001b[0mvalue\u001b[0m\u001b[1;33m)\u001b[0m \u001b[1;33m->\u001b[0m \u001b[1;32mNone\u001b[0m\u001b[1;33m:\u001b[0m\u001b[1;33m\u001b[0m\u001b[1;33m\u001b[0m\u001b[0m\n",
      "\u001b[1;31mAttributeError\u001b[0m: 'DataFrame' object has no attribute 'predict'"
     ]
    }
   ],
   "source": [
    "pf.predict([[0,1,3400]])"
   ]
  },
  {
   "cell_type": "code",
   "execution_count": 357,
   "metadata": {},
   "outputs": [],
   "source": [
    "#exercise question"
   ]
  },
  {
   "cell_type": "code",
   "execution_count": null,
   "metadata": {},
   "outputs": [],
   "source": []
  },
  {
   "cell_type": "code",
   "execution_count": 358,
   "metadata": {},
   "outputs": [],
   "source": [
    "#Training and testing Data\n",
    "#split available dataset into training and test using  (sklearn.model_selection.train_test_split)"
   ]
  },
  {
   "cell_type": "code",
   "execution_count": 359,
   "metadata": {},
   "outputs": [],
   "source": [
    "#the best way to test and train your data is to divide your data into two parts one fpr training and one for testing. That way you an test the data which is not seen before while training. "
   ]
  },
  {
   "cell_type": "code",
   "execution_count": 360,
   "metadata": {},
   "outputs": [
    {
     "data": {
      "text/html": [
       "<div>\n",
       "<style scoped>\n",
       "    .dataframe tbody tr th:only-of-type {\n",
       "        vertical-align: middle;\n",
       "    }\n",
       "\n",
       "    .dataframe tbody tr th {\n",
       "        vertical-align: top;\n",
       "    }\n",
       "\n",
       "    .dataframe thead th {\n",
       "        text-align: right;\n",
       "    }\n",
       "</style>\n",
       "<table border=\"1\" class=\"dataframe\">\n",
       "  <thead>\n",
       "    <tr style=\"text-align: right;\">\n",
       "      <th></th>\n",
       "      <th>mileage</th>\n",
       "      <th>age(yrs)</th>\n",
       "      <th>sell price($)</th>\n",
       "    </tr>\n",
       "  </thead>\n",
       "  <tbody>\n",
       "    <tr>\n",
       "      <th>0</th>\n",
       "      <td>69000</td>\n",
       "      <td>6</td>\n",
       "      <td>18000</td>\n",
       "    </tr>\n",
       "    <tr>\n",
       "      <th>1</th>\n",
       "      <td>35000</td>\n",
       "      <td>3</td>\n",
       "      <td>34000</td>\n",
       "    </tr>\n",
       "    <tr>\n",
       "      <th>2</th>\n",
       "      <td>57000</td>\n",
       "      <td>5</td>\n",
       "      <td>26100</td>\n",
       "    </tr>\n",
       "    <tr>\n",
       "      <th>3</th>\n",
       "      <td>22500</td>\n",
       "      <td>2</td>\n",
       "      <td>40000</td>\n",
       "    </tr>\n",
       "    <tr>\n",
       "      <th>4</th>\n",
       "      <td>46000</td>\n",
       "      <td>4</td>\n",
       "      <td>31500</td>\n",
       "    </tr>\n",
       "  </tbody>\n",
       "</table>\n",
       "</div>"
      ],
      "text/plain": [
       "   mileage  age(yrs)  sell price($)\n",
       "0    69000         6          18000\n",
       "1    35000         3          34000\n",
       "2    57000         5          26100\n",
       "3    22500         2          40000\n",
       "4    46000         4          31500"
      ]
     },
     "execution_count": 360,
     "metadata": {},
     "output_type": "execute_result"
    }
   ],
   "source": [
    "import pandas as pd\n",
    "af = pd.read_csv(\"D:\\excel_files\\carprices.csv\")\n",
    "af.head()"
   ]
  },
  {
   "cell_type": "code",
   "execution_count": 361,
   "metadata": {},
   "outputs": [],
   "source": [
    "import matplotlib.pyplot as plt\n",
    "%matplotlib inline"
   ]
  },
  {
   "cell_type": "code",
   "execution_count": 362,
   "metadata": {},
   "outputs": [
    {
     "data": {
      "text/plain": [
       "<matplotlib.collections.PathCollection at 0x25633cb6488>"
      ]
     },
     "execution_count": 362,
     "metadata": {},
     "output_type": "execute_result"
    },
    {
     "data": {
      "image/png": "[encoded data removed]",
      "text/plain": [
       "<Figure size 432x288 with 1 Axes>"
      ]
     },
     "metadata": {
      "needs_background": "light"
     },
     "output_type": "display_data"
    }
   ],
   "source": [
    "plt.scatter(af['mileage'],af['sell price($)'])"
   ]
  },
  {
   "cell_type": "code",
   "execution_count": 363,
   "metadata": {},
   "outputs": [
    {
     "data": {
      "text/plain": [
       "<matplotlib.collections.PathCollection at 0x25633cb6888>"
      ]
     },
     "execution_count": 363,
     "metadata": {},
     "output_type": "execute_result"
    },
    {
     "data": {
      "image/png": "[encoded data removed]",
      "text/plain": [
       "<Figure size 432x288 with 1 Axes>"
      ]
     },
     "metadata": {
      "needs_background": "light"
     },
     "output_type": "display_data"
    }
   ],
   "source": [
    "plt.scatter(af['age(yrs)'],af['sell price($)'])"
   ]
  },
  {
   "cell_type": "code",
   "execution_count": 364,
   "metadata": {},
   "outputs": [],
   "source": [
    "x = af[['mileage','age(yrs)']]\n",
    "y = af[['sell price($)']]"
   ]
  },
  {
   "cell_type": "code",
   "execution_count": 365,
   "metadata": {},
   "outputs": [
    {
     "data": {
      "text/html": [
       "<div>\n",
       "<style scoped>\n",
       "    .dataframe tbody tr th:only-of-type {\n",
       "        vertical-align: middle;\n",
       "    }\n",
       "\n",
       "    .dataframe tbody tr th {\n",
       "        vertical-align: top;\n",
       "    }\n",
       "\n",
       "    .dataframe thead th {\n",
       "        text-align: right;\n",
       "    }\n",
       "</style>\n",
       "<table border=\"1\" class=\"dataframe\">\n",
       "  <thead>\n",
       "    <tr style=\"text-align: right;\">\n",
       "      <th></th>\n",
       "      <th>mileage</th>\n",
       "      <th>age(yrs)</th>\n",
       "    </tr>\n",
       "  </thead>\n",
       "  <tbody>\n",
       "    <tr>\n",
       "      <th>0</th>\n",
       "      <td>69000</td>\n",
       "      <td>6</td>\n",
       "    </tr>\n",
       "    <tr>\n",
       "      <th>1</th>\n",
       "      <td>35000</td>\n",
       "      <td>3</td>\n",
       "    </tr>\n",
       "    <tr>\n",
       "      <th>2</th>\n",
       "      <td>57000</td>\n",
       "      <td>5</td>\n",
       "    </tr>\n",
       "    <tr>\n",
       "      <th>3</th>\n",
       "      <td>22500</td>\n",
       "      <td>2</td>\n",
       "    </tr>\n",
       "    <tr>\n",
       "      <th>4</th>\n",
       "      <td>46000</td>\n",
       "      <td>4</td>\n",
       "    </tr>\n",
       "    <tr>\n",
       "      <th>5</th>\n",
       "      <td>59000</td>\n",
       "      <td>5</td>\n",
       "    </tr>\n",
       "    <tr>\n",
       "      <th>6</th>\n",
       "      <td>52000</td>\n",
       "      <td>5</td>\n",
       "    </tr>\n",
       "    <tr>\n",
       "      <th>7</th>\n",
       "      <td>72000</td>\n",
       "      <td>6</td>\n",
       "    </tr>\n",
       "    <tr>\n",
       "      <th>8</th>\n",
       "      <td>91000</td>\n",
       "      <td>8</td>\n",
       "    </tr>\n",
       "    <tr>\n",
       "      <th>9</th>\n",
       "      <td>67000</td>\n",
       "      <td>6</td>\n",
       "    </tr>\n",
       "    <tr>\n",
       "      <th>10</th>\n",
       "      <td>83000</td>\n",
       "      <td>7</td>\n",
       "    </tr>\n",
       "    <tr>\n",
       "      <th>11</th>\n",
       "      <td>79000</td>\n",
       "      <td>7</td>\n",
       "    </tr>\n",
       "    <tr>\n",
       "      <th>12</th>\n",
       "      <td>59000</td>\n",
       "      <td>5</td>\n",
       "    </tr>\n",
       "    <tr>\n",
       "      <th>13</th>\n",
       "      <td>58780</td>\n",
       "      <td>4</td>\n",
       "    </tr>\n",
       "    <tr>\n",
       "      <th>14</th>\n",
       "      <td>82450</td>\n",
       "      <td>7</td>\n",
       "    </tr>\n",
       "    <tr>\n",
       "      <th>15</th>\n",
       "      <td>25400</td>\n",
       "      <td>3</td>\n",
       "    </tr>\n",
       "    <tr>\n",
       "      <th>16</th>\n",
       "      <td>28000</td>\n",
       "      <td>2</td>\n",
       "    </tr>\n",
       "    <tr>\n",
       "      <th>17</th>\n",
       "      <td>69000</td>\n",
       "      <td>5</td>\n",
       "    </tr>\n",
       "    <tr>\n",
       "      <th>18</th>\n",
       "      <td>87600</td>\n",
       "      <td>8</td>\n",
       "    </tr>\n",
       "    <tr>\n",
       "      <th>19</th>\n",
       "      <td>52000</td>\n",
       "      <td>5</td>\n",
       "    </tr>\n",
       "  </tbody>\n",
       "</table>\n",
       "</div>"
      ],
      "text/plain": [
       "    mileage  age(yrs)\n",
       "0     69000         6\n",
       "1     35000         3\n",
       "2     57000         5\n",
       "3     22500         2\n",
       "4     46000         4\n",
       "5     59000         5\n",
       "6     52000         5\n",
       "7     72000         6\n",
       "8     91000         8\n",
       "9     67000         6\n",
       "10    83000         7\n",
       "11    79000         7\n",
       "12    59000         5\n",
       "13    58780         4\n",
       "14    82450         7\n",
       "15    25400         3\n",
       "16    28000         2\n",
       "17    69000         5\n",
       "18    87600         8\n",
       "19    52000         5"
      ]
     },
     "execution_count": 365,
     "metadata": {},
     "output_type": "execute_result"
    }
   ],
   "source": [
    "x"
   ]
  },
  {
   "cell_type": "code",
   "execution_count": 366,
   "metadata": {},
   "outputs": [
    {
     "data": {
      "text/html": [
       "<div>\n",
       "<style scoped>\n",
       "    .dataframe tbody tr th:only-of-type {\n",
       "        vertical-align: middle;\n",
       "    }\n",
       "\n",
       "    .dataframe tbody tr th {\n",
       "        vertical-align: top;\n",
       "    }\n",
       "\n",
       "    .dataframe thead th {\n",
       "        text-align: right;\n",
       "    }\n",
       "</style>\n",
       "<table border=\"1\" class=\"dataframe\">\n",
       "  <thead>\n",
       "    <tr style=\"text-align: right;\">\n",
       "      <th></th>\n",
       "      <th>sell price($)</th>\n",
       "    </tr>\n",
       "  </thead>\n",
       "  <tbody>\n",
       "    <tr>\n",
       "      <th>0</th>\n",
       "      <td>18000</td>\n",
       "    </tr>\n",
       "    <tr>\n",
       "      <th>1</th>\n",
       "      <td>34000</td>\n",
       "    </tr>\n",
       "    <tr>\n",
       "      <th>2</th>\n",
       "      <td>26100</td>\n",
       "    </tr>\n",
       "    <tr>\n",
       "      <th>3</th>\n",
       "      <td>40000</td>\n",
       "    </tr>\n",
       "    <tr>\n",
       "      <th>4</th>\n",
       "      <td>31500</td>\n",
       "    </tr>\n",
       "    <tr>\n",
       "      <th>5</th>\n",
       "      <td>26750</td>\n",
       "    </tr>\n",
       "    <tr>\n",
       "      <th>6</th>\n",
       "      <td>32000</td>\n",
       "    </tr>\n",
       "    <tr>\n",
       "      <th>7</th>\n",
       "      <td>19300</td>\n",
       "    </tr>\n",
       "    <tr>\n",
       "      <th>8</th>\n",
       "      <td>12000</td>\n",
       "    </tr>\n",
       "    <tr>\n",
       "      <th>9</th>\n",
       "      <td>22000</td>\n",
       "    </tr>\n",
       "    <tr>\n",
       "      <th>10</th>\n",
       "      <td>18700</td>\n",
       "    </tr>\n",
       "    <tr>\n",
       "      <th>11</th>\n",
       "      <td>19500</td>\n",
       "    </tr>\n",
       "    <tr>\n",
       "      <th>12</th>\n",
       "      <td>26000</td>\n",
       "    </tr>\n",
       "    <tr>\n",
       "      <th>13</th>\n",
       "      <td>27500</td>\n",
       "    </tr>\n",
       "    <tr>\n",
       "      <th>14</th>\n",
       "      <td>19400</td>\n",
       "    </tr>\n",
       "    <tr>\n",
       "      <th>15</th>\n",
       "      <td>35000</td>\n",
       "    </tr>\n",
       "    <tr>\n",
       "      <th>16</th>\n",
       "      <td>35500</td>\n",
       "    </tr>\n",
       "    <tr>\n",
       "      <th>17</th>\n",
       "      <td>19700</td>\n",
       "    </tr>\n",
       "    <tr>\n",
       "      <th>18</th>\n",
       "      <td>12800</td>\n",
       "    </tr>\n",
       "    <tr>\n",
       "      <th>19</th>\n",
       "      <td>28200</td>\n",
       "    </tr>\n",
       "  </tbody>\n",
       "</table>\n",
       "</div>"
      ],
      "text/plain": [
       "    sell price($)\n",
       "0           18000\n",
       "1           34000\n",
       "2           26100\n",
       "3           40000\n",
       "4           31500\n",
       "5           26750\n",
       "6           32000\n",
       "7           19300\n",
       "8           12000\n",
       "9           22000\n",
       "10          18700\n",
       "11          19500\n",
       "12          26000\n",
       "13          27500\n",
       "14          19400\n",
       "15          35000\n",
       "16          35500\n",
       "17          19700\n",
       "18          12800\n",
       "19          28200"
      ]
     },
     "execution_count": 366,
     "metadata": {},
     "output_type": "execute_result"
    }
   ],
   "source": [
    "y"
   ]
  },
  {
   "cell_type": "code",
   "execution_count": 367,
   "metadata": {},
   "outputs": [],
   "source": [
    "from sklearn.model_selection import train_test_split"
   ]
  },
  {
   "cell_type": "code",
   "execution_count": 368,
   "metadata": {},
   "outputs": [],
   "source": [
    "x_train,x_test,y_train,y_test = train_test_split(x,y,test_size = 0.2)"
   ]
  },
  {
   "cell_type": "code",
   "execution_count": 369,
   "metadata": {},
   "outputs": [
    {
     "data": {
      "text/plain": [
       "16"
      ]
     },
     "execution_count": 369,
     "metadata": {},
     "output_type": "execute_result"
    }
   ],
   "source": [
    "len(x_train)"
   ]
  },
  {
   "cell_type": "code",
   "execution_count": 370,
   "metadata": {},
   "outputs": [
    {
     "data": {
      "text/plain": [
       "4"
      ]
     },
     "execution_count": 370,
     "metadata": {},
     "output_type": "execute_result"
    }
   ],
   "source": [
    "len(x_test)"
   ]
  },
  {
   "cell_type": "code",
   "execution_count": 371,
   "metadata": {},
   "outputs": [
    {
     "data": {
      "text/html": [
       "<div>\n",
       "<style scoped>\n",
       "    .dataframe tbody tr th:only-of-type {\n",
       "        vertical-align: middle;\n",
       "    }\n",
       "\n",
       "    .dataframe tbody tr th {\n",
       "        vertical-align: top;\n",
       "    }\n",
       "\n",
       "    .dataframe thead th {\n",
       "        text-align: right;\n",
       "    }\n",
       "</style>\n",
       "<table border=\"1\" class=\"dataframe\">\n",
       "  <thead>\n",
       "    <tr style=\"text-align: right;\">\n",
       "      <th></th>\n",
       "      <th>mileage</th>\n",
       "      <th>age(yrs)</th>\n",
       "    </tr>\n",
       "  </thead>\n",
       "  <tbody>\n",
       "    <tr>\n",
       "      <th>7</th>\n",
       "      <td>72000</td>\n",
       "      <td>6</td>\n",
       "    </tr>\n",
       "    <tr>\n",
       "      <th>16</th>\n",
       "      <td>28000</td>\n",
       "      <td>2</td>\n",
       "    </tr>\n",
       "    <tr>\n",
       "      <th>19</th>\n",
       "      <td>52000</td>\n",
       "      <td>5</td>\n",
       "    </tr>\n",
       "    <tr>\n",
       "      <th>9</th>\n",
       "      <td>67000</td>\n",
       "      <td>6</td>\n",
       "    </tr>\n",
       "    <tr>\n",
       "      <th>15</th>\n",
       "      <td>25400</td>\n",
       "      <td>3</td>\n",
       "    </tr>\n",
       "    <tr>\n",
       "      <th>8</th>\n",
       "      <td>91000</td>\n",
       "      <td>8</td>\n",
       "    </tr>\n",
       "    <tr>\n",
       "      <th>14</th>\n",
       "      <td>82450</td>\n",
       "      <td>7</td>\n",
       "    </tr>\n",
       "    <tr>\n",
       "      <th>1</th>\n",
       "      <td>35000</td>\n",
       "      <td>3</td>\n",
       "    </tr>\n",
       "    <tr>\n",
       "      <th>0</th>\n",
       "      <td>69000</td>\n",
       "      <td>6</td>\n",
       "    </tr>\n",
       "    <tr>\n",
       "      <th>12</th>\n",
       "      <td>59000</td>\n",
       "      <td>5</td>\n",
       "    </tr>\n",
       "    <tr>\n",
       "      <th>10</th>\n",
       "      <td>83000</td>\n",
       "      <td>7</td>\n",
       "    </tr>\n",
       "    <tr>\n",
       "      <th>5</th>\n",
       "      <td>59000</td>\n",
       "      <td>5</td>\n",
       "    </tr>\n",
       "    <tr>\n",
       "      <th>13</th>\n",
       "      <td>58780</td>\n",
       "      <td>4</td>\n",
       "    </tr>\n",
       "    <tr>\n",
       "      <th>18</th>\n",
       "      <td>87600</td>\n",
       "      <td>8</td>\n",
       "    </tr>\n",
       "    <tr>\n",
       "      <th>11</th>\n",
       "      <td>79000</td>\n",
       "      <td>7</td>\n",
       "    </tr>\n",
       "    <tr>\n",
       "      <th>17</th>\n",
       "      <td>69000</td>\n",
       "      <td>5</td>\n",
       "    </tr>\n",
       "  </tbody>\n",
       "</table>\n",
       "</div>"
      ],
      "text/plain": [
       "    mileage  age(yrs)\n",
       "7     72000         6\n",
       "16    28000         2\n",
       "19    52000         5\n",
       "9     67000         6\n",
       "15    25400         3\n",
       "8     91000         8\n",
       "14    82450         7\n",
       "1     35000         3\n",
       "0     69000         6\n",
       "12    59000         5\n",
       "10    83000         7\n",
       "5     59000         5\n",
       "13    58780         4\n",
       "18    87600         8\n",
       "11    79000         7\n",
       "17    69000         5"
      ]
     },
     "execution_count": 371,
     "metadata": {},
     "output_type": "execute_result"
    }
   ],
   "source": [
    "x_train #it is selecting the random data for the training purpose so that the data we train wont be same all the time."
   ]
  },
  {
   "cell_type": "code",
   "execution_count": 372,
   "metadata": {},
   "outputs": [],
   "source": [
    "#sometimes we want the training data to be same, for that\n",
    "#x_train,x_test,y_train,y_test = train_test_split(x,y,test_size = 0.2,random_state = 10)"
   ]
  },
  {
   "cell_type": "code",
   "execution_count": 373,
   "metadata": {},
   "outputs": [
    {
     "data": {
      "text/html": [
       "<div>\n",
       "<style scoped>\n",
       "    .dataframe tbody tr th:only-of-type {\n",
       "        vertical-align: middle;\n",
       "    }\n",
       "\n",
       "    .dataframe tbody tr th {\n",
       "        vertical-align: top;\n",
       "    }\n",
       "\n",
       "    .dataframe thead th {\n",
       "        text-align: right;\n",
       "    }\n",
       "</style>\n",
       "<table border=\"1\" class=\"dataframe\">\n",
       "  <thead>\n",
       "    <tr style=\"text-align: right;\">\n",
       "      <th></th>\n",
       "      <th>mileage</th>\n",
       "      <th>age(yrs)</th>\n",
       "    </tr>\n",
       "  </thead>\n",
       "  <tbody>\n",
       "    <tr>\n",
       "      <th>7</th>\n",
       "      <td>72000</td>\n",
       "      <td>6</td>\n",
       "    </tr>\n",
       "    <tr>\n",
       "      <th>16</th>\n",
       "      <td>28000</td>\n",
       "      <td>2</td>\n",
       "    </tr>\n",
       "    <tr>\n",
       "      <th>19</th>\n",
       "      <td>52000</td>\n",
       "      <td>5</td>\n",
       "    </tr>\n",
       "    <tr>\n",
       "      <th>9</th>\n",
       "      <td>67000</td>\n",
       "      <td>6</td>\n",
       "    </tr>\n",
       "    <tr>\n",
       "      <th>15</th>\n",
       "      <td>25400</td>\n",
       "      <td>3</td>\n",
       "    </tr>\n",
       "    <tr>\n",
       "      <th>8</th>\n",
       "      <td>91000</td>\n",
       "      <td>8</td>\n",
       "    </tr>\n",
       "    <tr>\n",
       "      <th>14</th>\n",
       "      <td>82450</td>\n",
       "      <td>7</td>\n",
       "    </tr>\n",
       "    <tr>\n",
       "      <th>1</th>\n",
       "      <td>35000</td>\n",
       "      <td>3</td>\n",
       "    </tr>\n",
       "    <tr>\n",
       "      <th>0</th>\n",
       "      <td>69000</td>\n",
       "      <td>6</td>\n",
       "    </tr>\n",
       "    <tr>\n",
       "      <th>12</th>\n",
       "      <td>59000</td>\n",
       "      <td>5</td>\n",
       "    </tr>\n",
       "    <tr>\n",
       "      <th>10</th>\n",
       "      <td>83000</td>\n",
       "      <td>7</td>\n",
       "    </tr>\n",
       "    <tr>\n",
       "      <th>5</th>\n",
       "      <td>59000</td>\n",
       "      <td>5</td>\n",
       "    </tr>\n",
       "    <tr>\n",
       "      <th>13</th>\n",
       "      <td>58780</td>\n",
       "      <td>4</td>\n",
       "    </tr>\n",
       "    <tr>\n",
       "      <th>18</th>\n",
       "      <td>87600</td>\n",
       "      <td>8</td>\n",
       "    </tr>\n",
       "    <tr>\n",
       "      <th>11</th>\n",
       "      <td>79000</td>\n",
       "      <td>7</td>\n",
       "    </tr>\n",
       "    <tr>\n",
       "      <th>17</th>\n",
       "      <td>69000</td>\n",
       "      <td>5</td>\n",
       "    </tr>\n",
       "  </tbody>\n",
       "</table>\n",
       "</div>"
      ],
      "text/plain": [
       "    mileage  age(yrs)\n",
       "7     72000         6\n",
       "16    28000         2\n",
       "19    52000         5\n",
       "9     67000         6\n",
       "15    25400         3\n",
       "8     91000         8\n",
       "14    82450         7\n",
       "1     35000         3\n",
       "0     69000         6\n",
       "12    59000         5\n",
       "10    83000         7\n",
       "5     59000         5\n",
       "13    58780         4\n",
       "18    87600         8\n",
       "11    79000         7\n",
       "17    69000         5"
      ]
     },
     "execution_count": 373,
     "metadata": {},
     "output_type": "execute_result"
    }
   ],
   "source": [
    "x_train"
   ]
  },
  {
   "cell_type": "code",
   "execution_count": 374,
   "metadata": {},
   "outputs": [],
   "source": [
    "from sklearn.linear_model import LinearRegression\n",
    "clf = LinearRegression()"
   ]
  },
  {
   "cell_type": "code",
   "execution_count": 375,
   "metadata": {},
   "outputs": [
    {
     "data": {
      "text/plain": [
       "LinearRegression(copy_X=True, fit_intercept=True, n_jobs=None, normalize=False)"
      ]
     },
     "execution_count": 375,
     "metadata": {},
     "output_type": "execute_result"
    }
   ],
   "source": [
    "clf.fit(x_train,y_train)"
   ]
  },
  {
   "cell_type": "code",
   "execution_count": 376,
   "metadata": {},
   "outputs": [
    {
     "data": {
      "text/plain": [
       "array([[26887.42158777],\n",
       "       [37716.06683133],\n",
       "       [25573.72819008],\n",
       "       [29489.80506406]])"
      ]
     },
     "execution_count": 376,
     "metadata": {},
     "output_type": "execute_result"
    }
   ],
   "source": [
    "clf.predict(x_test)"
   ]
  },
  {
   "cell_type": "code",
   "execution_count": 377,
   "metadata": {},
   "outputs": [
    {
     "data": {
      "text/html": [
       "<div>\n",
       "<style scoped>\n",
       "    .dataframe tbody tr th:only-of-type {\n",
       "        vertical-align: middle;\n",
       "    }\n",
       "\n",
       "    .dataframe tbody tr th {\n",
       "        vertical-align: top;\n",
       "    }\n",
       "\n",
       "    .dataframe thead th {\n",
       "        text-align: right;\n",
       "    }\n",
       "</style>\n",
       "<table border=\"1\" class=\"dataframe\">\n",
       "  <thead>\n",
       "    <tr style=\"text-align: right;\">\n",
       "      <th></th>\n",
       "      <th>sell price($)</th>\n",
       "    </tr>\n",
       "  </thead>\n",
       "  <tbody>\n",
       "    <tr>\n",
       "      <th>6</th>\n",
       "      <td>32000</td>\n",
       "    </tr>\n",
       "    <tr>\n",
       "      <th>3</th>\n",
       "      <td>40000</td>\n",
       "    </tr>\n",
       "    <tr>\n",
       "      <th>2</th>\n",
       "      <td>26100</td>\n",
       "    </tr>\n",
       "    <tr>\n",
       "      <th>4</th>\n",
       "      <td>31500</td>\n",
       "    </tr>\n",
       "  </tbody>\n",
       "</table>\n",
       "</div>"
      ],
      "text/plain": [
       "   sell price($)\n",
       "6          32000\n",
       "3          40000\n",
       "2          26100\n",
       "4          31500"
      ]
     },
     "execution_count": 377,
     "metadata": {},
     "output_type": "execute_result"
    }
   ],
   "source": [
    "y_test"
   ]
  },
  {
   "cell_type": "code",
   "execution_count": 378,
   "metadata": {},
   "outputs": [
    {
     "data": {
      "text/plain": [
       "0.6375466933695311"
      ]
     },
     "execution_count": 378,
     "metadata": {},
     "output_type": "execute_result"
    }
   ],
   "source": [
    "clf.score(x_test,y_test)"
   ]
  },
  {
   "cell_type": "code",
   "execution_count": null,
   "metadata": {},
   "outputs": [],
   "source": []
  },
  {
   "cell_type": "code",
   "execution_count": null,
   "metadata": {},
   "outputs": [],
   "source": []
  },
  {
   "cell_type": "code",
   "execution_count": 379,
   "metadata": {},
   "outputs": [],
   "source": [
    "#Logistic regression (Binary classification)\n"
   ]
  },
  {
   "cell_type": "code",
   "execution_count": 380,
   "metadata": {},
   "outputs": [],
   "source": [
    "#@) email is spam or not? 2) will customer buy life insurance?  3) which party a person os going to vote? democratic,republican,independent\n",
    "#in linear regression the predicted value is continuous, but in logistic(classification) it is categorical\n",
    "#Logistic regression is one of the techiques used for classification.\n",
    "#in classfication , there are two types , binary (yes/no) , multi calss classification(1.democratic,2.repulican,3.independent)"
   ]
  },
  {
   "cell_type": "code",
   "execution_count": 381,
   "metadata": {},
   "outputs": [],
   "source": [
    "#sigmoid or logit function\n",
    "# z(sigmoid) = 1/1+e^-z where e is euler's number ~ 2.71828\n",
    "#sigmoid function has range from 0 to 1.\n",
    "# y = 1/(1+e^-(m*x+b))"
   ]
  },
  {
   "cell_type": "code",
   "execution_count": 382,
   "metadata": {},
   "outputs": [
    {
     "data": {
      "text/html": [
       "<div>\n",
       "<style scoped>\n",
       "    .dataframe tbody tr th:only-of-type {\n",
       "        vertical-align: middle;\n",
       "    }\n",
       "\n",
       "    .dataframe tbody tr th {\n",
       "        vertical-align: top;\n",
       "    }\n",
       "\n",
       "    .dataframe thead th {\n",
       "        text-align: right;\n",
       "    }\n",
       "</style>\n",
       "<table border=\"1\" class=\"dataframe\">\n",
       "  <thead>\n",
       "    <tr style=\"text-align: right;\">\n",
       "      <th></th>\n",
       "      <th>age</th>\n",
       "      <th>have_insurance</th>\n",
       "    </tr>\n",
       "  </thead>\n",
       "  <tbody>\n",
       "    <tr>\n",
       "      <th>0</th>\n",
       "      <td>22</td>\n",
       "      <td>0</td>\n",
       "    </tr>\n",
       "    <tr>\n",
       "      <th>1</th>\n",
       "      <td>25</td>\n",
       "      <td>0</td>\n",
       "    </tr>\n",
       "    <tr>\n",
       "      <th>2</th>\n",
       "      <td>47</td>\n",
       "      <td>1</td>\n",
       "    </tr>\n",
       "    <tr>\n",
       "      <th>3</th>\n",
       "      <td>52</td>\n",
       "      <td>0</td>\n",
       "    </tr>\n",
       "    <tr>\n",
       "      <th>4</th>\n",
       "      <td>46</td>\n",
       "      <td>1</td>\n",
       "    </tr>\n",
       "  </tbody>\n",
       "</table>\n",
       "</div>"
      ],
      "text/plain": [
       "   age  have_insurance\n",
       "0   22               0\n",
       "1   25               0\n",
       "2   47               1\n",
       "3   52               0\n",
       "4   46               1"
      ]
     },
     "execution_count": 382,
     "metadata": {},
     "output_type": "execute_result"
    }
   ],
   "source": [
    "sf = pd.read_csv(\"D:\\excel_files\\insurance.csv\")\n",
    "sf.head()"
   ]
  },
  {
   "cell_type": "code",
   "execution_count": 383,
   "metadata": {},
   "outputs": [
    {
     "data": {
      "text/plain": [
       "<matplotlib.collections.PathCollection at 0x25634811708>"
      ]
     },
     "execution_count": 383,
     "metadata": {},
     "output_type": "execute_result"
    },
    {
     "data": {
      "image/png": "[encoded data removed]",
      "text/plain": [
       "<Figure size 432x288 with 1 Axes>"
      ]
     },
     "metadata": {
      "needs_background": "light"
     },
     "output_type": "display_data"
    }
   ],
   "source": [
    "plt.scatter(sf.age,sf.have_insurance,marker='+',color='red')"
   ]
  },
  {
   "cell_type": "code",
   "execution_count": 384,
   "metadata": {},
   "outputs": [
    {
     "data": {
      "text/plain": [
       "(15, 2)"
      ]
     },
     "execution_count": 384,
     "metadata": {},
     "output_type": "execute_result"
    }
   ],
   "source": [
    "sf.shape"
   ]
  },
  {
   "cell_type": "code",
   "execution_count": 385,
   "metadata": {},
   "outputs": [],
   "source": [
    "from sklearn.model_selection import train_test_split"
   ]
  },
  {
   "cell_type": "code",
   "execution_count": 386,
   "metadata": {},
   "outputs": [],
   "source": [
    "x_train,x_test,y_train,y_test =  train_test_split(sf[['age']],sf.have_insurance,train_size = 0.7)"
   ]
  },
  {
   "cell_type": "code",
   "execution_count": 387,
   "metadata": {},
   "outputs": [
    {
     "data": {
      "text/html": [
       "<div>\n",
       "<style scoped>\n",
       "    .dataframe tbody tr th:only-of-type {\n",
       "        vertical-align: middle;\n",
       "    }\n",
       "\n",
       "    .dataframe tbody tr th {\n",
       "        vertical-align: top;\n",
       "    }\n",
       "\n",
       "    .dataframe thead th {\n",
       "        text-align: right;\n",
       "    }\n",
       "</style>\n",
       "<table border=\"1\" class=\"dataframe\">\n",
       "  <thead>\n",
       "    <tr style=\"text-align: right;\">\n",
       "      <th></th>\n",
       "      <th>age</th>\n",
       "    </tr>\n",
       "  </thead>\n",
       "  <tbody>\n",
       "    <tr>\n",
       "      <th>13</th>\n",
       "      <td>29</td>\n",
       "    </tr>\n",
       "    <tr>\n",
       "      <th>6</th>\n",
       "      <td>55</td>\n",
       "    </tr>\n",
       "    <tr>\n",
       "      <th>11</th>\n",
       "      <td>28</td>\n",
       "    </tr>\n",
       "    <tr>\n",
       "      <th>5</th>\n",
       "      <td>56</td>\n",
       "    </tr>\n",
       "    <tr>\n",
       "      <th>8</th>\n",
       "      <td>62</td>\n",
       "    </tr>\n",
       "  </tbody>\n",
       "</table>\n",
       "</div>"
      ],
      "text/plain": [
       "    age\n",
       "13   29\n",
       "6    55\n",
       "11   28\n",
       "5    56\n",
       "8    62"
      ]
     },
     "execution_count": 387,
     "metadata": {},
     "output_type": "execute_result"
    }
   ],
   "source": [
    "x_test"
   ]
  },
  {
   "cell_type": "code",
   "execution_count": 388,
   "metadata": {},
   "outputs": [
    {
     "data": {
      "text/html": [
       "<div>\n",
       "<style scoped>\n",
       "    .dataframe tbody tr th:only-of-type {\n",
       "        vertical-align: middle;\n",
       "    }\n",
       "\n",
       "    .dataframe tbody tr th {\n",
       "        vertical-align: top;\n",
       "    }\n",
       "\n",
       "    .dataframe thead th {\n",
       "        text-align: right;\n",
       "    }\n",
       "</style>\n",
       "<table border=\"1\" class=\"dataframe\">\n",
       "  <thead>\n",
       "    <tr style=\"text-align: right;\">\n",
       "      <th></th>\n",
       "      <th>age</th>\n",
       "    </tr>\n",
       "  </thead>\n",
       "  <tbody>\n",
       "    <tr>\n",
       "      <th>10</th>\n",
       "      <td>18</td>\n",
       "    </tr>\n",
       "    <tr>\n",
       "      <th>9</th>\n",
       "      <td>61</td>\n",
       "    </tr>\n",
       "    <tr>\n",
       "      <th>14</th>\n",
       "      <td>49</td>\n",
       "    </tr>\n",
       "    <tr>\n",
       "      <th>2</th>\n",
       "      <td>47</td>\n",
       "    </tr>\n",
       "    <tr>\n",
       "      <th>4</th>\n",
       "      <td>46</td>\n",
       "    </tr>\n",
       "    <tr>\n",
       "      <th>7</th>\n",
       "      <td>60</td>\n",
       "    </tr>\n",
       "    <tr>\n",
       "      <th>3</th>\n",
       "      <td>52</td>\n",
       "    </tr>\n",
       "    <tr>\n",
       "      <th>1</th>\n",
       "      <td>25</td>\n",
       "    </tr>\n",
       "    <tr>\n",
       "      <th>0</th>\n",
       "      <td>22</td>\n",
       "    </tr>\n",
       "    <tr>\n",
       "      <th>12</th>\n",
       "      <td>27</td>\n",
       "    </tr>\n",
       "  </tbody>\n",
       "</table>\n",
       "</div>"
      ],
      "text/plain": [
       "    age\n",
       "10   18\n",
       "9    61\n",
       "14   49\n",
       "2    47\n",
       "4    46\n",
       "7    60\n",
       "3    52\n",
       "1    25\n",
       "0    22\n",
       "12   27"
      ]
     },
     "execution_count": 388,
     "metadata": {},
     "output_type": "execute_result"
    }
   ],
   "source": [
    "x_train"
   ]
  },
  {
   "cell_type": "code",
   "execution_count": 389,
   "metadata": {},
   "outputs": [],
   "source": [
    "from sklearn.linear_model import LogisticRegression"
   ]
  },
  {
   "cell_type": "code",
   "execution_count": 390,
   "metadata": {},
   "outputs": [],
   "source": [
    "model = LogisticRegression()"
   ]
  },
  {
   "cell_type": "code",
   "execution_count": 391,
   "metadata": {},
   "outputs": [
    {
     "data": {
      "text/plain": [
       "LogisticRegression(C=1.0, class_weight=None, dual=False, fit_intercept=True,\n",
       "                   intercept_scaling=1, l1_ratio=None, max_iter=100,\n",
       "                   multi_class='auto', n_jobs=None, penalty='l2',\n",
       "                   random_state=None, solver='lbfgs', tol=0.0001, verbose=0,\n",
       "                   warm_start=False)"
      ]
     },
     "execution_count": 391,
     "metadata": {},
     "output_type": "execute_result"
    }
   ],
   "source": [
    "model.fit(x_train,y_train)"
   ]
  },
  {
   "cell_type": "code",
   "execution_count": 392,
   "metadata": {},
   "outputs": [
    {
     "data": {
      "text/plain": [
       "array([0, 1, 0, 1, 1], dtype=int64)"
      ]
     },
     "execution_count": 392,
     "metadata": {},
     "output_type": "execute_result"
    }
   ],
   "source": [
    "model.predict(x_test)"
   ]
  },
  {
   "cell_type": "code",
   "execution_count": 393,
   "metadata": {},
   "outputs": [
    {
     "data": {
      "text/plain": [
       "0.8"
      ]
     },
     "execution_count": 393,
     "metadata": {},
     "output_type": "execute_result"
    }
   ],
   "source": [
    "model.score(x_test,y_test)"
   ]
  },
  {
   "cell_type": "code",
   "execution_count": 394,
   "metadata": {},
   "outputs": [
    {
     "data": {
      "text/plain": [
       "array([[0.91618867, 0.08381133],\n",
       "       [0.09921415, 0.90078585],\n",
       "       [0.92880568, 0.07119432],\n",
       "       [0.08449223, 0.91550777],\n",
       "       [0.0309539 , 0.9690461 ]])"
      ]
     },
     "execution_count": 394,
     "metadata": {},
     "output_type": "execute_result"
    }
   ],
   "source": [
    "model.predict_proba(x_test)"
   ]
  },
  {
   "cell_type": "code",
   "execution_count": 395,
   "metadata": {},
   "outputs": [
    {
     "data": {
      "text/plain": [
       "array([0], dtype=int64)"
      ]
     },
     "execution_count": 395,
     "metadata": {},
     "output_type": "execute_result"
    }
   ],
   "source": [
    "model.predict([[25]])"
   ]
  },
  {
   "cell_type": "code",
   "execution_count": 396,
   "metadata": {},
   "outputs": [],
   "source": [
    "#exercise given"
   ]
  },
  {
   "cell_type": "code",
   "execution_count": null,
   "metadata": {},
   "outputs": [],
   "source": []
  },
  {
   "cell_type": "code",
   "execution_count": null,
   "metadata": {},
   "outputs": [],
   "source": []
  },
  {
   "cell_type": "code",
   "execution_count": 397,
   "metadata": {},
   "outputs": [],
   "source": [
    "#Multiple classification (logistic classification)"
   ]
  },
  {
   "cell_type": "code",
   "execution_count": 398,
   "metadata": {},
   "outputs": [],
   "source": [
    "#identify hand written digits recognition"
   ]
  },
  {
   "cell_type": "code",
   "execution_count": 399,
   "metadata": {},
   "outputs": [],
   "source": [
    "from sklearn.datasets import load_digits"
   ]
  },
  {
   "cell_type": "code",
   "execution_count": 400,
   "metadata": {},
   "outputs": [],
   "source": [
    "digits = load_digits()"
   ]
  },
  {
   "cell_type": "code",
   "execution_count": 401,
   "metadata": {},
   "outputs": [
    {
     "data": {
      "text/plain": [
       "['DESCR', 'data', 'images', 'target', 'target_names']"
      ]
     },
     "execution_count": 401,
     "metadata": {},
     "output_type": "execute_result"
    }
   ],
   "source": [
    "dir(digits)"
   ]
  },
  {
   "cell_type": "code",
   "execution_count": 402,
   "metadata": {},
   "outputs": [
    {
     "data": {
      "text/plain": [
       "array([ 0.,  0.,  5., 13.,  9.,  1.,  0.,  0.,  0.,  0., 13., 15., 10.,\n",
       "       15.,  5.,  0.,  0.,  3., 15.,  2.,  0., 11.,  8.,  0.,  0.,  4.,\n",
       "       12.,  0.,  0.,  8.,  8.,  0.,  0.,  5.,  8.,  0.,  0.,  9.,  8.,\n",
       "        0.,  0.,  4., 11.,  0.,  1., 12.,  7.,  0.,  0.,  2., 14.,  5.,\n",
       "       10., 12.,  0.,  0.,  0.,  0.,  6., 13., 10.,  0.,  0.,  0.])"
      ]
     },
     "execution_count": 402,
     "metadata": {},
     "output_type": "execute_result"
    }
   ],
   "source": [
    "digits.data[0]"
   ]
  },
  {
   "cell_type": "code",
   "execution_count": 403,
   "metadata": {},
   "outputs": [
    {
     "data": {
      "text/plain": [
       "<Figure size 432x288 with 0 Axes>"
      ]
     },
     "metadata": {},
     "output_type": "display_data"
    },
    {
     "data": {
      "image/png": "[encoded data removed]",
      "text/plain": [
       "<Figure size 288x288 with 1 Axes>"
      ]
     },
     "metadata": {
      "needs_background": "light"
     },
     "output_type": "display_data"
    },
    {
     "data": {
      "image/png": "[encoded data removed]",
      "text/plain": [
       "<Figure size 288x288 with 1 Axes>"
      ]
     },
     "metadata": {
      "needs_background": "light"
     },
     "output_type": "display_data"
    },
    {
     "data": {
      "image/png": "[encoded data removed]",
      "text/plain": [
       "<Figure size 288x288 with 1 Axes>"
      ]
     },
     "metadata": {
      "needs_background": "light"
     },
     "output_type": "display_data"
    },
    {
     "data": {
      "image/png": "[encoded data removed]",
      "text/plain": [
       "<Figure size 288x288 with 1 Axes>"
      ]
     },
     "metadata": {
      "needs_background": "light"
     },
     "output_type": "display_data"
    },
    {
     "data": {
      "image/png": "[encoded data removed]",
      "text/plain": [
       "<Figure size 288x288 with 1 Axes>"
      ]
     },
     "metadata": {
      "needs_background": "light"
     },
     "output_type": "display_data"
    }
   ],
   "source": [
    "plt.gray()\n",
    "for i in range(5):\n",
    "    plt.matshow(digits.images[i])"
   ]
  },
  {
   "cell_type": "code",
   "execution_count": 404,
   "metadata": {},
   "outputs": [
    {
     "data": {
      "text/plain": [
       "array([0, 1, 2, 3, 4])"
      ]
     },
     "execution_count": 404,
     "metadata": {},
     "output_type": "execute_result"
    }
   ],
   "source": [
    "digits.target[0:5]"
   ]
  },
  {
   "cell_type": "code",
   "execution_count": 405,
   "metadata": {},
   "outputs": [],
   "source": [
    "from sklearn.model_selection import train_test_split"
   ]
  },
  {
   "cell_type": "code",
   "execution_count": 406,
   "metadata": {},
   "outputs": [],
   "source": [
    "x_train,x_test,y_train,y_test = train_test_split(digits.data,digits.target,test_size = 0.3)"
   ]
  },
  {
   "cell_type": "code",
   "execution_count": 407,
   "metadata": {},
   "outputs": [
    {
     "data": {
      "text/plain": [
       "1257"
      ]
     },
     "execution_count": 407,
     "metadata": {},
     "output_type": "execute_result"
    }
   ],
   "source": [
    "len(x_train)"
   ]
  },
  {
   "cell_type": "code",
   "execution_count": 408,
   "metadata": {},
   "outputs": [
    {
     "data": {
      "text/plain": [
       "540"
      ]
     },
     "execution_count": 408,
     "metadata": {},
     "output_type": "execute_result"
    }
   ],
   "source": [
    "len(x_test)"
   ]
  },
  {
   "cell_type": "code",
   "execution_count": 409,
   "metadata": {},
   "outputs": [],
   "source": [
    "from sklearn.linear_model import LogisticRegression\n",
    "model = LogisticRegression()"
   ]
  },
  {
   "cell_type": "code",
   "execution_count": 410,
   "metadata": {},
   "outputs": [
    {
     "name": "stderr",
     "output_type": "stream",
     "text": [
      "C:\\Users\\DELL\\anaconda3\\lib\\site-packages\\sklearn\\linear_model\\_logistic.py:940: ConvergenceWarning: lbfgs failed to converge (status=1):\n",
      "STOP: TOTAL NO. of ITERATIONS REACHED LIMIT.\n",
      "\n",
      "Increase the number of iterations (max_iter) or scale the data as shown in:\n",
      "    https://scikit-learn.org/stable/modules/preprocessing.html\n",
      "Please also refer to the documentation for alternative solver options:\n",
      "    https://scikit-learn.org/stable/modules/linear_model.html#logistic-regression\n",
      "  extra_warning_msg=_LOGISTIC_SOLVER_CONVERGENCE_MSG)\n"
     ]
    },
    {
     "data": {
      "text/plain": [
       "LogisticRegression(C=1.0, class_weight=None, dual=False, fit_intercept=True,\n",
       "                   intercept_scaling=1, l1_ratio=None, max_iter=100,\n",
       "                   multi_class='auto', n_jobs=None, penalty='l2',\n",
       "                   random_state=None, solver='lbfgs', tol=0.0001, verbose=0,\n",
       "                   warm_start=False)"
      ]
     },
     "execution_count": 410,
     "metadata": {},
     "output_type": "execute_result"
    }
   ],
   "source": [
    "model.fit(x_train,y_train)"
   ]
  },
  {
   "cell_type": "code",
   "execution_count": 411,
   "metadata": {},
   "outputs": [
    {
     "data": {
      "text/plain": [
       "0.9481481481481482"
      ]
     },
     "execution_count": 411,
     "metadata": {},
     "output_type": "execute_result"
    }
   ],
   "source": [
    "model.score(x_test,y_test)"
   ]
  },
  {
   "cell_type": "code",
   "execution_count": 412,
   "metadata": {},
   "outputs": [
    {
     "data": {
      "text/plain": [
       "<matplotlib.image.AxesImage at 0x25636da5b48>"
      ]
     },
     "execution_count": 412,
     "metadata": {},
     "output_type": "execute_result"
    },
    {
     "data": {
      "image/png": "[encoded data removed]",
      "text/plain": [
       "<Figure size 288x288 with 1 Axes>"
      ]
     },
     "metadata": {
      "needs_background": "light"
     },
     "output_type": "display_data"
    }
   ],
   "source": [
    "plt.matshow(digits.images[67])"
   ]
  },
  {
   "cell_type": "code",
   "execution_count": 413,
   "metadata": {},
   "outputs": [
    {
     "data": {
      "text/plain": [
       "6"
      ]
     },
     "execution_count": 413,
     "metadata": {},
     "output_type": "execute_result"
    }
   ],
   "source": [
    "digits.target[67]"
   ]
  },
  {
   "cell_type": "code",
   "execution_count": 414,
   "metadata": {},
   "outputs": [
    {
     "data": {
      "text/plain": [
       "array([6])"
      ]
     },
     "execution_count": 414,
     "metadata": {},
     "output_type": "execute_result"
    }
   ],
   "source": [
    "model.predict([digits.data[67]])"
   ]
  },
  {
   "cell_type": "code",
   "execution_count": 415,
   "metadata": {},
   "outputs": [
    {
     "data": {
      "text/plain": [
       "array([0, 1, 2, 3, 4])"
      ]
     },
     "execution_count": 415,
     "metadata": {},
     "output_type": "execute_result"
    }
   ],
   "source": [
    "model.predict(digits.data[0:5])"
   ]
  },
  {
   "cell_type": "code",
   "execution_count": 416,
   "metadata": {},
   "outputs": [
    {
     "data": {
      "text/plain": [
       "array([[53,  0,  0,  0,  0,  0,  0,  0,  0,  0],\n",
       "       [ 0, 47,  0,  0,  0,  0,  0,  0,  1,  0],\n",
       "       [ 0,  1, 54,  0,  0,  0,  0,  0,  0,  0],\n",
       "       [ 0,  0,  1, 50,  0,  1,  0,  1,  3,  0],\n",
       "       [ 0,  2,  0,  0, 56,  0,  0,  0,  0,  0],\n",
       "       [ 0,  1,  1,  0,  1, 49,  0,  0,  0,  1],\n",
       "       [ 0,  1,  0,  0,  0,  0, 52,  0,  1,  0],\n",
       "       [ 0,  1,  0,  0,  1,  0,  0, 54,  0,  0],\n",
       "       [ 0,  2,  0,  0,  1,  0,  0,  0, 45,  2],\n",
       "       [ 0,  1,  0,  1,  1,  0,  0,  0,  2, 52]], dtype=int64)"
      ]
     },
     "execution_count": 416,
     "metadata": {},
     "output_type": "execute_result"
    }
   ],
   "source": [
    "y_predicted = model.predict(x_test)\n",
    "from sklearn.metrics import confusion_matrix\n",
    "\n",
    "cm = confusion_matrix(y_test, y_predicted)\n",
    "cm"
   ]
  },
  {
   "cell_type": "code",
   "execution_count": 417,
   "metadata": {
    "scrolled": true
   },
   "outputs": [
    {
     "data": {
      "text/plain": [
       "Text(69.0, 0.5, 'Truth')"
      ]
     },
     "execution_count": 417,
     "metadata": {},
     "output_type": "execute_result"
    },
    {
     "data": {
      "image/png": "[encoded data removed]",
      "text/plain": [
       "<Figure size 720x504 with 2 Axes>"
      ]
     },
     "metadata": {
      "needs_background": "light"
     },
     "output_type": "display_data"
    }
   ],
   "source": [
    "#for matrix visualization\n",
    "import seaborn as sn\n",
    "plt.figure(figsize = (10,7))\n",
    "sn.heatmap(cm,annot = True)\n",
    "plt.xlabel('Predicted')\n",
    "plt.ylabel('Truth')\n",
    "\n",
    "#to check how well your model is doing or the diff btwn truth value and predicted value\n"
   ]
  },
  {
   "cell_type": "code",
   "execution_count": null,
   "metadata": {},
   "outputs": [],
   "source": []
  },
  {
   "cell_type": "code",
   "execution_count": 418,
   "metadata": {},
   "outputs": [],
   "source": [
    "#exercise\n",
    "#iris flower"
   ]
  },
  {
   "cell_type": "code",
   "execution_count": null,
   "metadata": {},
   "outputs": [],
   "source": []
  },
  {
   "cell_type": "code",
   "execution_count": null,
   "metadata": {},
   "outputs": [],
   "source": []
  },
  {
   "cell_type": "code",
   "execution_count": null,
   "metadata": {},
   "outputs": [],
   "source": []
  },
  {
   "cell_type": "code",
   "execution_count": null,
   "metadata": {},
   "outputs": [],
   "source": []
  },
  {
   "cell_type": "code",
   "execution_count": null,
   "metadata": {},
   "outputs": [],
   "source": []
  },
  {
   "cell_type": "code",
   "execution_count": null,
   "metadata": {},
   "outputs": [],
   "source": []
  },
  {
   "cell_type": "code",
   "execution_count": null,
   "metadata": {},
   "outputs": [],
   "source": []
  },
  {
   "cell_type": "code",
   "execution_count": null,
   "metadata": {},
   "outputs": [],
   "source": []
  }
 ],
 "metadata": {
  "kernelspec": {
   "display_name": "Python 3",
   "language": "python",
   "name": "python3"
  },
  "language_info": {
   "codemirror_mode": {
    "name": "ipython",
    "version": 3
   },
   "file_extension": ".py",
   "mimetype": "text/x-python",
   "name": "python",
   "nbconvert_exporter": "python",
   "pygments_lexer": "ipython3",
   "version": "3.7.6"
  }
 },
 "nbformat": 4,
 "nbformat_minor": 4
}

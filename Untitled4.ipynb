{
 "cells": [
  {
   "cell_type": "code",
   "execution_count": 1,
   "metadata": {},
   "outputs": [
    {
     "name": "stdout",
     "output_type": "stream",
     "text": [
      "Hello Ankit your lucky number is 45\n"
     ]
    }
   ],
   "source": [
    "name=\"Ankit\"\n",
    "number=len(name)*9\n",
    "print(\"Hello \" +name+ \" your lucky number is \" +str(number))"
   ]
  },
  {
   "cell_type": "code",
   "execution_count": 5,
   "metadata": {},
   "outputs": [
    {
     "name": "stdout",
     "output_type": "stream",
     "text": [
      "june month has 30  days\n",
      "july month has 31  days\n"
     ]
    }
   ],
   "source": [
    "def month_days(name,number):\n",
    "   print(name+\" month has \" + str(number) + \"  days\" )\n",
    "\n",
    "month_days(\"june\",30)\n",
    "month_days(\"july\",31)"
   ]
  },
  {
   "cell_type": "code",
   "execution_count": 15,
   "metadata": {},
   "outputs": [
    {
     "name": "stdout",
     "output_type": "stream",
     "text": [
      "The distance in kilometers is 88.0\n",
      " 176.0\n"
     ]
    }
   ],
   "source": [
    "def convert_distance(miles):\n",
    "\treturn miles * 1.6  # approximately 1.6 km in 1 mile\n",
    "\n",
    "\n",
    "\n",
    "# 2) Convert my_trip_miles to kilometers by calling the function above\n",
    "my_trip_km =convert_distance(55)\n",
    "round_trip=2*my_trip_km\n",
    "# 3) Fill in the blank to print the result of the conversion\n",
    "print(\"The distance in kilometers is \" + str(my_trip_km))\n",
    "print(\" \" +str(round_trip))\n",
    "#"
   ]
  },
  {
   "cell_type": "code",
   "execution_count": 9,
   "metadata": {},
   "outputs": [
    {
     "name": "stdout",
     "output_type": "stream",
     "text": [
      "Hello Kay. Your lucky number is 27\n",
      "Kay\n",
      "Hello Cameron. Your lucky number is 63\n",
      "Cameron\n"
     ]
    }
   ],
   "source": [
    "def lucky_number(name):\n",
    "  number = len(name) * 9\n",
    "  print(\"Hello \" + name + \". Your lucky number is \" + str(number))\n",
    "  return name\n",
    "  \n",
    "\t    \n",
    "print(lucky_number(\"Kay\"))\n",
    "print(lucky_number(\"Cameron\"))"
   ]
  },
  {
   "cell_type": "code",
   "execution_count": 8,
   "metadata": {},
   "outputs": [
    {
     "name": "stdout",
     "output_type": "stream",
     "text": [
      "99 100\n"
     ]
    }
   ],
   "source": [
    "# This function compares two numbers and returns them\n",
    "# in increasing order.\n",
    "def order_numbers(number1, number2):\n",
    "\tif number2 > number1:\n",
    "\t\treturn number1, number2\n",
    "\telse:\n",
    "\t\treturn number2, number1\n",
    "\n",
    "# 1) Fill in the blanks so the print statement displays the result\n",
    "#    of the function call\n",
    "smaller,bigger = order_numbers(100, 99)\n",
    "print(smaller, bigger)"
   ]
  },
  {
   "cell_type": "code",
   "execution_count": null,
   "metadata": {},
   "outputs": [],
   "source": []
  }
 ],
 "metadata": {
  "kernelspec": {
   "display_name": "Python 3",
   "language": "python",
   "name": "python3"
  },
  "language_info": {
   "codemirror_mode": {
    "name": "ipython",
    "version": 3
   },
   "file_extension": ".py",
   "mimetype": "text/x-python",
   "name": "python",
   "nbconvert_exporter": "python",
   "pygments_lexer": "ipython3",
   "version": "3.7.6"
  }
 },
 "nbformat": 4,
 "nbformat_minor": 4
}

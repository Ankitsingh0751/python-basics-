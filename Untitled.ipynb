{
 "cells": [
  {
   "cell_type": "code",
   "execution_count": 1,
   "metadata": {},
   "outputs": [
    {
     "name": "stdout",
     "output_type": "stream",
     "text": [
      "Hello world\n"
     ]
    }
   ],
   "source": [
    "print(\"Hello world\")"
   ]
  },
  {
   "cell_type": "code",
   "execution_count": 2,
   "metadata": {},
   "outputs": [
    {
     "name": "stdout",
     "output_type": "stream",
     "text": [
      "bhak bhosdike\n",
      "bhak bhosdike\n",
      "bhak bhosdike\n",
      "bhak bhosdike\n",
      "bhak bhosdike\n",
      "bhak bhosdike\n",
      "bhak bhosdike\n",
      "bhak bhosdike\n",
      "bhak bhosdike\n",
      "bhak bhosdike\n"
     ]
    }
   ],
   "source": [
    "for i in range(10):\n",
    "    print(\"bhak bhosdike\")"
   ]
  },
  {
   "cell_type": "code",
   "execution_count": 5,
   "metadata": {},
   "outputs": [
    {
     "ename": "IndentationError",
     "evalue": "unexpected indent (<ipython-input-5-c320f7d29bf8>, line 2)",
     "output_type": "error",
     "traceback": [
      "\u001b[1;36m  File \u001b[1;32m\"<ipython-input-5-c320f7d29bf8>\"\u001b[1;36m, line \u001b[1;32m2\u001b[0m\n\u001b[1;33m    print(\"Hi\" +friends)\u001b[0m\n\u001b[1;37m    ^\u001b[0m\n\u001b[1;31mIndentationError\u001b[0m\u001b[1;31m:\u001b[0m unexpected indent\n"
     ]
    }
   ],
   "source": [
    "friends=['Atul','lawda','gandu','jhatu']\n",
    "        print(\"Hi\" +friends)"
   ]
  },
  {
   "cell_type": "code",
   "execution_count": 6,
   "metadata": {},
   "outputs": [
    {
     "name": "stdout",
     "output_type": "stream",
     "text": [
      "sorry\n",
      "sorry\n",
      "sorry\n",
      "sorry\n",
      "sorry\n",
      "sorry\n",
      "sorry\n",
      "sorry\n",
      "sorry\n",
      "sorry\n",
      "sorry\n",
      "sorry\n",
      "sorry\n",
      "sorry\n",
      "sorry\n",
      "sorry\n",
      "sorry\n",
      "sorry\n",
      "sorry\n",
      "sorry\n",
      "sorry\n",
      "sorry\n",
      "sorry\n",
      "sorry\n",
      "sorry\n",
      "sorry\n",
      "sorry\n",
      "sorry\n",
      "sorry\n",
      "sorry\n",
      "sorry\n",
      "sorry\n",
      "sorry\n",
      "sorry\n",
      "sorry\n",
      "sorry\n",
      "sorry\n",
      "sorry\n",
      "sorry\n",
      "sorry\n",
      "sorry\n",
      "sorry\n",
      "sorry\n",
      "sorry\n",
      "sorry\n",
      "sorry\n",
      "sorry\n",
      "sorry\n",
      "sorry\n",
      "sorry\n",
      "sorry\n",
      "sorry\n",
      "sorry\n",
      "sorry\n",
      "sorry\n",
      "sorry\n",
      "sorry\n",
      "sorry\n",
      "sorry\n",
      "sorry\n",
      "sorry\n",
      "sorry\n",
      "sorry\n",
      "sorry\n",
      "sorry\n",
      "sorry\n",
      "sorry\n",
      "sorry\n",
      "sorry\n",
      "sorry\n",
      "sorry\n",
      "sorry\n",
      "sorry\n",
      "sorry\n",
      "sorry\n",
      "sorry\n",
      "sorry\n",
      "sorry\n",
      "sorry\n",
      "sorry\n",
      "sorry\n",
      "sorry\n",
      "sorry\n",
      "sorry\n",
      "sorry\n",
      "sorry\n",
      "sorry\n",
      "sorry\n",
      "sorry\n",
      "sorry\n",
      "sorry\n",
      "sorry\n",
      "sorry\n",
      "sorry\n",
      "sorry\n",
      "sorry\n",
      "sorry\n",
      "sorry\n",
      "sorry\n",
      "sorry\n"
     ]
    }
   ],
   "source": [
    "for i in range(100):\n",
    "    print(\"sorry\")"
   ]
  },
  {
   "cell_type": "code",
   "execution_count": 7,
   "metadata": {},
   "outputs": [
    {
     "name": "stdout",
     "output_type": "stream",
     "text": [
      "i like you\n",
      "i like you\n",
      "i like you\n",
      "i like you\n",
      "i like you\n",
      "i like you\n",
      "i like you\n",
      "i like you\n",
      "i like you\n",
      "i like you\n",
      "i like you\n",
      "i like you\n",
      "i like you\n",
      "i like you\n",
      "i like you\n",
      "i like you\n",
      "i like you\n",
      "i like you\n",
      "i like you\n",
      "i like you\n",
      "i like you\n",
      "i like you\n",
      "i like you\n",
      "i like you\n",
      "i like you\n",
      "i like you\n",
      "i like you\n",
      "i like you\n",
      "i like you\n",
      "i like you\n",
      "i like you\n",
      "i like you\n",
      "i like you\n",
      "i like you\n",
      "i like you\n",
      "i like you\n",
      "i like you\n",
      "i like you\n",
      "i like you\n",
      "i like you\n",
      "i like you\n",
      "i like you\n",
      "i like you\n",
      "i like you\n",
      "i like you\n",
      "i like you\n",
      "i like you\n",
      "i like you\n",
      "i like you\n",
      "i like you\n",
      "i like you\n",
      "i like you\n",
      "i like you\n",
      "i like you\n",
      "i like you\n",
      "i like you\n",
      "i like you\n",
      "i like you\n",
      "i like you\n",
      "i like you\n",
      "i like you\n",
      "i like you\n",
      "i like you\n",
      "i like you\n",
      "i like you\n",
      "i like you\n",
      "i like you\n",
      "i like you\n",
      "i like you\n",
      "i like you\n",
      "i like you\n",
      "i like you\n",
      "i like you\n",
      "i like you\n",
      "i like you\n",
      "i like you\n",
      "i like you\n",
      "i like you\n",
      "i like you\n",
      "i like you\n",
      "i like you\n",
      "i like you\n",
      "i like you\n",
      "i like you\n",
      "i like you\n",
      "i like you\n",
      "i like you\n",
      "i like you\n",
      "i like you\n",
      "i like you\n",
      "i like you\n",
      "i like you\n",
      "i like you\n",
      "i like you\n",
      "i like you\n",
      "i like you\n",
      "i like you\n",
      "i like you\n",
      "i like you\n",
      "i like you\n"
     ]
    }
   ],
   "source": [
    "for i in range(100):\n",
    "    print(\"i like you\")"
   ]
  },
  {
   "cell_type": "code",
   "execution_count": null,
   "metadata": {},
   "outputs": [],
   "source": []
  }
 ],
 "metadata": {
  "kernelspec": {
   "display_name": "Python 3",
   "language": "python",
   "name": "python3"
  },
  "language_info": {
   "codemirror_mode": {
    "name": "ipython",
    "version": 3
   },
   "file_extension": ".py",
   "mimetype": "text/x-python",
   "name": "python",
   "nbconvert_exporter": "python",
   "pygments_lexer": "ipython3",
   "version": "3.7.6"
  }
 },
 "nbformat": 4,
 "nbformat_minor": 4
}

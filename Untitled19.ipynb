{
 "cells": [
  {
   "cell_type": "code",
   "execution_count": 12,
   "metadata": {},
   "outputs": [
    {
     "name": "stdout",
     "output_type": "stream",
     "text": [
      "24\n",
      "120\n"
     ]
    }
   ],
   "source": [
    "def factorial(n):\n",
    "    result = 1\n",
    "    for i in range(1,n):\n",
    "        result=n*result\n",
    "        n-=1\n",
    "    return result\n",
    "\n",
    "print(factorial(4)) # should return 24\n",
    "print(factorial(5)) # should return 120"
   ]
  },
  {
   "cell_type": "code",
   "execution_count": 11,
   "metadata": {},
   "outputs": [
    {
     "name": "stdout",
     "output_type": "stream",
     "text": [
      "24\n"
     ]
    }
   ],
   "source": [
    "def factorial(x):\n",
    "    total=1\n",
    "    while x>0:\n",
    "        total=x*total\n",
    "        x-=1\n",
    "    return total\n",
    "print(factorial(4))"
   ]
  },
  {
   "cell_type": "code",
   "execution_count": 13,
   "metadata": {},
   "outputs": [
    {
     "name": "stdout",
     "output_type": "stream",
     "text": [
      "0 -17.77777777777778\n",
      "10 -12.222222222222221\n",
      "20 -6.666666666666667\n",
      "30 -1.1111111111111112\n",
      "40 4.444444444444445\n",
      "50 10.0\n",
      "60 15.555555555555555\n",
      "70 21.11111111111111\n",
      "80 26.666666666666668\n",
      "90 32.22222222222222\n",
      "100 37.77777777777778\n"
     ]
    }
   ],
   "source": [
    "def to_celsius(x):\n",
    "    return(x-32)*5/9\n",
    "for x in range(0,101,10):\n",
    "    print(x,to_celsius(x))"
   ]
  },
  {
   "cell_type": "code",
   "execution_count": 18,
   "metadata": {},
   "outputs": [
    {
     "name": "stdout",
     "output_type": "stream",
     "text": [
      "[0|0] [0|1] [0|2] [0|3] [0|4] [0|5] [0|6] [0|7] [0|8] [0|9] \n",
      "[1|1] [1|2] [1|3] [1|4] [1|5] [1|6] [1|7] [1|8] [1|9] \n",
      "[2|2] [2|3] [2|4] [2|5] [2|6] [2|7] [2|8] [2|9] \n",
      "[3|3] [3|4] [3|5] [3|6] [3|7] [3|8] [3|9] \n",
      "[4|4] [4|5] [4|6] [4|7] [4|8] [4|9] \n",
      "[5|5] [5|6] [5|7] [5|8] [5|9] \n",
      "[6|6] [6|7] [6|8] [6|9] \n",
      "[7|7] [7|8] [7|9] \n",
      "[8|8] [8|9] \n",
      "[9|9] \n"
     ]
    }
   ],
   "source": [
    "for left in range(10):\n",
    "    for right in range(left,10):\n",
    "        print(\"[\" +str(left)+ \"|\" +str(right)+ \"]\", end=\" \")\n",
    "    print()    "
   ]
  },
  {
   "cell_type": "code",
   "execution_count": 19,
   "metadata": {},
   "outputs": [
    {
     "name": "stdout",
     "output_type": "stream",
     "text": [
      "DragonsVswolves\n",
      "DragonsVspanders\n",
      "DragonsVsUnicorns\n",
      "wolvesVsDragons\n",
      "wolvesVspanders\n",
      "wolvesVsUnicorns\n",
      "pandersVsDragons\n",
      "pandersVswolves\n",
      "pandersVsUnicorns\n",
      "UnicornsVsDragons\n",
      "UnicornsVswolves\n",
      "UnicornsVspanders\n"
     ]
    }
   ],
   "source": [
    "teams=['Dragons','wolves','panders','Unicorns']\n",
    "for home_team in teams:\n",
    "    for away_team in teams:\n",
    "        if home_team != away_team:\n",
    "            print(home_team + \"Vs\" +away_team)"
   ]
  },
  {
   "cell_type": "code",
   "execution_count": 24,
   "metadata": {},
   "outputs": [
    {
     "ename": "NameError",
     "evalue": "name 'is_valid' is not defined",
     "output_type": "error",
     "traceback": [
      "\u001b[1;31m---------------------------------------------------------------------------\u001b[0m",
      "\u001b[1;31mNameError\u001b[0m                                 Traceback (most recent call last)",
      "\u001b[1;32m<ipython-input-24-f85a9bfebf0c>\u001b[0m in \u001b[0;36m<module>\u001b[1;34m\u001b[0m\n\u001b[0;32m      6\u001b[0m       \u001b[0mprint\u001b[0m\u001b[1;33m(\u001b[0m\u001b[0muser\u001b[0m \u001b[1;33m+\u001b[0m \u001b[1;34m\" is invalid\"\u001b[0m\u001b[1;33m)\u001b[0m\u001b[1;33m\u001b[0m\u001b[1;33m\u001b[0m\u001b[0m\n\u001b[0;32m      7\u001b[0m \u001b[1;33m\u001b[0m\u001b[0m\n\u001b[1;32m----> 8\u001b[1;33m \u001b[0mvalidate_users\u001b[0m\u001b[1;33m(\u001b[0m\u001b[1;33m[\u001b[0m\u001b[1;34m\"purplecat\"\u001b[0m\u001b[1;33m]\u001b[0m\u001b[1;33m)\u001b[0m\u001b[1;33m\u001b[0m\u001b[1;33m\u001b[0m\u001b[0m\n\u001b[0m",
      "\u001b[1;32m<ipython-input-24-f85a9bfebf0c>\u001b[0m in \u001b[0;36mvalidate_users\u001b[1;34m(users)\u001b[0m\n\u001b[0;32m      1\u001b[0m \u001b[1;32mdef\u001b[0m \u001b[0mvalidate_users\u001b[0m\u001b[1;33m(\u001b[0m\u001b[0musers\u001b[0m\u001b[1;33m)\u001b[0m\u001b[1;33m:\u001b[0m\u001b[1;33m\u001b[0m\u001b[1;33m\u001b[0m\u001b[0m\n\u001b[0;32m      2\u001b[0m   \u001b[1;32mfor\u001b[0m \u001b[0muser\u001b[0m \u001b[1;32min\u001b[0m \u001b[0musers\u001b[0m\u001b[1;33m:\u001b[0m\u001b[1;33m\u001b[0m\u001b[1;33m\u001b[0m\u001b[0m\n\u001b[1;32m----> 3\u001b[1;33m     \u001b[1;32mif\u001b[0m \u001b[0mis_valid\u001b[0m\u001b[1;33m(\u001b[0m\u001b[0muser\u001b[0m\u001b[1;33m)\u001b[0m\u001b[1;33m:\u001b[0m\u001b[1;33m\u001b[0m\u001b[1;33m\u001b[0m\u001b[0m\n\u001b[0m\u001b[0;32m      4\u001b[0m       \u001b[0mprint\u001b[0m\u001b[1;33m(\u001b[0m\u001b[0muser\u001b[0m \u001b[1;33m+\u001b[0m \u001b[1;34m\" is valid\"\u001b[0m\u001b[1;33m)\u001b[0m\u001b[1;33m\u001b[0m\u001b[1;33m\u001b[0m\u001b[0m\n\u001b[0;32m      5\u001b[0m     \u001b[1;32melse\u001b[0m\u001b[1;33m:\u001b[0m\u001b[1;33m\u001b[0m\u001b[1;33m\u001b[0m\u001b[0m\n",
      "\u001b[1;31mNameError\u001b[0m: name 'is_valid' is not defined"
     ]
    }
   ],
   "source": [
    "def validate_users(users):\n",
    "  for user in users:\n",
    "    if is_valid(user):\n",
    "      print(user + \" is valid\")\n",
    "    else:\n",
    "      print(user + \" is invalid\")\n",
    "\n",
    "validate_users([\"purplecat\"])"
   ]
  },
  {
   "cell_type": "code",
   "execution_count": 25,
   "metadata": {},
   "outputs": [
    {
     "name": "stdout",
     "output_type": "stream",
     "text": [
      "1\n",
      "8\n",
      "27\n",
      "64\n",
      "125\n",
      "216\n",
      "343\n",
      "512\n",
      "729\n",
      "1000\n"
     ]
    }
   ],
   "source": [
    "for x in range(1,11):\n",
    "    print(x**3)"
   ]
  },
  {
   "cell_type": "code",
   "execution_count": 40,
   "metadata": {},
   "outputs": [],
   "source": [
    "for x in range(100):\n",
    "    if 100%7==0:\n",
    "        print(x, end=\" \")"
   ]
  },
  {
   "cell_type": "code",
   "execution_count": 33,
   "metadata": {},
   "outputs": [
    {
     "ename": "SyntaxError",
     "evalue": "invalid syntax (<ipython-input-33-9b74b178f9bb>, line 6)",
     "output_type": "error",
     "traceback": [
      "\u001b[1;36m  File \u001b[1;32m\"<ipython-input-33-9b74b178f9bb>\"\u001b[1;36m, line \u001b[1;32m6\u001b[0m\n\u001b[1;33m    else:\u001b[0m\n\u001b[1;37m       ^\u001b[0m\n\u001b[1;31mSyntaxError\u001b[0m\u001b[1;31m:\u001b[0m invalid syntax\n"
     ]
    }
   ],
   "source": [
    "def retry(operation, attempts):\n",
    "  for n in range(attempts):\n",
    "    if operation():\n",
    "      print(\"Attempt \" + str(n) + \" succeeded\")\n",
    "    attempts+=1\n",
    "    else:\n",
    "      print(\"Attempt \" + str(n) + \" failed\")\n",
    "\n",
    "retry(create_user, 3)\n",
    "retry(stop_service, 5)"
   ]
  },
  {
   "cell_type": "code",
   "execution_count": 46,
   "metadata": {},
   "outputs": [
    {
     "name": "stdout",
     "output_type": "stream",
     "text": [
      "1 -19\n",
      "2 -29\n",
      "3 -39\n",
      "4 -49\n",
      "5 -59\n",
      "6 -69\n",
      "7 -79\n",
      "8 -89\n",
      "9 -99\n",
      "10 -109\n"
     ]
    }
   ],
   "source": [
    "def factorial(n):\n",
    "    result = 1\n",
    "    for x in range(1,11):\n",
    "        result -=\n",
    "    return result\n",
    "\n",
    "for n in range(1,11):\n",
    "    print(n, factorial(n+1))"
   ]
  },
  {
   "cell_type": "code",
   "execution_count": 54,
   "metadata": {},
   "outputs": [
    {
     "name": "stdout",
     "output_type": "stream",
     "text": [
      "None\n"
     ]
    }
   ],
   "source": [
    "def countMultiples(n): \n",
    " \n",
    "    for i in range(n): \n",
    "        if (n% 7 == 0): \n",
    "            n+= 1; \n",
    "   \n",
    "            print(i, end=\" \") \n",
    "print(countMultiples(100))"
   ]
  },
  {
   "cell_type": "code",
   "execution_count": null,
   "metadata": {},
   "outputs": [],
   "source": []
  }
 ],
 "metadata": {
  "kernelspec": {
   "display_name": "Python 3",
   "language": "python",
   "name": "python3"
  },
  "language_info": {
   "codemirror_mode": {
    "name": "ipython",
    "version": 3
   },
   "file_extension": ".py",
   "mimetype": "text/x-python",
   "name": "python",
   "nbconvert_exporter": "python",
   "pygments_lexer": "ipython3",
   "version": "3.7.6"
  }
 },
 "nbformat": 4,
 "nbformat_minor": 4
}

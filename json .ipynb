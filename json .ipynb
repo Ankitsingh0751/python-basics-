{
 "cells": [
  {
   "cell_type": "code",
   "execution_count": 4,
   "metadata": {},
   "outputs": [
    {
     "ename": "SyntaxError",
     "evalue": "invalid syntax (<ipython-input-4-54060f9b0f5e>, line 6)",
     "output_type": "error",
     "traceback": [
      "\u001b[1;36m  File \u001b[1;32m\"<ipython-input-4-54060f9b0f5e>\"\u001b[1;36m, line \u001b[1;32m6\u001b[0m\n\u001b[1;33m    }\u001b[0m\n\u001b[1;37m    ^\u001b[0m\n\u001b[1;31mSyntaxError\u001b[0m\u001b[1;31m:\u001b[0m invalid syntax\n"
     ]
    }
   ],
   "source": [
    "book = {}\n",
    "book['tom'] = {\n",
    "    'name': 'tom',\n",
    "    'address': '1 red street,NY',\n",
    "    'phone: 89898989'\n",
    "}\n",
    "\n",
    "book['bob'] = {\n",
    "    'name': 'bob',\n",
    "    'address': '1 green street,NY',\n",
    "    'phone: 980980980'\n",
    "}\n",
    "\n",
    "import json\n",
    "s = json.dumps(book)\n",
    "with open(\"c://data//book.txt\",\"w\") as f:\n",
    "    f.write(s)\n",
    "\n"
   ]
  },
  {
   "cell_type": "code",
   "execution_count": null,
   "metadata": {},
   "outputs": [],
   "source": [
    "f = open(\"c://data//book.txt\",\"r\")\n",
    "s = f.read()\n",
    "s #string\n",
    "\n",
    "import json\n",
    "book = json.loads(s)\n",
    "book #dictonary\n",
    "type(book)\n",
    "\n",
    "book['bob'] #entire record of bob\n",
    "book['bob']['phone'] #phone record of bob\n",
    "\n",
    "\n",
    "for person in book:\n",
    "    print(book[person]) #entire record in dictonary\n"
   ]
  }
 ],
 "metadata": {
  "kernelspec": {
   "display_name": "Python 3",
   "language": "python",
   "name": "python3"
  },
  "language_info": {
   "codemirror_mode": {
    "name": "ipython",
    "version": 3
   },
   "file_extension": ".py",
   "mimetype": "text/x-python",
   "name": "python",
   "nbconvert_exporter": "python",
   "pygments_lexer": "ipython3",
   "version": "3.7.6"
  }
 },
 "nbformat": 4,
 "nbformat_minor": 4
}

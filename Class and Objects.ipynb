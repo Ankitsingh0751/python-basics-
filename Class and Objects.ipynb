{
 "cells": [
  {
   "cell_type": "code",
   "execution_count": 1,
   "metadata": {},
   "outputs": [],
   "source": [
    "#what is class?\n",
    "# class is an abstraction of some entity which contains some properties and methods.\n",
    "\n",
    "#what is object?\n",
    "#Object is instance of class."
   ]
  },
  {
   "cell_type": "code",
   "execution_count": 5,
   "metadata": {},
   "outputs": [
    {
     "name": "stdout",
     "output_type": "stream",
     "text": [
      "tom cruise shoots a film\n",
      "tom cruise says how are you?\n",
      "sarah powah plays tennis\n",
      "sarah powah says how are you?\n"
     ]
    }
   ],
   "source": [
    "class Human:\n",
    "    def __init__(self,n,o): #first must be self and then yoou can pass as much arguments you want\n",
    "        self.name = n\n",
    "        self.occupation = o\n",
    "        \n",
    "    def do_work(self):\n",
    "        if self.occupation == \"tennis player\":\n",
    "            print(self.name,\"plays tennis\")\n",
    "        elif self.occupation == \"actor\":\n",
    "            print(self.name,\"shoots a film\")\n",
    "            \n",
    "    def speaks(self):\n",
    "        print(self.name,\"says how are you?\")\n",
    "        \n",
    "\n",
    "tom = Human(\"tom cruise\",\"actor\")\n",
    "tom.do_work()\n",
    "tom.speaks()\n",
    "\n",
    "sarah = Human(\"sarah powah\",\"tennis player\")\n",
    "sarah.do_work()\n",
    "sarah.speaks()"
   ]
  },
  {
   "cell_type": "code",
   "execution_count": null,
   "metadata": {},
   "outputs": [],
   "source": []
  }
 ],
 "metadata": {
  "kernelspec": {
   "display_name": "Python 3",
   "language": "python",
   "name": "python3"
  },
  "language_info": {
   "codemirror_mode": {
    "name": "ipython",
    "version": 3
   },
   "file_extension": ".py",
   "mimetype": "text/x-python",
   "name": "python",
   "nbconvert_exporter": "python",
   "pygments_lexer": "ipython3",
   "version": "3.7.6"
  }
 },
 "nbformat": 4,
 "nbformat_minor": 4
}

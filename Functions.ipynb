{
 "cells": [
  {
   "cell_type": "code",
   "execution_count": 3,
   "metadata": {},
   "outputs": [
    {
     "name": "stdout",
     "output_type": "stream",
     "text": [
      "tom's total expense:  9000\n",
      "joey's total expense:  1400\n"
     ]
    }
   ],
   "source": [
    "tom_exp_list = [2100,3400,3500]\n",
    "joey_exp_list = [200,500,700]\n",
    "\n",
    "total = 0\n",
    "for item in tom_exp_list:\n",
    "    total = total + item\n",
    "print(\"tom's total expense: \",total)\n",
    "\n",
    "total = 0\n",
    "for item in joey_exp_list:\n",
    "    total = total + item\n",
    "print(\"joey's total expense: \",total)"
   ]
  },
  {
   "cell_type": "code",
   "execution_count": 4,
   "metadata": {},
   "outputs": [
    {
     "name": "stdout",
     "output_type": "stream",
     "text": [
      "tom's total expense:  9000\n",
      "joey's total expense:  1400\n"
     ]
    }
   ],
   "source": [
    "def calculate_total(exp):\n",
    "    total = 0\n",
    "    for item in exp:\n",
    "        total = total + item\n",
    "    return total\n",
    "\n",
    "tom_exp_list = [2100,3400,3500]\n",
    "joey_exp_list = [200,500,700]\n",
    "\n",
    "\n",
    "toms_total = calculate_total(tom_exp_list)\n",
    "joes_total = calculate_total(joey_exp_list)\n",
    "\n",
    "print(\"tom's total expense: \",toms_total)\n",
    "print(\"joey's total expense: \",joes_total)"
   ]
  },
  {
   "cell_type": "code",
   "execution_count": 5,
   "metadata": {},
   "outputs": [
    {
     "name": "stdout",
     "output_type": "stream",
     "text": [
      "total:  11\n"
     ]
    }
   ],
   "source": [
    "def sum(a,b):\n",
    "    total = a+b\n",
    "    return total\n",
    "\n",
    "n=sum(5,6)\n",
    "print(\"total: \",n)"
   ]
  },
  {
   "cell_type": "code",
   "execution_count": 8,
   "metadata": {},
   "outputs": [
    {
     "name": "stdout",
     "output_type": "stream",
     "text": [
      "a: 6\n",
      "b: 5\n",
      "total inside function: 11\n",
      "total outside function: 11\n"
     ]
    }
   ],
   "source": [
    "def sum(a,b):\n",
    "    print(\"a:\",a)\n",
    "    print(\"b:\",b)\n",
    "    total = a+b\n",
    "    \n",
    "    print(\"total inside function:\",total)\n",
    "    return  total\n",
    "\n",
    "n = sum(b=5,a=6)\n",
    "print(\"total outside function:\",n)\n",
    "\n",
    "    "
   ]
  },
  {
   "cell_type": "code",
   "execution_count": 14,
   "metadata": {},
   "outputs": [
    {
     "name": "stdout",
     "output_type": "stream",
     "text": [
      "a: 6\n",
      "b: 5\n",
      "total inside function: 11\n",
      "total outside function: 0\n"
     ]
    }
   ],
   "source": [
    "#golbal vs local variable\n",
    "total1 = 0\n",
    "def sum(a,b):\n",
    "    print(\"a:\",a)\n",
    "    print(\"b:\",b)\n",
    "    total1 = a+b\n",
    "    \n",
    "    print(\"total inside function:\",total1)\n",
    "    return  total1\n",
    "\n",
    "\n",
    "\n",
    "n = sum(b=5,a=6)\n",
    "print(\"total outside function:\",total1)\n"
   ]
  },
  {
   "cell_type": "code",
   "execution_count": 17,
   "metadata": {},
   "outputs": [
    {
     "name": "stdout",
     "output_type": "stream",
     "text": [
      "a: 5\n",
      "b: 0\n",
      "total inside function: 5\n",
      "total outside function: 0\n"
     ]
    }
   ],
   "source": [
    "#default argument\n",
    "total1 = 0\n",
    "def sum(a,b=0):\n",
    "    print(\"a:\",a)\n",
    "    print(\"b:\",b)\n",
    "    total1 = a+b\n",
    "    \n",
    "    print(\"total inside function:\",total1)\n",
    "    return  total1\n",
    "\n",
    "\n",
    "\n",
    "n = sum(5)\n",
    "print(\"total outside function:\",total1)\n"
   ]
  },
  {
   "cell_type": "code",
   "execution_count": null,
   "metadata": {},
   "outputs": [],
   "source": [
    "#documentation strings\n",
    "#this funcation takes two arguments and find out its sum inside of the function.\n",
    "total1 = 0\n",
    "def sum(a,b=0):\n",
    "    print(\"a:\",a)\n",
    "    print(\"b:\",b)\n",
    "    total1 = a+b\n",
    "   \n",
    "    print(\"total inside function:\",total1)\n",
    "    return  total1\n",
    "\n",
    "\n",
    "\n",
    "n = sum(5)\n",
    "print(\"total outside function:\",total1)"
   ]
  }
 ],
 "metadata": {
  "kernelspec": {
   "display_name": "Python 3",
   "language": "python",
   "name": "python3"
  },
  "language_info": {
   "codemirror_mode": {
    "name": "ipython",
    "version": 3
   },
   "file_extension": ".py",
   "mimetype": "text/x-python",
   "name": "python",
   "nbconvert_exporter": "python",
   "pygments_lexer": "ipython3",
   "version": "3.7.6"
  }
 },
 "nbformat": 4,
 "nbformat_minor": 4
}

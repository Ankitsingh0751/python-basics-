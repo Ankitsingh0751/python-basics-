{
 "cells": [
  {
   "cell_type": "code",
   "execution_count": 22,
   "metadata": {},
   "outputs": [],
   "source": [
    "import pandas as pd\n",
    "import numpy as np\n",
    "from matplotlib import pyplot as plt\n",
    "%matplotlib inline\n",
    "import matplotlib\n",
    "matplotlib.rcParams[\"figure.figsize\"] = (20,10)\n"
   ]
  },
  {
   "cell_type": "code",
   "execution_count": 29,
   "metadata": {},
   "outputs": [
    {
     "data": {
      "text/html": [
       "<div>\n",
       "<style scoped>\n",
       "    .dataframe tbody tr th:only-of-type {\n",
       "        vertical-align: middle;\n",
       "    }\n",
       "\n",
       "    .dataframe tbody tr th {\n",
       "        vertical-align: top;\n",
       "    }\n",
       "\n",
       "    .dataframe thead th {\n",
       "        text-align: right;\n",
       "    }\n",
       "</style>\n",
       "<table border=\"1\" class=\"dataframe\">\n",
       "  <thead>\n",
       "    <tr style=\"text-align: right;\">\n",
       "      <th></th>\n",
       "      <th>day</th>\n",
       "      <th>customer_id</th>\n",
       "      <th>product_type</th>\n",
       "      <th>product_title</th>\n",
       "      <th>shipping_city</th>\n",
       "      <th>shipping_region</th>\n",
       "      <th>orders</th>\n",
       "      <th>gross_sales</th>\n",
       "      <th>discounts</th>\n",
       "      <th>returns</th>\n",
       "      <th>net_sales</th>\n",
       "      <th>shipping</th>\n",
       "      <th>duties</th>\n",
       "      <th>additional_fees</th>\n",
       "      <th>taxes</th>\n",
       "      <th>total_sales</th>\n",
       "      <th>ordered_item_quantity</th>\n",
       "    </tr>\n",
       "  </thead>\n",
       "  <tbody>\n",
       "    <tr>\n",
       "      <th>0</th>\n",
       "      <td>01/01/22</td>\n",
       "      <td>5.440000e+12</td>\n",
       "      <td>Maternity and Nursing Top</td>\n",
       "      <td>Rose Melange Maternity and Feeding Sweatshirt ...</td>\n",
       "      <td>Panipat</td>\n",
       "      <td>Haryana</td>\n",
       "      <td>1</td>\n",
       "      <td>1439.83</td>\n",
       "      <td>-316.76</td>\n",
       "      <td>0.0</td>\n",
       "      <td>1123.07</td>\n",
       "      <td>0</td>\n",
       "      <td>0</td>\n",
       "      <td>0</td>\n",
       "      <td>202.15</td>\n",
       "      <td>1325.22</td>\n",
       "      <td>1</td>\n",
       "    </tr>\n",
       "    <tr>\n",
       "      <th>1</th>\n",
       "      <td>01/01/22</td>\n",
       "      <td>5.730000e+12</td>\n",
       "      <td>Baby Oil</td>\n",
       "      <td>100% Natural Cold Pressed Virgin Coconut Oil f...</td>\n",
       "      <td>Gurgaon</td>\n",
       "      <td>Haryana</td>\n",
       "      <td>1</td>\n",
       "      <td>422.03</td>\n",
       "      <td>-42.20</td>\n",
       "      <td>0.0</td>\n",
       "      <td>379.83</td>\n",
       "      <td>0</td>\n",
       "      <td>0</td>\n",
       "      <td>0</td>\n",
       "      <td>68.37</td>\n",
       "      <td>448.20</td>\n",
       "      <td>1</td>\n",
       "    </tr>\n",
       "    <tr>\n",
       "      <th>2</th>\n",
       "      <td>01/01/22</td>\n",
       "      <td>5.730000e+12</td>\n",
       "      <td>NaN</td>\n",
       "      <td>NaN</td>\n",
       "      <td>Gurgaon</td>\n",
       "      <td>Haryana</td>\n",
       "      <td>0</td>\n",
       "      <td>0.00</td>\n",
       "      <td>0.00</td>\n",
       "      <td>0.0</td>\n",
       "      <td>0.00</td>\n",
       "      <td>0</td>\n",
       "      <td>0</td>\n",
       "      <td>0</td>\n",
       "      <td>0.00</td>\n",
       "      <td>0.00</td>\n",
       "      <td>0</td>\n",
       "    </tr>\n",
       "    <tr>\n",
       "      <th>3</th>\n",
       "      <td>01/01/22</td>\n",
       "      <td>5.730000e+12</td>\n",
       "      <td>Baby Anti-Slip Socks</td>\n",
       "      <td>Socks with a Soul Combo - Baby Polar Bear &amp; Sw...</td>\n",
       "      <td>Gurgaon</td>\n",
       "      <td>Haryana</td>\n",
       "      <td>1</td>\n",
       "      <td>677.12</td>\n",
       "      <td>-67.71</td>\n",
       "      <td>0.0</td>\n",
       "      <td>609.41</td>\n",
       "      <td>0</td>\n",
       "      <td>0</td>\n",
       "      <td>0</td>\n",
       "      <td>109.69</td>\n",
       "      <td>719.10</td>\n",
       "      <td>1</td>\n",
       "    </tr>\n",
       "    <tr>\n",
       "      <th>4</th>\n",
       "      <td>01/01/22</td>\n",
       "      <td>5.770000e+12</td>\n",
       "      <td>NaN</td>\n",
       "      <td>NaN</td>\n",
       "      <td>Ghaziabad</td>\n",
       "      <td>Uttar Pradesh</td>\n",
       "      <td>0</td>\n",
       "      <td>0.00</td>\n",
       "      <td>0.00</td>\n",
       "      <td>0.0</td>\n",
       "      <td>0.00</td>\n",
       "      <td>0</td>\n",
       "      <td>0</td>\n",
       "      <td>0</td>\n",
       "      <td>0.00</td>\n",
       "      <td>0.00</td>\n",
       "      <td>0</td>\n",
       "    </tr>\n",
       "  </tbody>\n",
       "</table>\n",
       "</div>"
      ],
      "text/plain": [
       "        day   customer_id               product_type  \\\n",
       "0  01/01/22  5.440000e+12  Maternity and Nursing Top   \n",
       "1  01/01/22  5.730000e+12                   Baby Oil   \n",
       "2  01/01/22  5.730000e+12                        NaN   \n",
       "3  01/01/22  5.730000e+12       Baby Anti-Slip Socks   \n",
       "4  01/01/22  5.770000e+12                        NaN   \n",
       "\n",
       "                                       product_title shipping_city  \\\n",
       "0  Rose Melange Maternity and Feeding Sweatshirt ...       Panipat   \n",
       "1  100% Natural Cold Pressed Virgin Coconut Oil f...       Gurgaon   \n",
       "2                                                NaN       Gurgaon   \n",
       "3  Socks with a Soul Combo - Baby Polar Bear & Sw...       Gurgaon   \n",
       "4                                                NaN     Ghaziabad   \n",
       "\n",
       "  shipping_region  orders  gross_sales  discounts  returns  net_sales  \\\n",
       "0         Haryana       1      1439.83    -316.76      0.0    1123.07   \n",
       "1         Haryana       1       422.03     -42.20      0.0     379.83   \n",
       "2         Haryana       0         0.00       0.00      0.0       0.00   \n",
       "3         Haryana       1       677.12     -67.71      0.0     609.41   \n",
       "4   Uttar Pradesh       0         0.00       0.00      0.0       0.00   \n",
       "\n",
       "   shipping  duties  additional_fees   taxes  total_sales  \\\n",
       "0         0       0                0  202.15      1325.22   \n",
       "1         0       0                0   68.37       448.20   \n",
       "2         0       0                0    0.00         0.00   \n",
       "3         0       0                0  109.69       719.10   \n",
       "4         0       0                0    0.00         0.00   \n",
       "\n",
       "   ordered_item_quantity  \n",
       "0                      1  \n",
       "1                      1  \n",
       "2                      0  \n",
       "3                      1  \n",
       "4                      0  "
      ]
     },
     "execution_count": 29,
     "metadata": {},
     "output_type": "execute_result"
    }
   ],
   "source": [
    "df = pd.read_csv('E:data_set1.csv',encoding='latin-1')\n",
    "df.head()\n",
    "\n"
   ]
  },
  {
   "cell_type": "markdown",
   "metadata": {},
   "source": []
  },
  {
   "cell_type": "code",
   "execution_count": 31,
   "metadata": {},
   "outputs": [
    {
     "data": {
      "text/plain": [
       "(83356, 17)"
      ]
     },
     "execution_count": 31,
     "metadata": {},
     "output_type": "execute_result"
    }
   ],
   "source": [
    "df.shape"
   ]
  },
  {
   "cell_type": "code",
   "execution_count": 32,
   "metadata": {},
   "outputs": [
    {
     "data": {
      "text/plain": [
       "product_type\n",
       "Activity Seat            16\n",
       "Adult Mask                5\n",
       "After Sun Cream          12\n",
       "Baby Activity Toys       42\n",
       "Baby Anti-Slip Socks    379\n",
       "                       ... \n",
       "Wipe Case                 6\n",
       "Women Pajama Set        355\n",
       "Wooden Horse              8\n",
       "Wooden Horsey             2\n",
       "Wooden Toys              88\n",
       "Name: product_type, Length: 304, dtype: int64"
      ]
     },
     "execution_count": 32,
     "metadata": {},
     "output_type": "execute_result"
    }
   ],
   "source": [
    "df.groupby('product_type')['product_type'].agg('count')"
   ]
  },
  {
   "cell_type": "code",
   "execution_count": 34,
   "metadata": {},
   "outputs": [
    {
     "data": {
      "text/html": [
       "<div>\n",
       "<style scoped>\n",
       "    .dataframe tbody tr th:only-of-type {\n",
       "        vertical-align: middle;\n",
       "    }\n",
       "\n",
       "    .dataframe tbody tr th {\n",
       "        vertical-align: top;\n",
       "    }\n",
       "\n",
       "    .dataframe thead th {\n",
       "        text-align: right;\n",
       "    }\n",
       "</style>\n",
       "<table border=\"1\" class=\"dataframe\">\n",
       "  <thead>\n",
       "    <tr style=\"text-align: right;\">\n",
       "      <th></th>\n",
       "      <th>customer_id</th>\n",
       "      <th>product_type</th>\n",
       "      <th>shipping_region</th>\n",
       "      <th>orders</th>\n",
       "      <th>gross_sales</th>\n",
       "      <th>net_sales</th>\n",
       "      <th>total_sales</th>\n",
       "      <th>ordered_item_quantity</th>\n",
       "    </tr>\n",
       "  </thead>\n",
       "  <tbody>\n",
       "    <tr>\n",
       "      <th>0</th>\n",
       "      <td>5.440000e+12</td>\n",
       "      <td>Maternity and Nursing Top</td>\n",
       "      <td>Haryana</td>\n",
       "      <td>1</td>\n",
       "      <td>1439.83</td>\n",
       "      <td>1123.07</td>\n",
       "      <td>1325.22</td>\n",
       "      <td>1</td>\n",
       "    </tr>\n",
       "    <tr>\n",
       "      <th>1</th>\n",
       "      <td>5.730000e+12</td>\n",
       "      <td>Baby Oil</td>\n",
       "      <td>Haryana</td>\n",
       "      <td>1</td>\n",
       "      <td>422.03</td>\n",
       "      <td>379.83</td>\n",
       "      <td>448.20</td>\n",
       "      <td>1</td>\n",
       "    </tr>\n",
       "    <tr>\n",
       "      <th>2</th>\n",
       "      <td>5.730000e+12</td>\n",
       "      <td>NaN</td>\n",
       "      <td>Haryana</td>\n",
       "      <td>0</td>\n",
       "      <td>0.00</td>\n",
       "      <td>0.00</td>\n",
       "      <td>0.00</td>\n",
       "      <td>0</td>\n",
       "    </tr>\n",
       "    <tr>\n",
       "      <th>3</th>\n",
       "      <td>5.730000e+12</td>\n",
       "      <td>Baby Anti-Slip Socks</td>\n",
       "      <td>Haryana</td>\n",
       "      <td>1</td>\n",
       "      <td>677.12</td>\n",
       "      <td>609.41</td>\n",
       "      <td>719.10</td>\n",
       "      <td>1</td>\n",
       "    </tr>\n",
       "    <tr>\n",
       "      <th>4</th>\n",
       "      <td>5.770000e+12</td>\n",
       "      <td>NaN</td>\n",
       "      <td>Uttar Pradesh</td>\n",
       "      <td>0</td>\n",
       "      <td>0.00</td>\n",
       "      <td>0.00</td>\n",
       "      <td>0.00</td>\n",
       "      <td>0</td>\n",
       "    </tr>\n",
       "  </tbody>\n",
       "</table>\n",
       "</div>"
      ],
      "text/plain": [
       "    customer_id               product_type shipping_region  orders  \\\n",
       "0  5.440000e+12  Maternity and Nursing Top         Haryana       1   \n",
       "1  5.730000e+12                   Baby Oil         Haryana       1   \n",
       "2  5.730000e+12                        NaN         Haryana       0   \n",
       "3  5.730000e+12       Baby Anti-Slip Socks         Haryana       1   \n",
       "4  5.770000e+12                        NaN   Uttar Pradesh       0   \n",
       "\n",
       "   gross_sales  net_sales  total_sales  ordered_item_quantity  \n",
       "0      1439.83    1123.07      1325.22                      1  \n",
       "1       422.03     379.83       448.20                      1  \n",
       "2         0.00       0.00         0.00                      0  \n",
       "3       677.12     609.41       719.10                      1  \n",
       "4         0.00       0.00         0.00                      0  "
      ]
     },
     "execution_count": 34,
     "metadata": {},
     "output_type": "execute_result"
    }
   ],
   "source": [
    "df2= df.drop(['day','product_title','shipping_city','discounts','returns','shipping','duties','additional_fees','taxes'],axis='columns')\n",
    "df2.head()"
   ]
  },
  {
   "cell_type": "code",
   "execution_count": 35,
   "metadata": {},
   "outputs": [
    {
     "data": {
      "text/plain": [
       "customer_id                  0\n",
       "product_type             33036\n",
       "shipping_region            408\n",
       "orders                       0\n",
       "gross_sales                  0\n",
       "net_sales                    0\n",
       "total_sales                  0\n",
       "ordered_item_quantity        0\n",
       "dtype: int64"
      ]
     },
     "execution_count": 35,
     "metadata": {},
     "output_type": "execute_result"
    }
   ],
   "source": [
    "df2.isnull().sum()"
   ]
  },
  {
   "cell_type": "code",
   "execution_count": 36,
   "metadata": {},
   "outputs": [
    {
     "data": {
      "text/plain": [
       "customer_id              0\n",
       "product_type             0\n",
       "shipping_region          0\n",
       "orders                   0\n",
       "gross_sales              0\n",
       "net_sales                0\n",
       "total_sales              0\n",
       "ordered_item_quantity    0\n",
       "dtype: int64"
      ]
     },
     "execution_count": 36,
     "metadata": {},
     "output_type": "execute_result"
    }
   ],
   "source": [
    "df3 = df2.dropna()\n",
    "df3.isnull().sum()"
   ]
  },
  {
   "cell_type": "code",
   "execution_count": 37,
   "metadata": {},
   "outputs": [
    {
     "data": {
      "text/plain": [
       "(49984, 8)"
      ]
     },
     "execution_count": 37,
     "metadata": {},
     "output_type": "execute_result"
    }
   ],
   "source": [
    "df3.shape"
   ]
  },
  {
   "cell_type": "code",
   "execution_count": 39,
   "metadata": {
    "scrolled": true
   },
   "outputs": [
    {
     "data": {
      "text/plain": [
       "array([5.44e+12, 5.73e+12, 5.77e+12, 5.70e+12, 5.47e+12, 5.46e+12,\n",
       "       4.56e+12, 5.33e+12, 5.37e+12, 5.43e+12, 5.12e+12, 5.63e+12,\n",
       "       1.35e+12, 5.54e+12, 5.20e+12, 4.64e+12, 3.33e+12, 5.57e+12,\n",
       "       2.14e+12, 5.69e+12, 4.57e+12, 5.38e+12, 5.78e+12, 2.10e+12,\n",
       "       5.71e+12, 4.67e+12, 4.50e+12, 5.53e+12, 5.10e+12, 3.38e+12,\n",
       "       4.35e+12, 5.67e+12, 5.72e+12, 4.40e+12, 5.76e+12, 2.75e+12,\n",
       "       2.83e+12, 4.61e+12, 5.51e+12, 5.55e+12, 5.34e+12, 4.62e+12,\n",
       "       5.75e+12, 5.22e+12, 5.66e+12, 5.36e+12, 2.93e+12, 5.13e+12,\n",
       "       3.29e+12, 5.39e+12, 5.40e+12, 2.18e+12, 5.32e+12, 3.21e+12,\n",
       "       5.11e+12, 3.22e+12, 5.65e+12, 3.41e+12, 4.63e+12, 5.68e+12,\n",
       "       5.31e+12, 2.78e+12, 5.52e+12, 5.14e+12, 3.36e+12, 2.74e+12,\n",
       "       2.70e+12, 5.16e+12, 2.07e+12, 2.89e+12, 3.05e+12, 2.65e+12,\n",
       "       4.49e+12, 5.25e+12, 4.66e+12, 5.56e+12, 5.64e+12, 5.59e+12,\n",
       "       5.49e+12, 5.74e+12, 5.07e+12, 2.97e+12, 3.03e+12, 5.28e+12,\n",
       "       5.26e+12, 5.35e+12, 5.29e+12, 3.30e+12, 3.19e+12, 3.17e+12,\n",
       "       4.53e+12, 2.99e+12, 5.08e+12, 5.79e+12, 5.05e+12, 1.58e+12,\n",
       "       3.13e+12, 5.42e+12, 2.72e+12, 5.45e+12, 5.41e+12, 3.45e+12,\n",
       "       2.79e+12, 3.20e+12, 3.10e+12, 5.30e+12, 1.49e+12, 5.60e+12,\n",
       "       3.02e+12, 3.37e+12, 4.65e+12, 5.09e+12, 3.08e+12, 3.35e+12,\n",
       "       2.90e+12, 1.55e+12, 7.73e+11, 3.23e+12, 3.32e+12, 5.04e+12,\n",
       "       5.50e+12, 5.03e+12, 4.44e+12, 5.21e+12, 5.06e+12, 2.98e+12,\n",
       "       2.30e+12, 5.80e+12, 3.34e+12, 3.28e+12, 2.71e+12, 3.43e+12,\n",
       "       2.92e+12, 4.60e+12, 3.06e+12, 2.69e+12, 5.17e+12, 3.46e+12,\n",
       "       4.51e+12, 5.18e+12, 3.24e+12, 5.48e+12, 5.81e+12, 2.80e+12,\n",
       "       7.18e+11, 2.84e+12, 5.62e+12, 4.43e+12, 1.09e+12, 1.19e+12,\n",
       "       5.23e+12, 2.68e+12, 2.91e+12, 2.11e+12, 2.21e+12, 2.15e+12,\n",
       "       2.81e+12, 3.31e+12, 5.61e+12, 5.24e+12, 3.01e+12, 3.25e+12,\n",
       "       2.13e+12, 2.82e+12, 5.82e+12, 4.54e+12, 3.26e+12, 1.01e+12,\n",
       "       4.39e+12, 2.76e+12, 1.14e+12, 1.28e+12, 3.44e+12, 2.45e+12,\n",
       "       5.83e+12, 5.27e+12, 1.36e+12, 4.58e+12, 1.46e+12, 1.22e+12,\n",
       "       2.77e+12, 1.41e+12, 4.52e+12, 5.02e+12, 5.58e+12, 4.46e+12,\n",
       "       2.12e+12, 5.84e+12, 2.86e+12, 3.09e+12, 2.58e+12, 3.15e+12,\n",
       "       0.00e+00, 2.94e+12, 3.14e+12, 3.27e+12, 5.85e+12, 2.85e+12,\n",
       "       4.45e+12, 4.48e+12, 1.37e+12, 2.44e+12, 3.47e+12, 2.87e+12,\n",
       "       2.17e+12, 3.16e+12, 4.47e+12, 2.02e+12, 5.86e+12, 3.18e+12,\n",
       "       4.55e+12, 5.87e+12, 5.15e+12, 1.05e+12, 3.07e+12, 1.56e+12,\n",
       "       1.31e+12, 3.42e+12, 3.04e+12, 5.88e+12, 2.63e+12, 1.21e+12,\n",
       "       1.43e+12, 4.59e+12, 5.89e+12, 2.20e+12, 5.90e+12, 1.52e+12,\n",
       "       2.73e+12, 1.59e+12, 1.51e+12, 5.91e+12, 2.59e+12, 2.19e+12,\n",
       "       2.60e+12, 3.11e+12, 2.31e+12, 1.29e+12, 5.92e+12, 3.40e+12,\n",
       "       2.57e+12, 1.02e+12, 5.93e+12, 3.00e+12, 5.94e+12, 2.09e+12,\n",
       "       2.32e+12, 3.39e+12, 2.61e+12, 5.95e+12, 4.41e+12, 1.18e+12,\n",
       "       1.42e+12, 1.10e+12, 1.47e+12, 1.34e+12, 1.45e+12, 5.96e+12,\n",
       "       5.97e+12, 5.98e+12, 5.99e+12, 4.42e+12, 2.56e+12, 3.12e+12,\n",
       "       6.00e+12, 1.12e+12, 6.01e+12, 5.19e+12, 6.02e+12, 2.52e+12,\n",
       "       6.03e+12, 2.96e+12, 2.05e+12, 1.00e+12, 2.55e+12, 6.04e+12,\n",
       "       2.53e+12, 2.54e+12, 4.36e+12, 1.26e+12, 6.05e+12, 6.06e+12,\n",
       "       2.43e+12, 1.17e+12, 6.07e+12, 2.29e+12, 9.36e+11, 6.08e+12,\n",
       "       1.44e+12, 1.20e+12, 9.52e+11, 1.25e+12, 6.09e+12, 6.10e+12,\n",
       "       2.06e+12, 6.11e+12, 6.12e+12, 7.05e+11, 6.13e+12, 1.07e+12,\n",
       "       1.32e+12, 6.14e+12, 1.03e+12, 1.27e+12, 2.16e+12, 1.39e+12,\n",
       "       6.15e+12, 2.64e+12, 6.16e+12, 1.50e+12, 6.17e+12, 7.17e+11,\n",
       "       6.18e+12, 1.11e+12, 6.19e+12, 6.20e+12, 6.21e+12, 1.24e+12,\n",
       "       6.22e+12, 6.23e+12, 6.24e+12, 2.88e+12, 6.25e+12, 6.26e+12,\n",
       "       1.38e+12, 6.27e+12, 6.28e+12, 6.29e+12, 6.30e+12, 6.31e+12])"
      ]
     },
     "execution_count": 39,
     "metadata": {},
     "output_type": "execute_result"
    }
   ],
   "source": [
    "df3['customer_id'].unique()\n",
    "\n",
    "#to check how many unique customer id's are present"
   ]
  },
  {
   "cell_type": "code",
   "execution_count": 40,
   "metadata": {},
   "outputs": [
    {
     "data": {
      "text/plain": [
       "array([1, 2, 0, 3, 5, 4], dtype=int64)"
      ]
     },
     "execution_count": 40,
     "metadata": {},
     "output_type": "execute_result"
    }
   ],
   "source": [
    "df3['orders'].unique()"
   ]
  },
  {
   "cell_type": "code",
   "execution_count": 41,
   "metadata": {},
   "outputs": [
    {
     "data": {
      "text/plain": [
       "array([1325.22,  448.2 ,  719.1 , ..., 1415.2 ,  996.  , 3596.  ])"
      ]
     },
     "execution_count": 41,
     "metadata": {},
     "output_type": "execute_result"
    }
   ],
   "source": [
    "df3['total_sales'].unique()"
   ]
  },
  {
   "cell_type": "code",
   "execution_count": 42,
   "metadata": {},
   "outputs": [],
   "source": [
    "#there are values in ranges in the gross_sales,net_sales,total_sales columns, to handle those we will introduce a function to see how many values are there like this.\n",
    "\n",
    "def is_float(x):\n",
    "    try:\n",
    "        float(x)\n",
    "    except:\n",
    "        return False\n",
    "    return True"
   ]
  },
  {
   "cell_type": "code",
   "execution_count": 44,
   "metadata": {},
   "outputs": [
    {
     "data": {
      "text/html": [
       "<div>\n",
       "<style scoped>\n",
       "    .dataframe tbody tr th:only-of-type {\n",
       "        vertical-align: middle;\n",
       "    }\n",
       "\n",
       "    .dataframe tbody tr th {\n",
       "        vertical-align: top;\n",
       "    }\n",
       "\n",
       "    .dataframe thead th {\n",
       "        text-align: right;\n",
       "    }\n",
       "</style>\n",
       "<table border=\"1\" class=\"dataframe\">\n",
       "  <thead>\n",
       "    <tr style=\"text-align: right;\">\n",
       "      <th></th>\n",
       "      <th>customer_id</th>\n",
       "      <th>product_type</th>\n",
       "      <th>shipping_region</th>\n",
       "      <th>orders</th>\n",
       "      <th>gross_sales</th>\n",
       "      <th>net_sales</th>\n",
       "      <th>total_sales</th>\n",
       "      <th>ordered_item_quantity</th>\n",
       "    </tr>\n",
       "  </thead>\n",
       "  <tbody>\n",
       "  </tbody>\n",
       "</table>\n",
       "</div>"
      ],
      "text/plain": [
       "Empty DataFrame\n",
       "Columns: [customer_id, product_type, shipping_region, orders, gross_sales, net_sales, total_sales, ordered_item_quantity]\n",
       "Index: []"
      ]
     },
     "execution_count": 44,
     "metadata": {},
     "output_type": "execute_result"
    }
   ],
   "source": [
    "df3[~df3['total_sales'].apply(is_float)]\n",
    "#this will return true but for seeing the value we will use ~ ( this is negate operation.)"
   ]
  },
  {
   "cell_type": "code",
   "execution_count": 45,
   "metadata": {},
   "outputs": [
    {
     "data": {
      "text/html": [
       "<div>\n",
       "<style scoped>\n",
       "    .dataframe tbody tr th:only-of-type {\n",
       "        vertical-align: middle;\n",
       "    }\n",
       "\n",
       "    .dataframe tbody tr th {\n",
       "        vertical-align: top;\n",
       "    }\n",
       "\n",
       "    .dataframe thead th {\n",
       "        text-align: right;\n",
       "    }\n",
       "</style>\n",
       "<table border=\"1\" class=\"dataframe\">\n",
       "  <thead>\n",
       "    <tr style=\"text-align: right;\">\n",
       "      <th></th>\n",
       "      <th>customer_id</th>\n",
       "      <th>product_type</th>\n",
       "      <th>shipping_region</th>\n",
       "      <th>orders</th>\n",
       "      <th>gross_sales</th>\n",
       "      <th>net_sales</th>\n",
       "      <th>total_sales</th>\n",
       "      <th>ordered_item_quantity</th>\n",
       "    </tr>\n",
       "  </thead>\n",
       "  <tbody>\n",
       "  </tbody>\n",
       "</table>\n",
       "</div>"
      ],
      "text/plain": [
       "Empty DataFrame\n",
       "Columns: [customer_id, product_type, shipping_region, orders, gross_sales, net_sales, total_sales, ordered_item_quantity]\n",
       "Index: []"
      ]
     },
     "execution_count": 45,
     "metadata": {},
     "output_type": "execute_result"
    }
   ],
   "source": [
    "df3[~df3['total_sales'].apply(is_float)].head()"
   ]
  },
  {
   "cell_type": "code",
   "execution_count": 46,
   "metadata": {},
   "outputs": [
    {
     "data": {
      "text/html": [
       "<div>\n",
       "<style scoped>\n",
       "    .dataframe tbody tr th:only-of-type {\n",
       "        vertical-align: middle;\n",
       "    }\n",
       "\n",
       "    .dataframe tbody tr th {\n",
       "        vertical-align: top;\n",
       "    }\n",
       "\n",
       "    .dataframe thead th {\n",
       "        text-align: right;\n",
       "    }\n",
       "</style>\n",
       "<table border=\"1\" class=\"dataframe\">\n",
       "  <thead>\n",
       "    <tr style=\"text-align: right;\">\n",
       "      <th></th>\n",
       "      <th>customer_id</th>\n",
       "      <th>product_type</th>\n",
       "      <th>shipping_region</th>\n",
       "      <th>orders</th>\n",
       "      <th>gross_sales</th>\n",
       "      <th>net_sales</th>\n",
       "      <th>total_sales</th>\n",
       "      <th>ordered_item_quantity</th>\n",
       "    </tr>\n",
       "  </thead>\n",
       "  <tbody>\n",
       "    <tr>\n",
       "      <th>0</th>\n",
       "      <td>5.440000e+12</td>\n",
       "      <td>Maternity and Nursing Top</td>\n",
       "      <td>Haryana</td>\n",
       "      <td>1</td>\n",
       "      <td>1439.83</td>\n",
       "      <td>1123.07</td>\n",
       "      <td>1325.22</td>\n",
       "      <td>1</td>\n",
       "    </tr>\n",
       "    <tr>\n",
       "      <th>1</th>\n",
       "      <td>5.730000e+12</td>\n",
       "      <td>Baby Oil</td>\n",
       "      <td>Haryana</td>\n",
       "      <td>1</td>\n",
       "      <td>422.03</td>\n",
       "      <td>379.83</td>\n",
       "      <td>448.20</td>\n",
       "      <td>1</td>\n",
       "    </tr>\n",
       "    <tr>\n",
       "      <th>3</th>\n",
       "      <td>5.730000e+12</td>\n",
       "      <td>Baby Anti-Slip Socks</td>\n",
       "      <td>Haryana</td>\n",
       "      <td>1</td>\n",
       "      <td>677.12</td>\n",
       "      <td>609.41</td>\n",
       "      <td>719.10</td>\n",
       "      <td>1</td>\n",
       "    </tr>\n",
       "    <tr>\n",
       "      <th>5</th>\n",
       "      <td>5.770000e+12</td>\n",
       "      <td>Maternity and Nursing Top</td>\n",
       "      <td>Uttar Pradesh</td>\n",
       "      <td>1</td>\n",
       "      <td>1524.58</td>\n",
       "      <td>1524.58</td>\n",
       "      <td>1799.00</td>\n",
       "      <td>1</td>\n",
       "    </tr>\n",
       "    <tr>\n",
       "      <th>7</th>\n",
       "      <td>5.770000e+12</td>\n",
       "      <td>Twinning Combo</td>\n",
       "      <td>Maharashtra</td>\n",
       "      <td>1</td>\n",
       "      <td>1355.08</td>\n",
       "      <td>1219.58</td>\n",
       "      <td>1439.10</td>\n",
       "      <td>1</td>\n",
       "    </tr>\n",
       "  </tbody>\n",
       "</table>\n",
       "</div>"
      ],
      "text/plain": [
       "    customer_id               product_type shipping_region  orders  \\\n",
       "0  5.440000e+12  Maternity and Nursing Top         Haryana       1   \n",
       "1  5.730000e+12                   Baby Oil         Haryana       1   \n",
       "3  5.730000e+12       Baby Anti-Slip Socks         Haryana       1   \n",
       "5  5.770000e+12  Maternity and Nursing Top   Uttar Pradesh       1   \n",
       "7  5.770000e+12             Twinning Combo     Maharashtra       1   \n",
       "\n",
       "   gross_sales  net_sales  total_sales  ordered_item_quantity  \n",
       "0      1439.83    1123.07      1325.22                      1  \n",
       "1       422.03     379.83       448.20                      1  \n",
       "3       677.12     609.41       719.10                      1  \n",
       "5      1524.58    1524.58      1799.00                      1  \n",
       "7      1355.08    1219.58      1439.10                      1  "
      ]
     },
     "execution_count": 46,
     "metadata": {},
     "output_type": "execute_result"
    }
   ],
   "source": []
  },
  {
   "cell_type": "code",
   "execution_count": 47,
   "metadata": {},
   "outputs": [],
   "source": [
    "def convert_sqft_to_num(x):\n",
    "    tokens = x.split('-')\n",
    "    if len(tokens) ==2:\n",
    "        return (float(tokens[0])+float(tokens[1]))/2\n",
    "    try:\n",
    "        return float(x)\n",
    "    except:\n",
    "        return None"
   ]
  },
  {
   "cell_type": "code",
   "execution_count": 49,
   "metadata": {},
   "outputs": [
    {
     "data": {
      "text/plain": [
       "1562.0"
      ]
     },
     "execution_count": 49,
     "metadata": {},
     "output_type": "execute_result"
    }
   ],
   "source": [
    "convert_sqft_to_num('1325-1799')"
   ]
  },
  {
   "cell_type": "code",
   "execution_count": 50,
   "metadata": {},
   "outputs": [
    {
     "ename": "AttributeError",
     "evalue": "'float' object has no attribute 'split'",
     "output_type": "error",
     "traceback": [
      "\u001b[1;31m---------------------------------------------------------------------------\u001b[0m",
      "\u001b[1;31mAttributeError\u001b[0m                            Traceback (most recent call last)",
      "\u001b[1;32m<ipython-input-50-cd23fa04222b>\u001b[0m in \u001b[0;36m<module>\u001b[1;34m\u001b[0m\n\u001b[0;32m      2\u001b[0m \u001b[1;33m\u001b[0m\u001b[0m\n\u001b[0;32m      3\u001b[0m \u001b[0mdf4\u001b[0m \u001b[1;33m=\u001b[0m \u001b[0mdf3\u001b[0m\u001b[1;33m.\u001b[0m\u001b[0mcopy\u001b[0m\u001b[1;33m(\u001b[0m\u001b[1;33m)\u001b[0m \u001b[1;31m#it will copy the whole data of df3 to df4\u001b[0m\u001b[1;33m\u001b[0m\u001b[1;33m\u001b[0m\u001b[0m\n\u001b[1;32m----> 4\u001b[1;33m \u001b[0mdf4\u001b[0m\u001b[1;33m[\u001b[0m\u001b[1;34m'total_sales'\u001b[0m\u001b[1;33m]\u001b[0m \u001b[1;33m=\u001b[0m \u001b[0mdf4\u001b[0m\u001b[1;33m[\u001b[0m\u001b[1;34m'total_sales'\u001b[0m\u001b[1;33m]\u001b[0m\u001b[1;33m.\u001b[0m\u001b[0mapply\u001b[0m\u001b[1;33m(\u001b[0m\u001b[0mconvert_sqft_to_num\u001b[0m\u001b[1;33m)\u001b[0m\u001b[1;33m\u001b[0m\u001b[1;33m\u001b[0m\u001b[0m\n\u001b[0m\u001b[0;32m      5\u001b[0m \u001b[0mdf4\u001b[0m\u001b[1;33m.\u001b[0m\u001b[0mhead\u001b[0m\u001b[1;33m(\u001b[0m\u001b[1;36m5\u001b[0m\u001b[1;33m)\u001b[0m\u001b[1;33m\u001b[0m\u001b[1;33m\u001b[0m\u001b[0m\n",
      "\u001b[1;32m~\\anaconda3\\lib\\site-packages\\pandas\\core\\series.py\u001b[0m in \u001b[0;36mapply\u001b[1;34m(self, func, convert_dtype, args, **kwds)\u001b[0m\n\u001b[0;32m   3846\u001b[0m             \u001b[1;32melse\u001b[0m\u001b[1;33m:\u001b[0m\u001b[1;33m\u001b[0m\u001b[1;33m\u001b[0m\u001b[0m\n\u001b[0;32m   3847\u001b[0m                 \u001b[0mvalues\u001b[0m \u001b[1;33m=\u001b[0m \u001b[0mself\u001b[0m\u001b[1;33m.\u001b[0m\u001b[0mastype\u001b[0m\u001b[1;33m(\u001b[0m\u001b[0mobject\u001b[0m\u001b[1;33m)\u001b[0m\u001b[1;33m.\u001b[0m\u001b[0mvalues\u001b[0m\u001b[1;33m\u001b[0m\u001b[1;33m\u001b[0m\u001b[0m\n\u001b[1;32m-> 3848\u001b[1;33m                 \u001b[0mmapped\u001b[0m \u001b[1;33m=\u001b[0m \u001b[0mlib\u001b[0m\u001b[1;33m.\u001b[0m\u001b[0mmap_infer\u001b[0m\u001b[1;33m(\u001b[0m\u001b[0mvalues\u001b[0m\u001b[1;33m,\u001b[0m \u001b[0mf\u001b[0m\u001b[1;33m,\u001b[0m \u001b[0mconvert\u001b[0m\u001b[1;33m=\u001b[0m\u001b[0mconvert_dtype\u001b[0m\u001b[1;33m)\u001b[0m\u001b[1;33m\u001b[0m\u001b[1;33m\u001b[0m\u001b[0m\n\u001b[0m\u001b[0;32m   3849\u001b[0m \u001b[1;33m\u001b[0m\u001b[0m\n\u001b[0;32m   3850\u001b[0m         \u001b[1;32mif\u001b[0m \u001b[0mlen\u001b[0m\u001b[1;33m(\u001b[0m\u001b[0mmapped\u001b[0m\u001b[1;33m)\u001b[0m \u001b[1;32mand\u001b[0m \u001b[0misinstance\u001b[0m\u001b[1;33m(\u001b[0m\u001b[0mmapped\u001b[0m\u001b[1;33m[\u001b[0m\u001b[1;36m0\u001b[0m\u001b[1;33m]\u001b[0m\u001b[1;33m,\u001b[0m \u001b[0mSeries\u001b[0m\u001b[1;33m)\u001b[0m\u001b[1;33m:\u001b[0m\u001b[1;33m\u001b[0m\u001b[1;33m\u001b[0m\u001b[0m\n",
      "\u001b[1;32mpandas\\_libs\\lib.pyx\u001b[0m in \u001b[0;36mpandas._libs.lib.map_infer\u001b[1;34m()\u001b[0m\n",
      "\u001b[1;32m<ipython-input-47-c2932bb9439d>\u001b[0m in \u001b[0;36mconvert_sqft_to_num\u001b[1;34m(x)\u001b[0m\n\u001b[0;32m      1\u001b[0m \u001b[1;32mdef\u001b[0m \u001b[0mconvert_sqft_to_num\u001b[0m\u001b[1;33m(\u001b[0m\u001b[0mx\u001b[0m\u001b[1;33m)\u001b[0m\u001b[1;33m:\u001b[0m\u001b[1;33m\u001b[0m\u001b[1;33m\u001b[0m\u001b[0m\n\u001b[1;32m----> 2\u001b[1;33m     \u001b[0mtokens\u001b[0m \u001b[1;33m=\u001b[0m \u001b[0mx\u001b[0m\u001b[1;33m.\u001b[0m\u001b[0msplit\u001b[0m\u001b[1;33m(\u001b[0m\u001b[1;34m'-'\u001b[0m\u001b[1;33m)\u001b[0m\u001b[1;33m\u001b[0m\u001b[1;33m\u001b[0m\u001b[0m\n\u001b[0m\u001b[0;32m      3\u001b[0m     \u001b[1;32mif\u001b[0m \u001b[0mlen\u001b[0m\u001b[1;33m(\u001b[0m\u001b[0mtokens\u001b[0m\u001b[1;33m)\u001b[0m \u001b[1;33m==\u001b[0m\u001b[1;36m2\u001b[0m\u001b[1;33m:\u001b[0m\u001b[1;33m\u001b[0m\u001b[1;33m\u001b[0m\u001b[0m\n\u001b[0;32m      4\u001b[0m         \u001b[1;32mreturn\u001b[0m \u001b[1;33m(\u001b[0m\u001b[0mfloat\u001b[0m\u001b[1;33m(\u001b[0m\u001b[0mtokens\u001b[0m\u001b[1;33m[\u001b[0m\u001b[1;36m0\u001b[0m\u001b[1;33m]\u001b[0m\u001b[1;33m)\u001b[0m\u001b[1;33m+\u001b[0m\u001b[0mfloat\u001b[0m\u001b[1;33m(\u001b[0m\u001b[0mtokens\u001b[0m\u001b[1;33m[\u001b[0m\u001b[1;36m1\u001b[0m\u001b[1;33m]\u001b[0m\u001b[1;33m)\u001b[0m\u001b[1;33m)\u001b[0m\u001b[1;33m/\u001b[0m\u001b[1;36m2\u001b[0m\u001b[1;33m\u001b[0m\u001b[1;33m\u001b[0m\u001b[0m\n\u001b[0;32m      5\u001b[0m     \u001b[1;32mtry\u001b[0m\u001b[1;33m:\u001b[0m\u001b[1;33m\u001b[0m\u001b[1;33m\u001b[0m\u001b[0m\n",
      "\u001b[1;31mAttributeError\u001b[0m: 'float' object has no attribute 'split'"
     ]
    }
   ],
   "source": [
    "#now tp apply it to whole dataset, we will make a new dataframe and apply the function to it.\n",
    "\n",
    "df4 = df3.copy() #it will copy the whole data of df3 to df4\n",
    "df4['total_sales'] = df4['total_sales'].apply(convert_sqft_to_num)\n",
    "df4.head(5)"
   ]
  },
  {
   "cell_type": "code",
   "execution_count": null,
   "metadata": {},
   "outputs": [],
   "source": []
  }
 ],
 "metadata": {
  "kernelspec": {
   "display_name": "Python 3",
   "language": "python",
   "name": "python3"
  },
  "language_info": {
   "codemirror_mode": {
    "name": "ipython",
    "version": 3
   },
   "file_extension": ".py",
   "mimetype": "text/x-python",
   "name": "python",
   "nbconvert_exporter": "python",
   "pygments_lexer": "ipython3",
   "version": "3.7.6"
  }
 },
 "nbformat": 4,
 "nbformat_minor": 4
}
